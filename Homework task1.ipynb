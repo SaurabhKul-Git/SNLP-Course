{
 "cells": [
  {
   "cell_type": "code",
   "execution_count": 1,
   "metadata": {},
   "outputs": [],
   "source": [
    "import nltk"
   ]
  },
  {
   "cell_type": "code",
   "execution_count": 4,
   "metadata": {},
   "outputs": [
    {
     "data": {
      "text/plain": [
       "['President',\n",
       " 'Clinton',\n",
       " ',',\n",
       " 'distinguished',\n",
       " 'guests',\n",
       " 'and',\n",
       " 'my',\n",
       " 'fellow',\n",
       " 'citizens',\n",
       " ',',\n",
       " 'the',\n",
       " 'peaceful',\n",
       " 'transfer',\n",
       " 'of',\n",
       " 'authority',\n",
       " 'is',\n",
       " 'rare',\n",
       " 'in',\n",
       " 'history',\n",
       " ',',\n",
       " 'yet',\n",
       " 'common',\n",
       " 'in',\n",
       " 'our',\n",
       " 'country',\n",
       " '.',\n",
       " 'With',\n",
       " 'a',\n",
       " 'simple',\n",
       " 'oath',\n",
       " ',',\n",
       " 'we',\n",
       " 'affirm',\n",
       " 'old',\n",
       " 'traditions',\n",
       " 'and',\n",
       " 'make',\n",
       " 'new',\n",
       " 'beginnings',\n",
       " '.',\n",
       " 'As',\n",
       " 'I',\n",
       " 'begin',\n",
       " ',',\n",
       " 'I',\n",
       " 'thank',\n",
       " 'President',\n",
       " 'Clinton',\n",
       " 'for',\n",
       " 'his']"
      ]
     },
     "execution_count": 4,
     "metadata": {},
     "output_type": "execute_result"
    }
   ],
   "source": [
    "#homework task\n",
    "from nltk.corpus import inaugural\n",
    "inaugural.words(fileids='2001-Bush.txt')[:50]"
   ]
  },
  {
   "cell_type": "code",
   "execution_count": 5,
   "metadata": {},
   "outputs": [],
   "source": [
    "list=inaugural.words(fileids='2001-Bush.txt')"
   ]
  },
  {
   "cell_type": "code",
   "execution_count": 6,
   "metadata": {},
   "outputs": [
    {
     "data": {
      "text/plain": [
       "['President', 'Clinton', ',', 'distinguished', ...]"
      ]
     },
     "execution_count": 6,
     "metadata": {},
     "output_type": "execute_result"
    }
   ],
   "source": [
    "list"
   ]
  },
  {
   "cell_type": "code",
   "execution_count": 7,
   "metadata": {},
   "outputs": [],
   "source": [
    "fd = nltk.FreqDist(list)"
   ]
  },
  {
   "cell_type": "code",
   "execution_count": 8,
   "metadata": {},
   "outputs": [
    {
     "data": {
      "text/plain": [
       "FreqDist({',': 110, '.': 96, 'and': 64, 'of': 58, 'the': 48, 'our': 46, 'a': 45, 'to': 45, 'we': 33, 'is': 31, ...})"
      ]
     },
     "execution_count": 8,
     "metadata": {},
     "output_type": "execute_result"
    }
   ],
   "source": [
    "fd"
   ]
  },
  {
   "cell_type": "code",
   "execution_count": 9,
   "metadata": {},
   "outputs": [],
   "source": [
    "#A conditional fre-\n",
    "#quency distribution is a collection of frequency distributions, each one for a different\n",
    "#“condition.” The condition will often be the category of the text.\n",
    "from nltk.probability import ConditionalFreqDist\n",
    "ccfd = ConditionalFreqDist((len(word), word) for word in list)"
   ]
  },
  {
   "cell_type": "code",
   "execution_count": 10,
   "metadata": {},
   "outputs": [
    {
     "data": {
      "text/plain": [
       "FreqDist({'will': 23, 'that': 18, 'this': 11, 'with': 9, 'must': 6, 'have': 5, 'know': 5, 'many': 4, 'more': 4, 'work': 4, ...})"
      ]
     },
     "execution_count": 10,
     "metadata": {},
     "output_type": "execute_result"
    }
   ],
   "source": [
    "ccfd[4]"
   ]
  },
  {
   "cell_type": "code",
   "execution_count": 11,
   "metadata": {},
   "outputs": [
    {
     "data": {
      "text/plain": [
       "FreqDist({'story': 10, 'these': 5, 'power': 4, 'their': 4, 'every': 4, 'never': 4, 'place': 3, 'world': 3, 'lives': 3, 'faith': 3, ...})"
      ]
     },
     "execution_count": 11,
     "metadata": {},
     "output_type": "execute_result"
    }
   ],
   "source": [
    "ccfd[5]"
   ]
  },
  {
   "cell_type": "code",
   "execution_count": 12,
   "metadata": {},
   "outputs": [
    {
     "data": {
      "text/plain": [
       "FreqDist({'nation': 11, 'common': 5, 'ideals': 4, 'beyond': 4, 'public': 4, 'affirm': 3, 'spirit': 3, 'defend': 3, 'called': 3, 'simple': 2, ...})"
      ]
     },
     "execution_count": 12,
     "metadata": {},
     "output_type": "execute_result"
    }
   ],
   "source": [
    "ccfd[6]"
   ]
  },
  {
   "cell_type": "code",
   "execution_count": null,
   "metadata": {},
   "outputs": [],
   "source": []
  },
  {
   "cell_type": "code",
   "execution_count": null,
   "metadata": {},
   "outputs": [],
   "source": []
  }
 ],
 "metadata": {
  "kernelspec": {
   "display_name": "Python 3",
   "language": "python",
   "name": "python3"
  },
  "language_info": {
   "codemirror_mode": {
    "name": "ipython",
    "version": 3
   },
   "file_extension": ".py",
   "mimetype": "text/x-python",
   "name": "python",
   "nbconvert_exporter": "python",
   "pygments_lexer": "ipython3",
   "version": "3.7.4"
  }
 },
 "nbformat": 4,
 "nbformat_minor": 2
}
