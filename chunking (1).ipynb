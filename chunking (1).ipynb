{
 "cells": [
  {
   "cell_type": "code",
   "execution_count": 3,
   "metadata": {
    "ExecuteTime": {
     "end_time": "2020-06-25T07:49:14.799991Z",
     "start_time": "2020-06-25T07:48:54.135609Z"
    }
   },
   "outputs": [],
   "source": [
    "import nltk"
   ]
  },
  {
   "cell_type": "code",
   "execution_count": 1,
   "metadata": {
    "ExecuteTime": {
     "end_time": "2020-06-25T02:49:45.446866Z",
     "start_time": "2020-06-25T02:49:45.388901Z"
    }
   },
   "outputs": [],
   "source": [
    "sentence = [(\"the\", \"DT\"), (\"little\", \"JJ\"), (\"yellow\", \"JJ\"),(\"dog\", \"NN\"), (\"barked\", \"VBD\"), (\"at\", \"IN\"),  (\"the\", \"DT\"), (\"cat\", \"NN\")]"
   ]
  },
  {
   "cell_type": "code",
   "execution_count": 15,
   "metadata": {
    "ExecuteTime": {
     "end_time": "2020-06-25T03:03:13.790011Z",
     "start_time": "2020-06-25T03:03:13.785011Z"
    }
   },
   "outputs": [],
   "source": [
    "sentencen1 = \"I observed that X had a keen interest and was fully involved in the course when I saw his performances during the Lab sessions, where he would be able to grasp new concepts such as query formation and joins.\""
   ]
  },
  {
   "cell_type": "code",
   "execution_count": 3,
   "metadata": {
    "ExecuteTime": {
     "end_time": "2020-06-25T02:50:35.950884Z",
     "start_time": "2020-06-25T02:50:35.941890Z"
    }
   },
   "outputs": [],
   "source": [
    "grammer = \"NP: {<DT>?<JJ>*<NN>}\""
   ]
  },
  {
   "cell_type": "code",
   "execution_count": 9,
   "metadata": {
    "ExecuteTime": {
     "end_time": "2020-06-25T02:57:28.612295Z",
     "start_time": "2020-06-25T02:57:28.606294Z"
    }
   },
   "outputs": [],
   "source": [
    "cp = nltk.RegexpParser(grammer)"
   ]
  },
  {
   "cell_type": "code",
   "execution_count": 5,
   "metadata": {
    "ExecuteTime": {
     "end_time": "2020-06-25T02:51:13.726754Z",
     "start_time": "2020-06-25T02:51:13.713760Z"
    }
   },
   "outputs": [],
   "source": [
    "result = cp.parse(sentence)"
   ]
  },
  {
   "cell_type": "code",
   "execution_count": 6,
   "metadata": {
    "ExecuteTime": {
     "end_time": "2020-06-25T02:51:22.378691Z",
     "start_time": "2020-06-25T02:51:22.358686Z"
    }
   },
   "outputs": [
    {
     "name": "stdout",
     "output_type": "stream",
     "text": [
      "(S\n",
      "  (NP the/DT little/JJ yellow/JJ dog/NN)\n",
      "  barked/VBD\n",
      "  at/IN\n",
      "  (NP the/DT cat/NN))\n"
     ]
    }
   ],
   "source": [
    "print(result)"
   ]
  },
  {
   "cell_type": "code",
   "execution_count": 7,
   "metadata": {
    "ExecuteTime": {
     "end_time": "2020-06-25T02:55:13.311494Z",
     "start_time": "2020-06-25T02:52:47.363430Z"
    }
   },
   "outputs": [],
   "source": [
    "result.draw()"
   ]
  },
  {
   "cell_type": "code",
   "execution_count": 24,
   "metadata": {
    "ExecuteTime": {
     "end_time": "2020-06-25T03:04:26.278699Z",
     "start_time": "2020-06-25T03:04:26.241700Z"
    }
   },
   "outputs": [],
   "source": [
    "result_lor = cp.parse(nltk.pos_tag(sentencen1))"
   ]
  },
  {
   "cell_type": "code",
   "execution_count": 32,
   "metadata": {
    "ExecuteTime": {
     "end_time": "2020-06-25T06:42:20.597641Z",
     "start_time": "2020-06-25T06:42:16.527225Z"
    }
   },
   "outputs": [
    {
     "name": "stderr",
     "output_type": "stream",
     "text": [
      "The Ghostscript executable isn't found.\n",
      "See http://web.mit.edu/ghostscript/www/Install.htm\n",
      "If you're using a Mac, you can try installing\n",
      "https://docs.brew.sh/Installation then `brew install ghostscript`\n"
     ]
    },
    {
     "ename": "LookupError",
     "evalue": "",
     "output_type": "error",
     "traceback": [
      "\u001b[1;31m---------------------------------------------------------------------------\u001b[0m",
      "\u001b[1;31mLookupError\u001b[0m                               Traceback (most recent call last)",
      "\u001b[1;32m~\\AppData\\Local\\Continuum\\anaconda3\\lib\\site-packages\\nltk\\tree.py\u001b[0m in \u001b[0;36m_repr_png_\u001b[1;34m(self)\u001b[0m\n\u001b[0;32m    805\u001b[0m                             \u001b[0menv_vars\u001b[0m\u001b[1;33m=\u001b[0m\u001b[1;33m[\u001b[0m\u001b[1;34m'PATH'\u001b[0m\u001b[1;33m]\u001b[0m\u001b[1;33m,\u001b[0m\u001b[1;33m\u001b[0m\u001b[1;33m\u001b[0m\u001b[0m\n\u001b[1;32m--> 806\u001b[1;33m                             \u001b[0mverbose\u001b[0m\u001b[1;33m=\u001b[0m\u001b[1;32mFalse\u001b[0m\u001b[1;33m,\u001b[0m\u001b[1;33m\u001b[0m\u001b[1;33m\u001b[0m\u001b[0m\n\u001b[0m\u001b[0;32m    807\u001b[0m                         )\n",
      "\u001b[1;32m~\\AppData\\Local\\Continuum\\anaconda3\\lib\\site-packages\\nltk\\internals.py\u001b[0m in \u001b[0;36mfind_binary\u001b[1;34m(name, path_to_bin, env_vars, searchpath, binary_names, url, verbose)\u001b[0m\n\u001b[0;32m    696\u001b[0m         find_binary_iter(\n\u001b[1;32m--> 697\u001b[1;33m             \u001b[0mname\u001b[0m\u001b[1;33m,\u001b[0m \u001b[0mpath_to_bin\u001b[0m\u001b[1;33m,\u001b[0m \u001b[0menv_vars\u001b[0m\u001b[1;33m,\u001b[0m \u001b[0msearchpath\u001b[0m\u001b[1;33m,\u001b[0m \u001b[0mbinary_names\u001b[0m\u001b[1;33m,\u001b[0m \u001b[0murl\u001b[0m\u001b[1;33m,\u001b[0m \u001b[0mverbose\u001b[0m\u001b[1;33m\u001b[0m\u001b[1;33m\u001b[0m\u001b[0m\n\u001b[0m\u001b[0;32m    698\u001b[0m         )\n",
      "\u001b[1;32m~\\AppData\\Local\\Continuum\\anaconda3\\lib\\site-packages\\nltk\\internals.py\u001b[0m in \u001b[0;36mfind_binary_iter\u001b[1;34m(name, path_to_bin, env_vars, searchpath, binary_names, url, verbose)\u001b[0m\n\u001b[0;32m    680\u001b[0m     for file in find_file_iter(\n\u001b[1;32m--> 681\u001b[1;33m         \u001b[0mpath_to_bin\u001b[0m \u001b[1;32mor\u001b[0m \u001b[0mname\u001b[0m\u001b[1;33m,\u001b[0m \u001b[0menv_vars\u001b[0m\u001b[1;33m,\u001b[0m \u001b[0msearchpath\u001b[0m\u001b[1;33m,\u001b[0m \u001b[0mbinary_names\u001b[0m\u001b[1;33m,\u001b[0m \u001b[0murl\u001b[0m\u001b[1;33m,\u001b[0m \u001b[0mverbose\u001b[0m\u001b[1;33m\u001b[0m\u001b[1;33m\u001b[0m\u001b[0m\n\u001b[0m\u001b[0;32m    682\u001b[0m     ):\n",
      "\u001b[1;32m~\\AppData\\Local\\Continuum\\anaconda3\\lib\\site-packages\\nltk\\internals.py\u001b[0m in \u001b[0;36mfind_file_iter\u001b[1;34m(filename, env_vars, searchpath, file_names, url, verbose, finding_dir)\u001b[0m\n\u001b[0;32m    638\u001b[0m         \u001b[0mdiv\u001b[0m \u001b[1;33m=\u001b[0m \u001b[1;34m'='\u001b[0m \u001b[1;33m*\u001b[0m \u001b[1;36m75\u001b[0m\u001b[1;33m\u001b[0m\u001b[1;33m\u001b[0m\u001b[0m\n\u001b[1;32m--> 639\u001b[1;33m         \u001b[1;32mraise\u001b[0m \u001b[0mLookupError\u001b[0m\u001b[1;33m(\u001b[0m\u001b[1;34m'\\n\\n%s\\n%s\\n%s'\u001b[0m \u001b[1;33m%\u001b[0m \u001b[1;33m(\u001b[0m\u001b[0mdiv\u001b[0m\u001b[1;33m,\u001b[0m \u001b[0mmsg\u001b[0m\u001b[1;33m,\u001b[0m \u001b[0mdiv\u001b[0m\u001b[1;33m)\u001b[0m\u001b[1;33m)\u001b[0m\u001b[1;33m\u001b[0m\u001b[1;33m\u001b[0m\u001b[0m\n\u001b[0m\u001b[0;32m    640\u001b[0m \u001b[1;33m\u001b[0m\u001b[0m\n",
      "\u001b[1;31mLookupError\u001b[0m: \n\n===========================================================================\nNLTK was unable to find the gs file!\nUse software specific configuration paramaters or set the PATH environment variable.\n===========================================================================",
      "\nDuring handling of the above exception, another exception occurred:\n",
      "\u001b[1;31mLookupError\u001b[0m                               Traceback (most recent call last)",
      "\u001b[1;32m~\\AppData\\Local\\Continuum\\anaconda3\\lib\\site-packages\\IPython\\core\\formatters.py\u001b[0m in \u001b[0;36m__call__\u001b[1;34m(self, obj)\u001b[0m\n\u001b[0;32m    343\u001b[0m             \u001b[0mmethod\u001b[0m \u001b[1;33m=\u001b[0m \u001b[0mget_real_method\u001b[0m\u001b[1;33m(\u001b[0m\u001b[0mobj\u001b[0m\u001b[1;33m,\u001b[0m \u001b[0mself\u001b[0m\u001b[1;33m.\u001b[0m\u001b[0mprint_method\u001b[0m\u001b[1;33m)\u001b[0m\u001b[1;33m\u001b[0m\u001b[1;33m\u001b[0m\u001b[0m\n\u001b[0;32m    344\u001b[0m             \u001b[1;32mif\u001b[0m \u001b[0mmethod\u001b[0m \u001b[1;32mis\u001b[0m \u001b[1;32mnot\u001b[0m \u001b[1;32mNone\u001b[0m\u001b[1;33m:\u001b[0m\u001b[1;33m\u001b[0m\u001b[1;33m\u001b[0m\u001b[0m\n\u001b[1;32m--> 345\u001b[1;33m                 \u001b[1;32mreturn\u001b[0m \u001b[0mmethod\u001b[0m\u001b[1;33m(\u001b[0m\u001b[1;33m)\u001b[0m\u001b[1;33m\u001b[0m\u001b[1;33m\u001b[0m\u001b[0m\n\u001b[0m\u001b[0;32m    346\u001b[0m             \u001b[1;32mreturn\u001b[0m \u001b[1;32mNone\u001b[0m\u001b[1;33m\u001b[0m\u001b[1;33m\u001b[0m\u001b[0m\n\u001b[0;32m    347\u001b[0m         \u001b[1;32melse\u001b[0m\u001b[1;33m:\u001b[0m\u001b[1;33m\u001b[0m\u001b[1;33m\u001b[0m\u001b[0m\n",
      "\u001b[1;32m~\\AppData\\Local\\Continuum\\anaconda3\\lib\\site-packages\\nltk\\tree.py\u001b[0m in \u001b[0;36m_repr_png_\u001b[1;34m(self)\u001b[0m\n\u001b[0;32m    817\u001b[0m                                         \"https://docs.brew.sh/Installation then `brew install ghostscript`\")                \n\u001b[0;32m    818\u001b[0m                 \u001b[0mprint\u001b[0m\u001b[1;33m(\u001b[0m\u001b[0mpre_error_message\u001b[0m\u001b[1;33m,\u001b[0m \u001b[0mfile\u001b[0m\u001b[1;33m=\u001b[0m\u001b[0msys\u001b[0m\u001b[1;33m.\u001b[0m\u001b[0mstderr\u001b[0m\u001b[1;33m)\u001b[0m\u001b[1;33m\u001b[0m\u001b[1;33m\u001b[0m\u001b[0m\n\u001b[1;32m--> 819\u001b[1;33m                 \u001b[1;32mraise\u001b[0m \u001b[0mLookupError\u001b[0m\u001b[1;33m\u001b[0m\u001b[1;33m\u001b[0m\u001b[0m\n\u001b[0m\u001b[0;32m    820\u001b[0m \u001b[1;33m\u001b[0m\u001b[0m\n\u001b[0;32m    821\u001b[0m             \u001b[1;32mwith\u001b[0m \u001b[0mopen\u001b[0m\u001b[1;33m(\u001b[0m\u001b[0mout_path\u001b[0m\u001b[1;33m,\u001b[0m \u001b[1;34m'rb'\u001b[0m\u001b[1;33m)\u001b[0m \u001b[1;32mas\u001b[0m \u001b[0msr\u001b[0m\u001b[1;33m:\u001b[0m\u001b[1;33m\u001b[0m\u001b[1;33m\u001b[0m\u001b[0m\n",
      "\u001b[1;31mLookupError\u001b[0m: "
     ]
    },
    {
     "data": {
      "text/plain": [
       "Tree('S', [('I', 'PRP'), (' ', 'VBP'), Tree('NP', [('o', 'JJ'), ('b', 'NN')]), Tree('NP', [('s', 'NN')]), Tree('NP', [('e', 'NN')]), Tree('NP', [('r', 'NN')]), Tree('NP', [('v', 'NN')]), Tree('NP', [('e', 'NN')]), Tree('NP', [('d', 'NN')]), (' ', 'NNP'), Tree('NP', [('t', 'NN')]), ('h', 'VBD'), Tree('NP', [('a', 'DT'), ('t', 'NN')]), (' ', 'NNP'), ('X', 'NNP'), (' ', 'NNP'), ('h', 'VBD'), Tree('NP', [('a', 'DT'), ('d', 'NN')]), (' ', 'VBZ'), Tree('NP', [('a', 'DT'), (' ', 'JJ'), ('k', 'NN')]), Tree('NP', [('e', 'NN')]), Tree('NP', [('e', 'NN')]), ('n', 'IN'), Tree('NP', [(' ', 'NN')]), Tree('NP', [('i', 'NN')]), ('n', 'VBP'), Tree('NP', [('t', 'NN')]), Tree('NP', [('e', 'NN')]), Tree('NP', [('r', 'NN')]), Tree('NP', [('e', 'NN')]), Tree('NP', [('s', 'NN')]), Tree('NP', [('t', 'NN')]), (' ', 'VBZ'), Tree('NP', [('a', 'DT'), ('n', 'JJ'), ('d', 'NN')]), (' ', 'NNP'), ('w', 'VBZ'), Tree('NP', [('a', 'DT'), ('s', 'JJ'), (' ', 'NN')]), Tree('NP', [('f', 'NN')]), Tree('NP', [('u', 'JJ'), ('l', 'NN')]), Tree('NP', [('l', 'NN')]), Tree('NP', [('y', 'NN')]), Tree('NP', [(' ', 'NN')]), Tree('NP', [('i', 'NN')]), ('n', 'VBP'), Tree('NP', [('v', 'NN')]), Tree('NP', [('o', 'NN')]), Tree('NP', [('l', 'NN')]), Tree('NP', [('v', 'NN')]), Tree('NP', [('e', 'NN')]), Tree('NP', [('d', 'NN')]), Tree('NP', [(' ', 'NN')]), Tree('NP', [('i', 'NN')]), ('n', 'VBP'), Tree('NP', [(' ', 'JJ'), ('t', 'NN')]), Tree('NP', [('h', 'NN')]), Tree('NP', [('e', 'NN')]), (' ', 'NNP'), ('c', 'VBZ'), Tree('NP', [('o', 'JJ'), ('u', 'JJ'), ('r', 'NN')]), Tree('NP', [('s', 'NN')]), Tree('NP', [('e', 'NN')]), (' ', 'NNP'), Tree('NP', [('w', 'NN')]), Tree('NP', [('h', 'NN')]), Tree('NP', [('e', 'NN')]), ('n', 'IN'), Tree('NP', [(' ', 'NN')]), ('I', 'PRP'), (' ', 'VBP'), ('s', 'PDT'), Tree('NP', [('a', 'DT'), ('w', 'NN')]), Tree('NP', [(' ', 'NN')]), Tree('NP', [('h', 'NN')]), ('i', 'JJ'), ('s', 'VBP'), Tree('NP', [(' ', 'JJ'), ('p', 'NN')]), Tree('NP', [('e', 'NN')]), Tree('NP', [('r', 'NN')]), Tree('NP', [('f', 'NN')]), Tree('NP', [('o', 'NN')]), Tree('NP', [('r', 'NN')]), ('m', 'VBD'), Tree('NP', [('a', 'DT'), ('n', 'JJ'), ('c', 'NN')]), Tree('NP', [('e', 'NN')]), ('s', 'JJ'), (' ', 'NNP'), Tree('NP', [('d', 'NN')]), Tree('NP', [('u', 'JJ'), ('r', 'NN')]), Tree('NP', [('i', 'NN')]), ('n', 'VBP'), Tree('NP', [('g', 'NN')]), (' ', 'NNP'), Tree('NP', [('t', 'NN')]), Tree('NP', [('h', 'NN')]), Tree('NP', [('e', 'NN')]), (' ', 'NNP'), ('L', 'NNP'), Tree('NP', [('a', 'DT'), ('b', 'NN')]), Tree('NP', [(' ', 'NN')]), Tree('NP', [('s', 'NN')]), Tree('NP', [('e', 'NN')]), ('s', 'VBD'), Tree('NP', [('s', 'JJ'), ('i', 'NN')]), ('o', 'VBP'), Tree('NP', [('n', 'JJ'), ('s', 'NN')]), (',', ','), (' ', 'NNP'), ('w', 'VBZ'), Tree('NP', [('h', 'NN')]), Tree('NP', [('e', 'NN')]), Tree('NP', [('r', 'NN')]), Tree('NP', [('e', 'NN')]), (' ', 'NNP'), Tree('NP', [('h', 'NN')]), Tree('NP', [('e', 'NN')]), (' ', 'NNP'), Tree('NP', [('w', 'NN')]), Tree('NP', [('o', 'NN')]), Tree('NP', [('u', 'JJ'), ('l', 'NN')]), Tree('NP', [('d', 'NN')]), Tree('NP', [(' ', 'NN')]), Tree('NP', [('b', 'NN')]), Tree('NP', [('e', 'NN')]), (' ', 'VBZ'), Tree('NP', [('a', 'DT'), ('b', 'NN')]), Tree('NP', [('l', 'NN')]), Tree('NP', [('e', 'NN')]), (' ', 'NNP'), Tree('NP', [('t', 'NN')]), Tree('NP', [('o', 'NN')]), (' ', 'NNP'), Tree('NP', [('g', 'NN')]), Tree('NP', [('r', 'NN')]), Tree('NP', [('a', 'DT'), ('s', 'JJ'), ('p', 'NN')]), (' ', 'NNP'), ('n', 'CC'), Tree('NP', [('e', 'JJ'), ('w', 'NN')]), (' ', 'NNP'), ('c', 'VBZ'), Tree('NP', [('o', 'JJ'), ('n', 'JJ'), ('c', 'NN')]), Tree('NP', [('e', 'NN')]), Tree('NP', [('p', 'NN')]), Tree('NP', [('t', 'NN')]), Tree('NP', [('s', 'NN')]), (' ', 'NNP'), Tree('NP', [('s', 'NN')]), Tree('NP', [('u', 'JJ'), ('c', 'NN')]), Tree('NP', [('h', 'NN')]), (' ', 'VBZ'), Tree('NP', [('a', 'DT'), ('s', 'JJ'), (' ', 'NN')]), Tree('NP', [('q', 'NN')]), Tree('NP', [('u', 'JJ'), ('e', 'NN')]), Tree('NP', [('r', 'NN')]), Tree('NP', [('y', 'NN')]), (' ', 'NNP'), Tree('NP', [('f', 'NN')]), Tree('NP', [('o', 'NN')]), Tree('NP', [('r', 'NN')]), ('m', 'VBD'), Tree('NP', [('a', 'DT'), ('t', 'NN')]), Tree('NP', [('i', 'NN')]), ('o', 'VBP'), ('n', 'RB'), (' ', 'VBP'), Tree('NP', [('a', 'DT'), ('n', 'JJ'), ('d', 'NN')]), (' ', 'NNP'), Tree('NP', [('j', 'NN')]), Tree('NP', [('o', 'NN')]), Tree('NP', [('i', 'NN')]), ('n', 'VBP'), Tree('NP', [('s', 'NN')]), ('.', '.')])"
      ]
     },
     "execution_count": 32,
     "metadata": {},
     "output_type": "execute_result"
    }
   ],
   "source": [
    "result_lor"
   ]
  },
  {
   "cell_type": "code",
   "execution_count": 26,
   "metadata": {
    "ExecuteTime": {
     "end_time": "2020-06-25T03:13:26.926636Z",
     "start_time": "2020-06-25T03:05:45.263420Z"
    }
   },
   "outputs": [],
   "source": [
    "result_lor.draw()"
   ]
  },
  {
   "cell_type": "code",
   "execution_count": 29,
   "metadata": {
    "ExecuteTime": {
     "end_time": "2020-06-25T03:16:32.308217Z",
     "start_time": "2020-06-25T03:16:31.812564Z"
    }
   },
   "outputs": [],
   "source": [
    "chunk = nltk.ne_chunk(nltk.pos_tag(sentencen1))"
   ]
  },
  {
   "cell_type": "code",
   "execution_count": 33,
   "metadata": {
    "ExecuteTime": {
     "end_time": "2020-06-25T06:42:22.486950Z",
     "start_time": "2020-06-25T06:42:20.607638Z"
    }
   },
   "outputs": [
    {
     "name": "stderr",
     "output_type": "stream",
     "text": [
      "The Ghostscript executable isn't found.\n",
      "See http://web.mit.edu/ghostscript/www/Install.htm\n",
      "If you're using a Mac, you can try installing\n",
      "https://docs.brew.sh/Installation then `brew install ghostscript`\n"
     ]
    },
    {
     "ename": "LookupError",
     "evalue": "",
     "output_type": "error",
     "traceback": [
      "\u001b[1;31m---------------------------------------------------------------------------\u001b[0m",
      "\u001b[1;31mLookupError\u001b[0m                               Traceback (most recent call last)",
      "\u001b[1;32m~\\AppData\\Local\\Continuum\\anaconda3\\lib\\site-packages\\nltk\\tree.py\u001b[0m in \u001b[0;36m_repr_png_\u001b[1;34m(self)\u001b[0m\n\u001b[0;32m    805\u001b[0m                             \u001b[0menv_vars\u001b[0m\u001b[1;33m=\u001b[0m\u001b[1;33m[\u001b[0m\u001b[1;34m'PATH'\u001b[0m\u001b[1;33m]\u001b[0m\u001b[1;33m,\u001b[0m\u001b[1;33m\u001b[0m\u001b[1;33m\u001b[0m\u001b[0m\n\u001b[1;32m--> 806\u001b[1;33m                             \u001b[0mverbose\u001b[0m\u001b[1;33m=\u001b[0m\u001b[1;32mFalse\u001b[0m\u001b[1;33m,\u001b[0m\u001b[1;33m\u001b[0m\u001b[1;33m\u001b[0m\u001b[0m\n\u001b[0m\u001b[0;32m    807\u001b[0m                         )\n",
      "\u001b[1;32m~\\AppData\\Local\\Continuum\\anaconda3\\lib\\site-packages\\nltk\\internals.py\u001b[0m in \u001b[0;36mfind_binary\u001b[1;34m(name, path_to_bin, env_vars, searchpath, binary_names, url, verbose)\u001b[0m\n\u001b[0;32m    696\u001b[0m         find_binary_iter(\n\u001b[1;32m--> 697\u001b[1;33m             \u001b[0mname\u001b[0m\u001b[1;33m,\u001b[0m \u001b[0mpath_to_bin\u001b[0m\u001b[1;33m,\u001b[0m \u001b[0menv_vars\u001b[0m\u001b[1;33m,\u001b[0m \u001b[0msearchpath\u001b[0m\u001b[1;33m,\u001b[0m \u001b[0mbinary_names\u001b[0m\u001b[1;33m,\u001b[0m \u001b[0murl\u001b[0m\u001b[1;33m,\u001b[0m \u001b[0mverbose\u001b[0m\u001b[1;33m\u001b[0m\u001b[1;33m\u001b[0m\u001b[0m\n\u001b[0m\u001b[0;32m    698\u001b[0m         )\n",
      "\u001b[1;32m~\\AppData\\Local\\Continuum\\anaconda3\\lib\\site-packages\\nltk\\internals.py\u001b[0m in \u001b[0;36mfind_binary_iter\u001b[1;34m(name, path_to_bin, env_vars, searchpath, binary_names, url, verbose)\u001b[0m\n\u001b[0;32m    680\u001b[0m     for file in find_file_iter(\n\u001b[1;32m--> 681\u001b[1;33m         \u001b[0mpath_to_bin\u001b[0m \u001b[1;32mor\u001b[0m \u001b[0mname\u001b[0m\u001b[1;33m,\u001b[0m \u001b[0menv_vars\u001b[0m\u001b[1;33m,\u001b[0m \u001b[0msearchpath\u001b[0m\u001b[1;33m,\u001b[0m \u001b[0mbinary_names\u001b[0m\u001b[1;33m,\u001b[0m \u001b[0murl\u001b[0m\u001b[1;33m,\u001b[0m \u001b[0mverbose\u001b[0m\u001b[1;33m\u001b[0m\u001b[1;33m\u001b[0m\u001b[0m\n\u001b[0m\u001b[0;32m    682\u001b[0m     ):\n",
      "\u001b[1;32m~\\AppData\\Local\\Continuum\\anaconda3\\lib\\site-packages\\nltk\\internals.py\u001b[0m in \u001b[0;36mfind_file_iter\u001b[1;34m(filename, env_vars, searchpath, file_names, url, verbose, finding_dir)\u001b[0m\n\u001b[0;32m    638\u001b[0m         \u001b[0mdiv\u001b[0m \u001b[1;33m=\u001b[0m \u001b[1;34m'='\u001b[0m \u001b[1;33m*\u001b[0m \u001b[1;36m75\u001b[0m\u001b[1;33m\u001b[0m\u001b[1;33m\u001b[0m\u001b[0m\n\u001b[1;32m--> 639\u001b[1;33m         \u001b[1;32mraise\u001b[0m \u001b[0mLookupError\u001b[0m\u001b[1;33m(\u001b[0m\u001b[1;34m'\\n\\n%s\\n%s\\n%s'\u001b[0m \u001b[1;33m%\u001b[0m \u001b[1;33m(\u001b[0m\u001b[0mdiv\u001b[0m\u001b[1;33m,\u001b[0m \u001b[0mmsg\u001b[0m\u001b[1;33m,\u001b[0m \u001b[0mdiv\u001b[0m\u001b[1;33m)\u001b[0m\u001b[1;33m)\u001b[0m\u001b[1;33m\u001b[0m\u001b[1;33m\u001b[0m\u001b[0m\n\u001b[0m\u001b[0;32m    640\u001b[0m \u001b[1;33m\u001b[0m\u001b[0m\n",
      "\u001b[1;31mLookupError\u001b[0m: \n\n===========================================================================\nNLTK was unable to find the gs file!\nUse software specific configuration paramaters or set the PATH environment variable.\n===========================================================================",
      "\nDuring handling of the above exception, another exception occurred:\n",
      "\u001b[1;31mLookupError\u001b[0m                               Traceback (most recent call last)",
      "\u001b[1;32m~\\AppData\\Local\\Continuum\\anaconda3\\lib\\site-packages\\IPython\\core\\formatters.py\u001b[0m in \u001b[0;36m__call__\u001b[1;34m(self, obj)\u001b[0m\n\u001b[0;32m    343\u001b[0m             \u001b[0mmethod\u001b[0m \u001b[1;33m=\u001b[0m \u001b[0mget_real_method\u001b[0m\u001b[1;33m(\u001b[0m\u001b[0mobj\u001b[0m\u001b[1;33m,\u001b[0m \u001b[0mself\u001b[0m\u001b[1;33m.\u001b[0m\u001b[0mprint_method\u001b[0m\u001b[1;33m)\u001b[0m\u001b[1;33m\u001b[0m\u001b[1;33m\u001b[0m\u001b[0m\n\u001b[0;32m    344\u001b[0m             \u001b[1;32mif\u001b[0m \u001b[0mmethod\u001b[0m \u001b[1;32mis\u001b[0m \u001b[1;32mnot\u001b[0m \u001b[1;32mNone\u001b[0m\u001b[1;33m:\u001b[0m\u001b[1;33m\u001b[0m\u001b[1;33m\u001b[0m\u001b[0m\n\u001b[1;32m--> 345\u001b[1;33m                 \u001b[1;32mreturn\u001b[0m \u001b[0mmethod\u001b[0m\u001b[1;33m(\u001b[0m\u001b[1;33m)\u001b[0m\u001b[1;33m\u001b[0m\u001b[1;33m\u001b[0m\u001b[0m\n\u001b[0m\u001b[0;32m    346\u001b[0m             \u001b[1;32mreturn\u001b[0m \u001b[1;32mNone\u001b[0m\u001b[1;33m\u001b[0m\u001b[1;33m\u001b[0m\u001b[0m\n\u001b[0;32m    347\u001b[0m         \u001b[1;32melse\u001b[0m\u001b[1;33m:\u001b[0m\u001b[1;33m\u001b[0m\u001b[1;33m\u001b[0m\u001b[0m\n",
      "\u001b[1;32m~\\AppData\\Local\\Continuum\\anaconda3\\lib\\site-packages\\nltk\\tree.py\u001b[0m in \u001b[0;36m_repr_png_\u001b[1;34m(self)\u001b[0m\n\u001b[0;32m    817\u001b[0m                                         \"https://docs.brew.sh/Installation then `brew install ghostscript`\")                \n\u001b[0;32m    818\u001b[0m                 \u001b[0mprint\u001b[0m\u001b[1;33m(\u001b[0m\u001b[0mpre_error_message\u001b[0m\u001b[1;33m,\u001b[0m \u001b[0mfile\u001b[0m\u001b[1;33m=\u001b[0m\u001b[0msys\u001b[0m\u001b[1;33m.\u001b[0m\u001b[0mstderr\u001b[0m\u001b[1;33m)\u001b[0m\u001b[1;33m\u001b[0m\u001b[1;33m\u001b[0m\u001b[0m\n\u001b[1;32m--> 819\u001b[1;33m                 \u001b[1;32mraise\u001b[0m \u001b[0mLookupError\u001b[0m\u001b[1;33m\u001b[0m\u001b[1;33m\u001b[0m\u001b[0m\n\u001b[0m\u001b[0;32m    820\u001b[0m \u001b[1;33m\u001b[0m\u001b[0m\n\u001b[0;32m    821\u001b[0m             \u001b[1;32mwith\u001b[0m \u001b[0mopen\u001b[0m\u001b[1;33m(\u001b[0m\u001b[0mout_path\u001b[0m\u001b[1;33m,\u001b[0m \u001b[1;34m'rb'\u001b[0m\u001b[1;33m)\u001b[0m \u001b[1;32mas\u001b[0m \u001b[0msr\u001b[0m\u001b[1;33m:\u001b[0m\u001b[1;33m\u001b[0m\u001b[1;33m\u001b[0m\u001b[0m\n",
      "\u001b[1;31mLookupError\u001b[0m: "
     ]
    },
    {
     "data": {
      "text/plain": [
       "Tree('S', [('I', 'PRP'), (' ', 'VBP'), ('o', 'JJ'), ('b', 'NN'), ('s', 'NN'), ('e', 'NN'), ('r', 'NN'), ('v', 'NN'), ('e', 'NN'), ('d', 'NN'), (' ', 'NNP'), ('t', 'NN'), ('h', 'VBD'), ('a', 'DT'), ('t', 'NN'), (' ', 'NNP'), ('X', 'NNP'), (' ', 'NNP'), ('h', 'VBD'), ('a', 'DT'), ('d', 'NN'), (' ', 'VBZ'), ('a', 'DT'), (' ', 'JJ'), ('k', 'NN'), ('e', 'NN'), ('e', 'NN'), ('n', 'IN'), (' ', 'NN'), ('i', 'NN'), ('n', 'VBP'), ('t', 'NN'), ('e', 'NN'), ('r', 'NN'), ('e', 'NN'), ('s', 'NN'), ('t', 'NN'), (' ', 'VBZ'), ('a', 'DT'), ('n', 'JJ'), ('d', 'NN'), (' ', 'NNP'), ('w', 'VBZ'), ('a', 'DT'), ('s', 'JJ'), (' ', 'NN'), ('f', 'NN'), ('u', 'JJ'), ('l', 'NN'), ('l', 'NN'), ('y', 'NN'), (' ', 'NN'), ('i', 'NN'), ('n', 'VBP'), ('v', 'NN'), ('o', 'NN'), ('l', 'NN'), ('v', 'NN'), ('e', 'NN'), ('d', 'NN'), (' ', 'NN'), ('i', 'NN'), ('n', 'VBP'), (' ', 'JJ'), ('t', 'NN'), ('h', 'NN'), ('e', 'NN'), (' ', 'NNP'), ('c', 'VBZ'), ('o', 'JJ'), ('u', 'JJ'), ('r', 'NN'), ('s', 'NN'), ('e', 'NN'), (' ', 'NNP'), ('w', 'NN'), ('h', 'NN'), ('e', 'NN'), ('n', 'IN'), (' ', 'NN'), ('I', 'PRP'), (' ', 'VBP'), ('s', 'PDT'), ('a', 'DT'), ('w', 'NN'), (' ', 'NN'), ('h', 'NN'), ('i', 'JJ'), ('s', 'VBP'), (' ', 'JJ'), ('p', 'NN'), ('e', 'NN'), ('r', 'NN'), ('f', 'NN'), ('o', 'NN'), ('r', 'NN'), ('m', 'VBD'), ('a', 'DT'), ('n', 'JJ'), ('c', 'NN'), ('e', 'NN'), ('s', 'JJ'), (' ', 'NNP'), ('d', 'NN'), ('u', 'JJ'), ('r', 'NN'), ('i', 'NN'), ('n', 'VBP'), ('g', 'NN'), (' ', 'NNP'), ('t', 'NN'), ('h', 'NN'), ('e', 'NN'), (' ', 'NNP'), ('L', 'NNP'), ('a', 'DT'), ('b', 'NN'), (' ', 'NN'), ('s', 'NN'), ('e', 'NN'), ('s', 'VBD'), ('s', 'JJ'), ('i', 'NN'), ('o', 'VBP'), ('n', 'JJ'), ('s', 'NN'), (',', ','), (' ', 'NNP'), ('w', 'VBZ'), ('h', 'NN'), ('e', 'NN'), ('r', 'NN'), ('e', 'NN'), (' ', 'NNP'), ('h', 'NN'), ('e', 'NN'), (' ', 'NNP'), ('w', 'NN'), ('o', 'NN'), ('u', 'JJ'), ('l', 'NN'), ('d', 'NN'), (' ', 'NN'), ('b', 'NN'), ('e', 'NN'), (' ', 'VBZ'), ('a', 'DT'), ('b', 'NN'), ('l', 'NN'), ('e', 'NN'), (' ', 'NNP'), ('t', 'NN'), ('o', 'NN'), (' ', 'NNP'), ('g', 'NN'), ('r', 'NN'), ('a', 'DT'), ('s', 'JJ'), ('p', 'NN'), (' ', 'NNP'), ('n', 'CC'), ('e', 'JJ'), ('w', 'NN'), (' ', 'NNP'), ('c', 'VBZ'), ('o', 'JJ'), ('n', 'JJ'), ('c', 'NN'), ('e', 'NN'), ('p', 'NN'), ('t', 'NN'), ('s', 'NN'), (' ', 'NNP'), ('s', 'NN'), ('u', 'JJ'), ('c', 'NN'), ('h', 'NN'), (' ', 'VBZ'), ('a', 'DT'), ('s', 'JJ'), (' ', 'NN'), ('q', 'NN'), ('u', 'JJ'), ('e', 'NN'), ('r', 'NN'), ('y', 'NN'), (' ', 'NNP'), ('f', 'NN'), ('o', 'NN'), ('r', 'NN'), ('m', 'VBD'), ('a', 'DT'), ('t', 'NN'), ('i', 'NN'), ('o', 'VBP'), ('n', 'RB'), (' ', 'VBP'), ('a', 'DT'), ('n', 'JJ'), ('d', 'NN'), (' ', 'NNP'), ('j', 'NN'), ('o', 'NN'), ('i', 'NN'), ('n', 'VBP'), ('s', 'NN'), ('.', '.')])"
      ]
     },
     "execution_count": 33,
     "metadata": {},
     "output_type": "execute_result"
    }
   ],
   "source": [
    "chunk"
   ]
  },
  {
   "cell_type": "code",
   "execution_count": 31,
   "metadata": {
    "ExecuteTime": {
     "end_time": "2020-06-25T03:30:16.349905Z",
     "start_time": "2020-06-25T03:17:56.885883Z"
    }
   },
   "outputs": [],
   "source": [
    "chunk.draw()"
   ]
  },
  {
   "cell_type": "markdown",
   "metadata": {},
   "source": [
    "## LoR_Sample1 Chunking"
   ]
  },
  {
   "cell_type": "code",
   "execution_count": 5,
   "metadata": {
    "ExecuteTime": {
     "end_time": "2020-06-25T07:49:31.754270Z",
     "start_time": "2020-06-25T07:49:31.642334Z"
    }
   },
   "outputs": [],
   "source": [
    "import textract\n",
    "\n",
    "text = textract.process('LoR Sample 1.docx')\n",
    "text = text.decode(\"utf-8\") "
   ]
  },
  {
   "cell_type": "code",
   "execution_count": 6,
   "metadata": {
    "ExecuteTime": {
     "end_time": "2020-06-25T07:49:35.475276Z",
     "start_time": "2020-06-25T07:49:35.450291Z"
    }
   },
   "outputs": [
    {
     "name": "stdout",
     "output_type": "stream",
     "text": [
      "TO WHOMSOEVER IT MAY CONCERN\n",
      "\n",
      "\n",
      "\n",
      "I am pleased to recommend MrXX for an MS in Computer Science at your esteemed university. I have known him since his second year. He was my student in the 3rd semester (2nd year), where I taught him the course of Database Management Systems. \n",
      "\n",
      "I first got to know X in the course of Database Management Systems, CSE-2004. In the first week of the course, I was surprised to know that X, an Electronics and Instrumentation student, had taken up a computer science core course. Initially I was doubtful about a non-CS student’s approach and grasp of the subject, but he adapted to it as naturally as a fish to water. By the time the course came to an end, he had proved his mettle. \n",
      "\n",
      "I observed that X had a keen interest and was fully involved in the course when I saw his performances during the Lab sessions, where he would be able to grasp new concepts such as query formation and joins. He has been highly active in the technical scene of our college too with him organizing many events.\n",
      "\n",
      "As a part of the course, students are required to develop a project, with a fully functional Database System consisting of the concepts learnt throughout the semester. Despite X not being from a computer science background, his project did not languish. He went above and beyond to make a professional database design, which included an ‘Auto-Increment’ feature using a PL/SQL sequence written by him, bulk insertion into the table and other features.\n",
      "\n",
      "I was pleased to know that he applied the concepts in his internship extensively to build a professional tool for Intellect Design Arena. He designed this tool to make the process of configuring a Logical Data Model easier and much faster. It consisted of a User Interface (UI) that can replicate back-end tasks such as inserting data in a database at the click of a button. His task was cut out for him as the tool was being built for J.P. Morgan Chase as a client and hence there was no room for error. I am proud to say that the tool, which he built over a course of two months, was pushed to production at the end of his internship.\n",
      "\n",
      "X makes a strong candidate for your Master's program majoring in Computer Science. His proposed candidature has my endorsement without any reservations whatsoever.\n"
     ]
    }
   ],
   "source": [
    "print(text)"
   ]
  },
  {
   "cell_type": "code",
   "execution_count": 15,
   "metadata": {
    "ExecuteTime": {
     "end_time": "2020-06-25T07:56:56.480415Z",
     "start_time": "2020-06-25T07:56:56.471420Z"
    }
   },
   "outputs": [],
   "source": [
    "grammer = \"NP: {<DT>?<JJ>*<NN>}\""
   ]
  },
  {
   "cell_type": "code",
   "execution_count": 16,
   "metadata": {
    "ExecuteTime": {
     "end_time": "2020-06-25T07:56:56.949504Z",
     "start_time": "2020-06-25T07:56:56.927517Z"
    }
   },
   "outputs": [],
   "source": [
    "cp1 = nltk.RegexpParser(grammer)"
   ]
  },
  {
   "cell_type": "code",
   "execution_count": null,
   "metadata": {
    "ExecuteTime": {
     "end_time": "2020-06-25T07:48:46.704649Z",
     "start_time": "2020-06-25T07:48:41.993Z"
    }
   },
   "outputs": [],
   "source": [
    "result_lor1 = cp1.parse(nltk.pos_tag(text))"
   ]
  },
  {
   "cell_type": "code",
   "execution_count": 43,
   "metadata": {
    "ExecuteTime": {
     "end_time": "2020-06-25T07:38:50.252869Z",
     "start_time": "2020-06-25T07:36:35.825214Z"
    }
   },
   "outputs": [
    {
     "name": "stderr",
     "output_type": "stream",
     "text": [
      "The Ghostscript executable isn't found.\n",
      "See http://web.mit.edu/ghostscript/www/Install.htm\n",
      "If you're using a Mac, you can try installing\n",
      "https://docs.brew.sh/Installation then `brew install ghostscript`\n"
     ]
    },
    {
     "ename": "LookupError",
     "evalue": "",
     "output_type": "error",
     "traceback": [
      "\u001b[1;31m---------------------------------------------------------------------------\u001b[0m",
      "\u001b[1;31mLookupError\u001b[0m                               Traceback (most recent call last)",
      "\u001b[1;32m~\\AppData\\Local\\Continuum\\anaconda3\\lib\\site-packages\\nltk\\tree.py\u001b[0m in \u001b[0;36m_repr_png_\u001b[1;34m(self)\u001b[0m\n\u001b[0;32m    805\u001b[0m                             \u001b[0menv_vars\u001b[0m\u001b[1;33m=\u001b[0m\u001b[1;33m[\u001b[0m\u001b[1;34m'PATH'\u001b[0m\u001b[1;33m]\u001b[0m\u001b[1;33m,\u001b[0m\u001b[1;33m\u001b[0m\u001b[1;33m\u001b[0m\u001b[0m\n\u001b[1;32m--> 806\u001b[1;33m                             \u001b[0mverbose\u001b[0m\u001b[1;33m=\u001b[0m\u001b[1;32mFalse\u001b[0m\u001b[1;33m,\u001b[0m\u001b[1;33m\u001b[0m\u001b[1;33m\u001b[0m\u001b[0m\n\u001b[0m\u001b[0;32m    807\u001b[0m                         )\n",
      "\u001b[1;32m~\\AppData\\Local\\Continuum\\anaconda3\\lib\\site-packages\\nltk\\internals.py\u001b[0m in \u001b[0;36mfind_binary\u001b[1;34m(name, path_to_bin, env_vars, searchpath, binary_names, url, verbose)\u001b[0m\n\u001b[0;32m    696\u001b[0m         find_binary_iter(\n\u001b[1;32m--> 697\u001b[1;33m             \u001b[0mname\u001b[0m\u001b[1;33m,\u001b[0m \u001b[0mpath_to_bin\u001b[0m\u001b[1;33m,\u001b[0m \u001b[0menv_vars\u001b[0m\u001b[1;33m,\u001b[0m \u001b[0msearchpath\u001b[0m\u001b[1;33m,\u001b[0m \u001b[0mbinary_names\u001b[0m\u001b[1;33m,\u001b[0m \u001b[0murl\u001b[0m\u001b[1;33m,\u001b[0m \u001b[0mverbose\u001b[0m\u001b[1;33m\u001b[0m\u001b[1;33m\u001b[0m\u001b[0m\n\u001b[0m\u001b[0;32m    698\u001b[0m         )\n",
      "\u001b[1;32m~\\AppData\\Local\\Continuum\\anaconda3\\lib\\site-packages\\nltk\\internals.py\u001b[0m in \u001b[0;36mfind_binary_iter\u001b[1;34m(name, path_to_bin, env_vars, searchpath, binary_names, url, verbose)\u001b[0m\n\u001b[0;32m    680\u001b[0m     for file in find_file_iter(\n\u001b[1;32m--> 681\u001b[1;33m         \u001b[0mpath_to_bin\u001b[0m \u001b[1;32mor\u001b[0m \u001b[0mname\u001b[0m\u001b[1;33m,\u001b[0m \u001b[0menv_vars\u001b[0m\u001b[1;33m,\u001b[0m \u001b[0msearchpath\u001b[0m\u001b[1;33m,\u001b[0m \u001b[0mbinary_names\u001b[0m\u001b[1;33m,\u001b[0m \u001b[0murl\u001b[0m\u001b[1;33m,\u001b[0m \u001b[0mverbose\u001b[0m\u001b[1;33m\u001b[0m\u001b[1;33m\u001b[0m\u001b[0m\n\u001b[0m\u001b[0;32m    682\u001b[0m     ):\n",
      "\u001b[1;32m~\\AppData\\Local\\Continuum\\anaconda3\\lib\\site-packages\\nltk\\internals.py\u001b[0m in \u001b[0;36mfind_file_iter\u001b[1;34m(filename, env_vars, searchpath, file_names, url, verbose, finding_dir)\u001b[0m\n\u001b[0;32m    638\u001b[0m         \u001b[0mdiv\u001b[0m \u001b[1;33m=\u001b[0m \u001b[1;34m'='\u001b[0m \u001b[1;33m*\u001b[0m \u001b[1;36m75\u001b[0m\u001b[1;33m\u001b[0m\u001b[1;33m\u001b[0m\u001b[0m\n\u001b[1;32m--> 639\u001b[1;33m         \u001b[1;32mraise\u001b[0m \u001b[0mLookupError\u001b[0m\u001b[1;33m(\u001b[0m\u001b[1;34m'\\n\\n%s\\n%s\\n%s'\u001b[0m \u001b[1;33m%\u001b[0m \u001b[1;33m(\u001b[0m\u001b[0mdiv\u001b[0m\u001b[1;33m,\u001b[0m \u001b[0mmsg\u001b[0m\u001b[1;33m,\u001b[0m \u001b[0mdiv\u001b[0m\u001b[1;33m)\u001b[0m\u001b[1;33m)\u001b[0m\u001b[1;33m\u001b[0m\u001b[1;33m\u001b[0m\u001b[0m\n\u001b[0m\u001b[0;32m    640\u001b[0m \u001b[1;33m\u001b[0m\u001b[0m\n",
      "\u001b[1;31mLookupError\u001b[0m: \n\n===========================================================================\nNLTK was unable to find the gs file!\nUse software specific configuration paramaters or set the PATH environment variable.\n===========================================================================",
      "\nDuring handling of the above exception, another exception occurred:\n",
      "\u001b[1;31mLookupError\u001b[0m                               Traceback (most recent call last)",
      "\u001b[1;32m~\\AppData\\Local\\Continuum\\anaconda3\\lib\\site-packages\\IPython\\core\\formatters.py\u001b[0m in \u001b[0;36m__call__\u001b[1;34m(self, obj)\u001b[0m\n\u001b[0;32m    343\u001b[0m             \u001b[0mmethod\u001b[0m \u001b[1;33m=\u001b[0m \u001b[0mget_real_method\u001b[0m\u001b[1;33m(\u001b[0m\u001b[0mobj\u001b[0m\u001b[1;33m,\u001b[0m \u001b[0mself\u001b[0m\u001b[1;33m.\u001b[0m\u001b[0mprint_method\u001b[0m\u001b[1;33m)\u001b[0m\u001b[1;33m\u001b[0m\u001b[1;33m\u001b[0m\u001b[0m\n\u001b[0;32m    344\u001b[0m             \u001b[1;32mif\u001b[0m \u001b[0mmethod\u001b[0m \u001b[1;32mis\u001b[0m \u001b[1;32mnot\u001b[0m \u001b[1;32mNone\u001b[0m\u001b[1;33m:\u001b[0m\u001b[1;33m\u001b[0m\u001b[1;33m\u001b[0m\u001b[0m\n\u001b[1;32m--> 345\u001b[1;33m                 \u001b[1;32mreturn\u001b[0m \u001b[0mmethod\u001b[0m\u001b[1;33m(\u001b[0m\u001b[1;33m)\u001b[0m\u001b[1;33m\u001b[0m\u001b[1;33m\u001b[0m\u001b[0m\n\u001b[0m\u001b[0;32m    346\u001b[0m             \u001b[1;32mreturn\u001b[0m \u001b[1;32mNone\u001b[0m\u001b[1;33m\u001b[0m\u001b[1;33m\u001b[0m\u001b[0m\n\u001b[0;32m    347\u001b[0m         \u001b[1;32melse\u001b[0m\u001b[1;33m:\u001b[0m\u001b[1;33m\u001b[0m\u001b[1;33m\u001b[0m\u001b[0m\n",
      "\u001b[1;32m~\\AppData\\Local\\Continuum\\anaconda3\\lib\\site-packages\\nltk\\tree.py\u001b[0m in \u001b[0;36m_repr_png_\u001b[1;34m(self)\u001b[0m\n\u001b[0;32m    817\u001b[0m                                         \"https://docs.brew.sh/Installation then `brew install ghostscript`\")                \n\u001b[0;32m    818\u001b[0m                 \u001b[0mprint\u001b[0m\u001b[1;33m(\u001b[0m\u001b[0mpre_error_message\u001b[0m\u001b[1;33m,\u001b[0m \u001b[0mfile\u001b[0m\u001b[1;33m=\u001b[0m\u001b[0msys\u001b[0m\u001b[1;33m.\u001b[0m\u001b[0mstderr\u001b[0m\u001b[1;33m)\u001b[0m\u001b[1;33m\u001b[0m\u001b[1;33m\u001b[0m\u001b[0m\n\u001b[1;32m--> 819\u001b[1;33m                 \u001b[1;32mraise\u001b[0m \u001b[0mLookupError\u001b[0m\u001b[1;33m\u001b[0m\u001b[1;33m\u001b[0m\u001b[0m\n\u001b[0m\u001b[0;32m    820\u001b[0m \u001b[1;33m\u001b[0m\u001b[0m\n\u001b[0;32m    821\u001b[0m             \u001b[1;32mwith\u001b[0m \u001b[0mopen\u001b[0m\u001b[1;33m(\u001b[0m\u001b[0mout_path\u001b[0m\u001b[1;33m,\u001b[0m \u001b[1;34m'rb'\u001b[0m\u001b[1;33m)\u001b[0m \u001b[1;32mas\u001b[0m \u001b[0msr\u001b[0m\u001b[1;33m:\u001b[0m\u001b[1;33m\u001b[0m\u001b[1;33m\u001b[0m\u001b[0m\n",
      "\u001b[1;31mLookupError\u001b[0m: "
     ]
    },
    {
     "data": {
      "text/plain": [
       "Tree('S', [('T', 'NNP'), ('O', 'NNP'), (' ', 'NNP'), ('W', 'NNP'), ('H', 'NNP'), ('O', 'NNP'), ('M', 'NNP'), ('S', 'NNP'), ('O', 'NNP'), ('E', 'NNP'), ('V', 'NNP'), ('E', 'NNP'), ('R', 'NNP'), (' ', 'NNP'), ('I', 'PRP'), ('T', 'NNP'), (' ', 'NNP'), ('M', 'NNP'), ('A', 'NNP'), ('Y', 'NNP'), (' ', 'NNP'), ('C', 'NNP'), ('O', 'NNP'), ('N', 'NNP'), ('C', 'NNP'), ('E', 'NNP'), ('R', 'NNP'), ('N', 'NNP'), ('\\n', 'NNP'), ('\\n', 'NNP'), ('\\n', 'NNP'), ('\\n', 'NNP'), ('I', 'PRP'), (' ', 'VBP'), Tree('NP', [('a', 'DT'), ('m', 'NN')]), (' ', 'NNP'), Tree('NP', [('p', 'NN')]), Tree('NP', [('l', 'NN')]), ('e', 'VBZ'), Tree('NP', [('a', 'DT'), ('s', 'JJ'), ('e', 'NN')]), Tree('NP', [('d', 'NN')]), (' ', 'NNP'), Tree('NP', [('t', 'NN')]), Tree('NP', [('o', 'NN')]), (' ', 'NNP'), Tree('NP', [('r', 'NN')]), Tree('NP', [('e', 'NN')]), ('c', 'VBP'), Tree('NP', [('o', 'JJ'), ('m', 'NN')]), Tree('NP', [('m', 'NN')]), Tree('NP', [('e', 'NN')]), Tree('NP', [('n', 'JJ'), ('d', 'NN')]), (' ', 'NNP'), ('M', 'NNP'), Tree('NP', [('r', 'NN')]), ('X', 'NNP'), ('X', 'NNP'), (' ', 'NNP'), ('f', 'VBD'), Tree('NP', [('o', 'JJ'), ('r', 'NN')]), (' ', 'VBD'), ('a', 'DT'), ('n', 'JJ'), (' ', 'NNP'), ('M', 'NNP'), ('S', 'NNP'), (' ', 'NNP'), Tree('NP', [('i', 'NN')]), ('n', 'VBP'), (' ', 'NNP'), ('C', 'NNP'), ('o', 'MD'), ('m', 'VB'), Tree('NP', [('p', 'JJ'), ('u', 'JJ'), ('t', 'NN')]), Tree('NP', [('e', 'NN')]), Tree('NP', [('r', 'NN')]), (' ', 'NNP'), ('S', 'NNP'), Tree('NP', [('c', 'NN')]), Tree('NP', [('i', 'NN')]), ('e', 'VBP'), Tree('NP', [('n', 'JJ'), ('c', 'NN')]), Tree('NP', [('e', 'NN')]), (' ', 'VBZ'), Tree('NP', [('a', 'DT'), ('t', 'NN')]), (' ', 'NNP'), ('y', 'NNP'), ('o', 'MD'), ('u', 'VB'), Tree('NP', [('r', 'NN')]), (' ', 'NNP'), Tree('NP', [('e', 'NN')]), Tree('NP', [('s', 'NN')]), Tree('NP', [('t', 'NN')]), Tree('NP', [('e', 'NN')]), ('e', 'VBP'), Tree('NP', [('m', 'NN')]), Tree('NP', [('e', 'NN')]), Tree('NP', [('d', 'NN')]), (' ', 'NNP'), Tree('NP', [('u', 'JJ'), ('n', 'NN')]), Tree('NP', [('i', 'NN')]), ('v', 'VBP'), Tree('NP', [('e', 'NN')]), Tree('NP', [('r', 'NN')]), Tree('NP', [('s', 'NN')]), Tree('NP', [('i', 'NN')]), ('t', 'VBP'), Tree('NP', [('y', 'NN')]), ('.', '.'), Tree('NP', [(' ', 'NN')]), ('I', 'PRP'), (' ', 'VBP'), ('h', 'PDT'), Tree('NP', [('a', 'DT'), ('v', 'NN')]), Tree('NP', [('e', 'NN')]), (' ', 'NNP'), Tree('NP', [('k', 'NN')]), ('n', 'NNP'), ('o', 'VBZ'), Tree('NP', [('w', 'JJ'), ('n', 'JJ'), (' ', 'NN')]), Tree('NP', [('h', 'NN')]), ('i', 'JJ'), ('m', 'VBP'), Tree('NP', [(' ', 'JJ'), ('s', 'NN')]), Tree('NP', [('i', 'NN')]), ('n', 'VBP'), Tree('NP', [('c', 'NN')]), Tree('NP', [('e', 'NN')]), (' ', 'NNP'), Tree('NP', [('h', 'NN')]), Tree('NP', [('i', 'NN')]), ('s', 'VBP'), Tree('NP', [(' ', 'JJ'), ('s', 'NN')]), Tree('NP', [('e', 'NN')]), ('c', 'VBP'), Tree('NP', [('o', 'JJ'), ('n', 'JJ'), ('d', 'NN')]), (' ', 'NNP'), ('y', 'NNP'), ('e', 'VBZ'), Tree('NP', [('a', 'DT'), ('r', 'NN')]), ('.', '.'), (' ', 'CC'), ('H', 'NNP'), ('e', 'VBP'), (' ', 'NNP'), ('w', 'VBP'), Tree('NP', [('a', 'DT'), ('s', 'NN')]), (' ', 'NNP'), Tree('NP', [('m', 'NN')]), Tree('NP', [('y', 'NN')]), (' ', 'NNP'), Tree('NP', [('s', 'NN')]), Tree('NP', [('t', 'NN')]), Tree('NP', [('u', 'JJ'), ('d', 'NN')]), Tree('NP', [('e', 'NN')]), Tree('NP', [('n', 'JJ'), ('t', 'NN')]), Tree('NP', [(' ', 'NN')]), Tree('NP', [('i', 'NN')]), ('n', 'VBP'), Tree('NP', [(' ', 'JJ'), ('t', 'NN')]), Tree('NP', [('h', 'NN')]), Tree('NP', [('e', 'NN')]), (' ', 'VBD'), ('3', 'CD'), Tree('NP', [('r', 'NN')]), Tree('NP', [('d', 'NN')]), (' ', 'NNP'), Tree('NP', [('s', 'NN')]), Tree('NP', [('e', 'NN')]), Tree('NP', [('m', 'NN')]), Tree('NP', [('e', 'NN')]), Tree('NP', [('s', 'NN')]), Tree('NP', [('t', 'NN')]), Tree('NP', [('e', 'NN')]), Tree('NP', [('r', 'NN')]), (' ', 'NNP'), ('(', '('), ('2', 'CD'), ('n', 'RB'), ('d', 'JJ'), (' ', 'NNP'), Tree('NP', [('y', 'NN')]), ('e', 'VBZ'), Tree('NP', [('a', 'DT'), ('r', 'NN')]), (')', ')'), (',', ','), Tree('NP', [(' ', 'JJ'), ('w', 'NN')]), Tree('NP', [('h', 'NN')]), Tree('NP', [('e', 'NN')]), Tree('NP', [('r', 'NN')]), Tree('NP', [('e', 'NN')]), Tree('NP', [(' ', 'NN')]), ('I', 'PRP'), (' ', 'VBP'), ('t', 'VB'), Tree('NP', [('a', 'DT'), ('u', 'JJ'), ('g', 'NN')]), Tree('NP', [('h', 'NN')]), Tree('NP', [('t', 'NN')]), (' ', 'NNP'), Tree('NP', [('h', 'NN')]), Tree('NP', [('i', 'NN')]), ('m', 'VBP'), Tree('NP', [(' ', 'JJ'), ('t', 'NN')]), Tree('NP', [('h', 'NN')]), Tree('NP', [('e', 'NN')]), (' ', 'NNP'), ('c', 'VBZ'), Tree('NP', [('o', 'JJ'), ('u', 'JJ'), ('r', 'NN')]), Tree('NP', [('s', 'NN')]), Tree('NP', [('e', 'NN')]), (' ', 'NNP'), ('o', 'VBZ'), ('f', 'JJ'), (' ', 'NNP'), ('D', 'NNP'), Tree('NP', [('a', 'DT'), ('t', 'NN')]), Tree('NP', [('a', 'DT'), ('b', 'NN')]), Tree('NP', [('a', 'DT'), ('s', 'NN')]), Tree('NP', [('e', 'NN')]), (' ', 'NNP'), ('M', 'NNP'), Tree('NP', [('a', 'DT'), ('n', 'NN')]), Tree('NP', [('a', 'DT'), ('g', 'NN')]), Tree('NP', [('e', 'NN')]), Tree('NP', [('m', 'NN')]), Tree('NP', [('e', 'NN')]), Tree('NP', [('n', 'JJ'), ('t', 'NN')]), (' ', 'NNP'), ('S', 'NNP'), ('y', 'NNP'), ('s', 'VBD'), Tree('NP', [('t', 'JJ'), ('e', 'NN')]), Tree('NP', [('m', 'NN')]), Tree('NP', [('s', 'NN')]), ('.', '.'), (' ', 'CC'), Tree('NP', [('\\n', 'JJ'), ('\\n', 'NN')]), ('I', 'PRP'), (' ', 'VBP'), Tree('NP', [('f', 'JJ'), ('i', 'NN')]), ('r', 'VBP'), Tree('NP', [('s', 'NN')]), Tree('NP', [('t', 'NN')]), (' ', 'NNP'), Tree('NP', [('g', 'NN')]), Tree('NP', [('o', 'NN')]), Tree('NP', [('t', 'NN')]), (' ', 'NNP'), Tree('NP', [('t', 'NN')]), Tree('NP', [('o', 'NN')]), (' ', 'NNP'), Tree('NP', [('k', 'NN')]), ('n', 'NNP'), ('o', 'VBZ'), ('w', 'JJ'), (' ', 'NNP'), ('X', 'NNP'), (' ', 'NNP'), ('i', 'JJ'), ('n', 'VBP'), Tree('NP', [(' ', 'JJ'), ('t', 'NN')]), Tree('NP', [('h', 'NN')]), Tree('NP', [('e', 'NN')]), (' ', 'NNP'), ('c', 'VBZ'), Tree('NP', [('o', 'JJ'), ('u', 'JJ'), ('r', 'NN')]), Tree('NP', [('s', 'NN')]), Tree('NP', [('e', 'NN')]), (' ', 'NNP'), ('o', 'VBZ'), ('f', 'JJ'), (' ', 'NNP'), ('D', 'NNP'), Tree('NP', [('a', 'DT'), ('t', 'NN')]), Tree('NP', [('a', 'DT'), ('b', 'NN')]), Tree('NP', [('a', 'DT'), ('s', 'NN')]), Tree('NP', [('e', 'NN')]), (' ', 'NNP'), ('M', 'NNP'), Tree('NP', [('a', 'DT'), ('n', 'NN')]), Tree('NP', [('a', 'DT'), ('g', 'NN')]), Tree('NP', [('e', 'NN')]), Tree('NP', [('m', 'NN')]), Tree('NP', [('e', 'NN')]), Tree('NP', [('n', 'JJ'), ('t', 'NN')]), (' ', 'NNP'), ('S', 'NNP'), ('y', 'NNP'), ('s', 'VBD'), Tree('NP', [('t', 'JJ'), ('e', 'NN')]), Tree('NP', [('m', 'NN')]), Tree('NP', [('s', 'NN')]), (',', ','), (' ', 'NNP'), ('C', 'NNP'), ('S', 'NNP'), ('E', 'NNP'), ('-', ':'), ('2', 'CD'), ('0', 'CD'), ('0', 'CD'), ('4', 'CD'), ('.', '.'), Tree('NP', [(' ', 'NN')]), ('I', 'PRP'), ('n', 'VBP'), Tree('NP', [(' ', 'JJ'), ('t', 'NN')]), Tree('NP', [('h', 'NN')]), Tree('NP', [('e', 'NN')]), (' ', 'NNP'), Tree('NP', [('f', 'NN')]), Tree('NP', [('i', 'NN')]), ('r', 'VBP'), Tree('NP', [('s', 'NN')]), Tree('NP', [('t', 'NN')]), (' ', 'NNP'), Tree('NP', [('w', 'NN')]), Tree('NP', [('e', 'NN')]), Tree('NP', [('e', 'NN')]), Tree('NP', [('k', 'NN')]), (' ', 'NNP'), ('o', 'VBZ'), ('f', 'JJ'), (' ', 'NNP'), Tree('NP', [('t', 'NN')]), Tree('NP', [('h', 'NN')]), Tree('NP', [('e', 'NN')]), (' ', 'NNP'), ('c', 'VBZ'), Tree('NP', [('o', 'JJ'), ('u', 'JJ'), ('r', 'NN')]), Tree('NP', [('s', 'NN')]), Tree('NP', [('e', 'NN')]), (',', ','), (' ', 'VBP'), ('I', 'PRP'), (' ', 'VBP'), ('w', 'WRB'), Tree('NP', [('a', 'DT'), ('s', 'NN')]), (' ', 'NNP'), Tree('NP', [('s', 'NN')]), Tree('NP', [('u', 'JJ'), ('r', 'NN')]), Tree('NP', [('p', 'NN')]), Tree('NP', [('r', 'NN')]), Tree('NP', [('i', 'NN')]), ('s', 'VBP'), Tree('NP', [('e', 'NN')]), Tree('NP', [('d', 'NN')]), (' ', 'NNP'), Tree('NP', [('t', 'NN')]), Tree('NP', [('o', 'NN')]), (' ', 'NNP'), Tree('NP', [('k', 'NN')]), ('n', 'NNP'), ('o', 'VBZ'), ('w', 'JJ'), (' ', 'NNP'), Tree('NP', [('t', 'NN')]), ('h', 'VBD'), Tree('NP', [('a', 'DT'), ('t', 'NN')]), Tree('NP', [(' ', 'NN')]), ('X', 'NNP'), (',', ','), (' ', 'VBZ'), Tree('NP', [('a', 'DT'), ('n', 'JJ'), (' ', 'NN')]), ('E', 'NNP'), Tree('NP', [('l', 'NN')]), Tree('NP', [('e', 'NN')]), Tree('NP', [('c', 'NN')]), Tree('NP', [('t', 'NN')]), Tree('NP', [('r', 'NN')]), ('o', 'IN'), ('n', 'JJ'), ('i', 'JJ'), ('c', 'VBP'), ('s', 'JJ'), (' ', 'FW'), Tree('NP', [('a', 'DT'), ('n', 'JJ'), ('d', 'NN')]), Tree('NP', [(' ', 'NN')]), ('I', 'PRP'), ('n', 'VBP'), Tree('NP', [('s', 'JJ'), ('t', 'NN')]), Tree('NP', [('r', 'NN')]), Tree('NP', [('u', 'JJ'), ('m', 'NN')]), Tree('NP', [('e', 'NN')]), ('n', 'JJ'), ('t', 'VBZ'), Tree('NP', [('a', 'DT'), ('t', 'NN')]), Tree('NP', [('i', 'NN')]), ('o', 'VBP'), ('n', 'JJ'), (' ', 'NNP'), Tree('NP', [('s', 'NN')]), Tree('NP', [('t', 'NN')]), Tree('NP', [('u', 'JJ'), ('d', 'NN')]), Tree('NP', [('e', 'NN')]), Tree('NP', [('n', 'JJ'), ('t', 'NN')]), (',', ','), (' ', 'NNP'), ('h', 'VBZ'), Tree('NP', [('a', 'DT'), ('d', 'NN')]), (' ', 'NNP'), ('t', 'VBZ'), Tree('NP', [('a', 'DT'), ('k', 'NN')]), Tree('NP', [('e', 'NN')]), ('n', 'JJ'), (' ', 'NNP'), Tree('NP', [('u', 'NN')]), Tree('NP', [('p', 'NN')]), (' ', 'VBZ'), Tree('NP', [('a', 'DT'), (' ', 'JJ'), ('c', 'NN')]), Tree('NP', [('o', 'NN')]), Tree('NP', [('m', 'NN')]), Tree('NP', [('p', 'NN')]), Tree('NP', [('u', 'JJ'), ('t', 'NN')]), Tree('NP', [('e', 'NN')]), Tree('NP', [('r', 'NN')]), (' ', 'NNP'), ('s', 'VBZ'), Tree('NP', [('c', 'NN')]), Tree('NP', [('i', 'NN')]), ('e', 'VBP'), Tree('NP', [('n', 'JJ'), ('c', 'NN')]), Tree('NP', [('e', 'NN')]), (' ', 'NNP'), Tree('NP', [('c', 'NN')]), Tree('NP', [('o', 'NN')]), Tree('NP', [('r', 'NN')]), Tree('NP', [('e', 'NN')]), (' ', 'NNP'), ('c', 'VBZ'), Tree('NP', [('o', 'JJ'), ('u', 'JJ'), ('r', 'NN')]), Tree('NP', [('s', 'NN')]), Tree('NP', [('e', 'NN')]), ('.', '.'), Tree('NP', [(' ', 'NN')]), ('I', 'PRP'), ('n', 'VBP'), ('i', 'JJ'), ('t', 'VBP'), ('i', 'VBP'), Tree('NP', [('a', 'DT'), ('l', 'NN')]), Tree('NP', [('l', 'NN')]), Tree('NP', [('y', 'NN')]), Tree('NP', [(' ', 'NN')]), ('I', 'PRP'), (' ', 'VBP'), ('w', 'WRB'), Tree('NP', [('a', 'DT'), ('s', 'NN')]), (' ', 'NNP'), Tree('NP', [('d', 'NN')]), Tree('NP', [('o', 'NN')]), Tree('NP', [('u', 'JJ'), ('b', 'NN')]), Tree('NP', [('t', 'NN')]), Tree('NP', [('f', 'NN')]), Tree('NP', [('u', 'JJ'), ('l', 'NN')]), (' ', 'VBD'), Tree('NP', [('a', 'DT'), ('b', 'NN')]), Tree('NP', [('o', 'NN')]), Tree('NP', [('u', 'JJ'), ('t', 'NN')]), (' ', 'VBD'), Tree('NP', [('a', 'DT'), (' ', 'JJ'), ('n', 'NN')]), Tree('NP', [('o', 'NN')]), ('n', 'SYM'), ('-', ':'), ('C', 'NNP'), ('S', 'NNP'), (' ', 'NNP'), ('s', 'VBD'), Tree('NP', [('t', 'JJ'), ('u', 'JJ'), ('d', 'NN')]), Tree('NP', [('e', 'NN')]), Tree('NP', [('n', 'JJ'), ('t', 'NN')]), ('’', 'NNP'), ('s', 'VBZ'), (' ', 'VB'), Tree('NP', [('a', 'DT'), ('p', 'NN')]), Tree('NP', [('p', 'NN')]), Tree('NP', [('r', 'NN')]), ('o', 'IN'), Tree('NP', [('a', 'DT'), ('c', 'NN')]), Tree('NP', [('h', 'NN')]), (' ', 'VBZ'), Tree('NP', [('a', 'DT'), ('n', 'JJ'), ('d', 'NN')]), (' ', 'NNP'), Tree('NP', [('g', 'NN')]), Tree('NP', [('r', 'NN')]), Tree('NP', [('a', 'DT'), ('s', 'JJ'), ('p', 'NN')]), (' ', 'NNP'), ('o', 'VBZ'), ('f', 'JJ'), (' ', 'NNP'), Tree('NP', [('t', 'NN')]), Tree('NP', [('h', 'NN')]), Tree('NP', [('e', 'NN')]), (' ', 'NNP'), Tree('NP', [('s', 'NN')]), Tree('NP', [('u', 'NN')]), Tree('NP', [('b', 'NN')]), Tree('NP', [('j', 'NN')]), Tree('NP', [('e', 'NN')]), Tree('NP', [('c', 'NN')]), Tree('NP', [('t', 'NN')]), (',', ','), (' ', 'NNP'), Tree('NP', [('b', 'NN')]), Tree('NP', [('u', 'NN')]), Tree('NP', [('t', 'NN')]), (' ', 'NNP'), Tree('NP', [('h', 'NN')]), Tree('NP', [('e', 'NN')]), (' ', 'VBZ'), Tree('NP', [('a', 'DT'), ('d', 'NN')]), Tree('NP', [('a', 'DT'), ('p', 'NN')]), Tree('NP', [('t', 'NN')]), Tree('NP', [('e', 'NN')]), Tree('NP', [('d', 'NN')]), (' ', 'NNP'), Tree('NP', [('t', 'NN')]), Tree('NP', [('o', 'NN')]), Tree('NP', [(' ', 'NN')]), Tree('NP', [('i', 'NN')]), ('t', 'VBP'), (' ', 'PDT'), Tree('NP', [('a', 'DT'), ('s', 'JJ'), (' ', 'NN')]), ('n', 'IN'), Tree('NP', [('a', 'DT'), ('t', 'NN')]), Tree('NP', [('u', 'JJ'), ('r', 'NN')]), Tree('NP', [('a', 'DT'), ('l', 'NN')]), Tree('NP', [('l', 'NN')]), Tree('NP', [('y', 'NN')]), (' ', 'VBZ'), Tree('NP', [('a', 'DT'), ('s', 'JJ'), (' ', 'NN')]), Tree('NP', [('a', 'DT'), (' ', 'JJ'), ('f', 'NN')]), Tree('NP', [('i', 'NN')]), ('s', 'VBP'), Tree('NP', [('h', 'NN')]), (' ', 'NNP'), Tree('NP', [('t', 'NN')]), Tree('NP', [('o', 'NN')]), (' ', 'NNP'), ('w', 'VBZ'), Tree('NP', [('a', 'DT'), ('t', 'NN')]), Tree('NP', [('e', 'NN')]), Tree('NP', [('r', 'NN')]), ('.', '.'), Tree('NP', [(' ', 'NN')]), ('B', 'NNP'), Tree('NP', [('y', 'NN')]), (' ', 'NNP'), Tree('NP', [('t', 'NN')]), Tree('NP', [('h', 'NN')]), Tree('NP', [('e', 'NN')]), (' ', 'NNP'), Tree('NP', [('t', 'NN')]), Tree('NP', [('i', 'NN')]), ('m', 'VBP'), Tree('NP', [('e', 'NN')]), (' ', 'NNP'), Tree('NP', [('t', 'NN')]), Tree('NP', [('h', 'NN')]), Tree('NP', [('e', 'NN')]), (' ', 'NNP'), ('c', 'VBZ'), Tree('NP', [('o', 'JJ'), ('u', 'JJ'), ('r', 'NN')]), Tree('NP', [('s', 'NN')]), Tree('NP', [('e', 'NN')]), (' ', 'NNP'), ('c', 'VBZ'), Tree('NP', [('a', 'DT'), ('m', 'JJ'), ('e', 'NN')]), (' ', 'NNP'), Tree('NP', [('t', 'NN')]), Tree('NP', [('o', 'NN')]), (' ', 'VBZ'), Tree('NP', [('a', 'DT'), ('n', 'JJ'), (' ', 'NN')]), Tree('NP', [('e', 'NN')]), Tree('NP', [('n', 'JJ'), ('d', 'NN')]), (',', ','), (' ', 'NNP'), ('h', 'VBZ'), ('e', 'JJ'), (' ', 'NNP'), Tree('NP', [('h', 'NN')]), Tree('NP', [('a', 'DT'), ('d', 'NN')]), Tree('NP', [(' ', 'NN')]), Tree('NP', [('p', 'NN')]), Tree('NP', [('r', 'NN')]), Tree('NP', [('o', 'NN')]), Tree('NP', [('v', 'NN')]), Tree('NP', [('e', 'NN')]), Tree('NP', [('d', 'NN')]), (' ', 'NNP'), Tree('NP', [('h', 'NN')]), Tree('NP', [('i', 'NN')]), ('s', 'VBP'), (' ', 'NNP'), Tree('NP', [('m', 'NN')]), Tree('NP', [('e', 'NN')]), Tree('NP', [('t', 'NN')]), Tree('NP', [('t', 'NN')]), Tree('NP', [('l', 'NN')]), Tree('NP', [('e', 'NN')]), ('.', '.'), (' ', 'CC'), Tree('NP', [('\\n', 'JJ'), ('\\n', 'NN')]), ('I', 'PRP'), (' ', 'VBP'), Tree('NP', [('o', 'JJ'), ('b', 'NN')]), Tree('NP', [('s', 'NN')]), Tree('NP', [('e', 'NN')]), Tree('NP', [('r', 'NN')]), Tree('NP', [('v', 'NN')]), Tree('NP', [('e', 'NN')]), Tree('NP', [('d', 'NN')]), (' ', 'NNP'), Tree('NP', [('t', 'NN')]), ('h', 'VBD'), Tree('NP', [('a', 'DT'), ('t', 'NN')]), (' ', 'NNP'), ('X', 'NNP'), (' ', 'NNP'), ('h', 'VBD'), Tree('NP', [('a', 'DT'), ('d', 'NN')]), (' ', 'VBZ'), Tree('NP', [('a', 'DT'), (' ', 'JJ'), ('k', 'NN')]), Tree('NP', [('e', 'NN')]), Tree('NP', [('e', 'NN')]), ('n', 'IN'), Tree('NP', [(' ', 'NN')]), Tree('NP', [('i', 'NN')]), ('n', 'VBP'), Tree('NP', [('t', 'NN')]), Tree('NP', [('e', 'NN')]), Tree('NP', [('r', 'NN')]), Tree('NP', [('e', 'NN')]), Tree('NP', [('s', 'NN')]), Tree('NP', [('t', 'NN')]), (' ', 'VBZ'), Tree('NP', [('a', 'DT'), ('n', 'JJ'), ('d', 'NN')]), (' ', 'NNP'), ('w', 'VBZ'), Tree('NP', [('a', 'DT'), ('s', 'JJ'), (' ', 'NN')]), Tree('NP', [('f', 'NN')]), Tree('NP', [('u', 'JJ'), ('l', 'NN')]), Tree('NP', [('l', 'NN')]), Tree('NP', [('y', 'NN')]), Tree('NP', [(' ', 'NN')]), Tree('NP', [('i', 'NN')]), ('n', 'VBP'), Tree('NP', [('v', 'NN')]), Tree('NP', [('o', 'NN')]), Tree('NP', [('l', 'NN')]), Tree('NP', [('v', 'NN')]), Tree('NP', [('e', 'NN')]), Tree('NP', [('d', 'NN')]), Tree('NP', [(' ', 'NN')]), Tree('NP', [('i', 'NN')]), ('n', 'VBP'), Tree('NP', [(' ', 'JJ'), ('t', 'NN')]), Tree('NP', [('h', 'NN')]), Tree('NP', [('e', 'NN')]), (' ', 'NNP'), ('c', 'VBZ'), Tree('NP', [('o', 'JJ'), ('u', 'JJ'), ('r', 'NN')]), Tree('NP', [('s', 'NN')]), Tree('NP', [('e', 'NN')]), (' ', 'NNP'), Tree('NP', [('w', 'NN')]), Tree('NP', [('h', 'NN')]), Tree('NP', [('e', 'NN')]), ('n', 'IN'), Tree('NP', [(' ', 'NN')]), ('I', 'PRP'), (' ', 'VBP'), ('s', 'PDT'), Tree('NP', [('a', 'DT'), ('w', 'NN')]), Tree('NP', [(' ', 'NN')]), Tree('NP', [('h', 'NN')]), ('i', 'JJ'), ('s', 'VBP'), Tree('NP', [(' ', 'JJ'), ('p', 'NN')]), Tree('NP', [('e', 'NN')]), Tree('NP', [('r', 'NN')]), Tree('NP', [('f', 'NN')]), Tree('NP', [('o', 'NN')]), Tree('NP', [('r', 'NN')]), ('m', 'VBD'), Tree('NP', [('a', 'DT'), ('n', 'JJ'), ('c', 'NN')]), Tree('NP', [('e', 'NN')]), ('s', 'JJ'), (' ', 'NNP'), Tree('NP', [('d', 'NN')]), Tree('NP', [('u', 'JJ'), ('r', 'NN')]), Tree('NP', [('i', 'NN')]), ('n', 'VBP'), Tree('NP', [('g', 'NN')]), (' ', 'NNP'), Tree('NP', [('t', 'NN')]), Tree('NP', [('h', 'NN')]), Tree('NP', [('e', 'NN')]), (' ', 'NNP'), ('L', 'NNP'), Tree('NP', [('a', 'DT'), ('b', 'NN')]), Tree('NP', [(' ', 'NN')]), Tree('NP', [('s', 'NN')]), Tree('NP', [('e', 'NN')]), ('s', 'VBD'), Tree('NP', [('s', 'JJ'), ('i', 'NN')]), ('o', 'VBP'), Tree('NP', [('n', 'JJ'), ('s', 'NN')]), (',', ','), (' ', 'NNP'), ('w', 'VBZ'), Tree('NP', [('h', 'NN')]), Tree('NP', [('e', 'NN')]), Tree('NP', [('r', 'NN')]), Tree('NP', [('e', 'NN')]), (' ', 'NNP'), Tree('NP', [('h', 'NN')]), Tree('NP', [('e', 'NN')]), (' ', 'NNP'), Tree('NP', [('w', 'NN')]), Tree('NP', [('o', 'NN')]), Tree('NP', [('u', 'JJ'), ('l', 'NN')]), Tree('NP', [('d', 'NN')]), Tree('NP', [(' ', 'NN')]), Tree('NP', [('b', 'NN')]), Tree('NP', [('e', 'NN')]), (' ', 'VBZ'), Tree('NP', [('a', 'DT'), ('b', 'NN')]), Tree('NP', [('l', 'NN')]), Tree('NP', [('e', 'NN')]), (' ', 'NNP'), Tree('NP', [('t', 'NN')]), Tree('NP', [('o', 'NN')]), (' ', 'NNP'), Tree('NP', [('g', 'NN')]), Tree('NP', [('r', 'NN')]), Tree('NP', [('a', 'DT'), ('s', 'JJ'), ('p', 'NN')]), (' ', 'NNP'), ('n', 'CC'), Tree('NP', [('e', 'JJ'), ('w', 'NN')]), (' ', 'NNP'), ('c', 'VBZ'), Tree('NP', [('o', 'JJ'), ('n', 'JJ'), ('c', 'NN')]), Tree('NP', [('e', 'NN')]), Tree('NP', [('p', 'NN')]), Tree('NP', [('t', 'NN')]), Tree('NP', [('s', 'NN')]), (' ', 'NNP'), Tree('NP', [('s', 'NN')]), Tree('NP', [('u', 'JJ'), ('c', 'NN')]), Tree('NP', [('h', 'NN')]), (' ', 'VBZ'), Tree('NP', [('a', 'DT'), ('s', 'JJ'), (' ', 'NN')]), Tree('NP', [('q', 'NN')]), Tree('NP', [('u', 'JJ'), ('e', 'NN')]), Tree('NP', [('r', 'NN')]), Tree('NP', [('y', 'NN')]), (' ', 'NNP'), Tree('NP', [('f', 'NN')]), Tree('NP', [('o', 'NN')]), Tree('NP', [('r', 'NN')]), ('m', 'VBD'), Tree('NP', [('a', 'DT'), ('t', 'NN')]), Tree('NP', [('i', 'NN')]), ('o', 'VBP'), ('n', 'RB'), (' ', 'VBP'), Tree('NP', [('a', 'DT'), ('n', 'JJ'), ('d', 'NN')]), (' ', 'NNP'), Tree('NP', [('j', 'NN')]), Tree('NP', [('o', 'NN')]), Tree('NP', [('i', 'NN')]), ('n', 'VBP'), Tree('NP', [('s', 'NN')]), ('.', '.'), (' ', 'CC'), ('H', 'NNP'), ('e', 'VBP'), (' ', 'NNP'), ('h', 'VBD'), Tree('NP', [('a', 'DT'), ('s', 'NN')]), Tree('NP', [(' ', 'NN')]), Tree('NP', [('b', 'NN')]), Tree('NP', [('e', 'NN')]), Tree('NP', [('e', 'NN')]), ('n', 'JJ'), (' ', 'NNP'), Tree('NP', [('h', 'NN')]), Tree('NP', [('i', 'NN')]), ('g', 'VBP'), Tree('NP', [('h', 'NN')]), Tree('NP', [('l', 'NN')]), Tree('NP', [('y', 'NN')]), (' ', 'VBZ'), Tree('NP', [('a', 'DT'), ('c', 'JJ'), ('t', 'NN')]), Tree('NP', [('i', 'NN')]), ('v', 'VBP'), Tree('NP', [('e', 'NN')]), Tree('NP', [(' ', 'NN')]), Tree('NP', [('i', 'NN')]), ('n', 'VBP'), Tree('NP', [(' ', 'JJ'), ('t', 'NN')]), Tree('NP', [('h', 'NN')]), Tree('NP', [('e', 'NN')]), (' ', 'NNP'), Tree('NP', [('t', 'NN')]), Tree('NP', [('e', 'NN')]), Tree('NP', [('c', 'NN')]), Tree('NP', [('h', 'NN')]), Tree('NP', [('n', 'NN')]), Tree('NP', [('i', 'NN')]), ('c', 'VBP'), Tree('NP', [('a', 'DT'), ('l', 'NN')]), (' ', 'NNP'), ('s', 'VBZ'), Tree('NP', [('c', 'JJ'), ('e', 'NN')]), Tree('NP', [('n', 'JJ'), ('e', 'NN')]), (' ', 'NNP'), ('o', 'VBZ'), ('f', 'JJ'), (' ', 'NNP'), Tree('NP', [('o', 'NN')]), Tree('NP', [('u', 'JJ'), ('r', 'NN')]), (' ', 'NNP'), ('c', 'VBZ'), Tree('NP', [('o', 'JJ'), ('l', 'NN')]), Tree('NP', [('l', 'NN')]), Tree('NP', [('e', 'NN')]), Tree('NP', [('g', 'NN')]), Tree('NP', [('e', 'NN')]), (' ', 'NNP'), Tree('NP', [('t', 'NN')]), Tree('NP', [('o', 'NN')]), Tree('NP', [('o', 'NN')]), (' ', 'NNP'), Tree('NP', [('w', 'NN')]), Tree('NP', [('i', 'NN')]), ('t', 'VBP'), Tree('NP', [('h', 'NN')]), Tree('NP', [(' ', 'NN')]), Tree('NP', [('h', 'NN')]), ('i', 'JJ'), ('m', 'VBP'), Tree('NP', [(' ', 'JJ'), ('o', 'NN')]), Tree('NP', [('r', 'NN')]), ('g', 'VBD'), Tree('NP', [('a', 'DT'), ('n', 'NN')]), Tree('NP', [('i', 'NN')]), ('z', 'VBP'), Tree('NP', [('i', 'NN')]), ('n', 'VBP'), Tree('NP', [('g', 'NN')]), (' ', 'NNP'), ('m', 'VBZ'), Tree('NP', [('a', 'DT'), ('n', 'JJ'), ('y', 'NN')]), (' ', 'NNP'), Tree('NP', [('e', 'NN')]), Tree('NP', [('v', 'NN')]), Tree('NP', [('e', 'NN')]), Tree('NP', [('n', 'JJ'), ('t', 'NN')]), Tree('NP', [('s', 'NN')]), ('.', '.'), ('\\n', 'VB'), ('\\n', 'IN'), Tree('NP', [('A', 'DT'), ('s', 'JJ'), (' ', 'NN')]), Tree('NP', [('a', 'DT'), (' ', 'JJ'), ('p', 'NN')]), Tree('NP', [('a', 'DT'), ('r', 'NN')]), Tree('NP', [('t', 'NN')]), (' ', 'NNP'), ('o', 'VBZ'), ('f', 'JJ'), (' ', 'NNP'), Tree('NP', [('t', 'NN')]), Tree('NP', [('h', 'NN')]), Tree('NP', [('e', 'NN')]), (' ', 'NNP'), ('c', 'VBZ'), Tree('NP', [('o', 'JJ'), ('u', 'JJ'), ('r', 'NN')]), Tree('NP', [('s', 'NN')]), Tree('NP', [('e', 'NN')]), (',', ','), (' ', 'NNP'), ('s', 'VBD'), Tree('NP', [('t', 'JJ'), ('u', 'JJ'), ('d', 'NN')]), Tree('NP', [('e', 'NN')]), Tree('NP', [('n', 'JJ'), ('t', 'NN')]), Tree('NP', [('s', 'NN')]), (' ', 'VBZ'), Tree('NP', [('a', 'DT'), ('r', 'NN')]), Tree('NP', [('e', 'NN')]), (' ', 'NNP'), Tree('NP', [('r', 'NN')]), Tree('NP', [('e', 'NN')]), ('q', 'IN'), Tree('NP', [('u', 'JJ'), ('i', 'NN')]), ('r', 'VBP'), Tree('NP', [('e', 'NN')]), Tree('NP', [('d', 'NN')]), (' ', 'NNP'), Tree('NP', [('t', 'NN')]), Tree('NP', [('o', 'NN')]), (' ', 'NNP'), Tree('NP', [('d', 'NN')]), Tree('NP', [('e', 'NN')]), Tree('NP', [('v', 'NN')]), Tree('NP', [('e', 'NN')]), Tree('NP', [('l', 'NN')]), Tree('NP', [('o', 'NN')]), Tree('NP', [('p', 'NN')]), (' ', 'VBZ'), Tree('NP', [('a', 'DT'), (' ', 'NN')]), Tree('NP', [('p', 'NN')]), Tree('NP', [('r', 'NN')]), ('o', 'IN'), Tree('NP', [('j', 'NN')]), Tree('NP', [('e', 'NN')]), Tree('NP', [('c', 'NN')]), Tree('NP', [('t', 'NN')]), (',', ','), (' ', 'NNP'), Tree('NP', [('w', 'NN')]), Tree('NP', [('i', 'NN')]), ('t', 'VBP'), Tree('NP', [('h', 'NN')]), (' ', 'VBP'), Tree('NP', [('a', 'DT'), (' ', 'JJ'), ('f', 'NN')]), Tree('NP', [('u', 'JJ'), ('l', 'NN')]), Tree('NP', [('l', 'NN')]), Tree('NP', [('y', 'NN')]), (' ', 'NNP'), Tree('NP', [('f', 'NN')]), Tree('NP', [('u', 'JJ'), ('n', 'JJ'), ('c', 'NN')]), Tree('NP', [('t', 'NN')]), Tree('NP', [('i', 'NN')]), ('o', 'VBP'), ('n', 'IN'), Tree('NP', [('a', 'DT'), ('l', 'NN')]), (' ', 'NNP'), ('D', 'NNP'), Tree('NP', [('a', 'DT'), ('t', 'NN')]), Tree('NP', [('a', 'DT'), ('b', 'NN')]), Tree('NP', [('a', 'DT'), ('s', 'NN')]), Tree('NP', [('e', 'NN')]), (' ', 'NNP'), ('S', 'NNP'), ('y', 'NNP'), ('s', 'VBD'), Tree('NP', [('t', 'JJ'), ('e', 'NN')]), Tree('NP', [('m', 'NN')]), (' ', 'NNP'), ('c', 'VBZ'), ('o', 'JJ'), ('n', 'IN'), Tree('NP', [('s', 'NN')]), Tree('NP', [('i', 'NN')]), ('s', 'VBP'), Tree('NP', [('t', 'NN')]), Tree('NP', [('i', 'NN')]), ('n', 'VBP'), Tree('NP', [('g', 'NN')]), (' ', 'NNP'), ('o', 'VBZ'), ('f', 'JJ'), (' ', 'NNP'), Tree('NP', [('t', 'NN')]), Tree('NP', [('h', 'NN')]), Tree('NP', [('e', 'NN')]), (' ', 'NNP'), ('c', 'VBZ'), Tree('NP', [('o', 'JJ'), ('n', 'JJ'), ('c', 'NN')]), Tree('NP', [('e', 'NN')]), Tree('NP', [('p', 'NN')]), Tree('NP', [('t', 'NN')]), Tree('NP', [('s', 'NN')]), (' ', 'NNP'), Tree('NP', [('l', 'NN')]), ('e', 'VBZ'), Tree('NP', [('a', 'DT'), ('r', 'NN')]), Tree('NP', [('n', 'JJ'), ('t', 'NN')]), (' ', 'NNP'), Tree('NP', [('t', 'NN')]), Tree('NP', [('h', 'NN')]), Tree('NP', [('r', 'NN')]), Tree('NP', [('o', 'NN')]), Tree('NP', [('u', 'JJ'), ('g', 'NN')]), Tree('NP', [('h', 'NN')]), Tree('NP', [('o', 'JJ'), ('u', 'JJ'), ('t', 'NN')]), (' ', 'NNP'), Tree('NP', [('t', 'NN')]), Tree('NP', [('h', 'NN')]), Tree('NP', [('e', 'NN')]), (' ', 'NNP'), Tree('NP', [('s', 'NN')]), Tree('NP', [('e', 'NN')]), Tree('NP', [('m', 'NN')]), Tree('NP', [('e', 'NN')]), Tree('NP', [('s', 'NN')]), Tree('NP', [('t', 'NN')]), Tree('NP', [('e', 'NN')]), Tree('NP', [('r', 'NN')]), ('.', '.'), (' ', 'CC'), ('D', 'NNP'), ('e', 'VBP'), Tree('NP', [('s', 'JJ'), ('p', 'NN')]), Tree('NP', [('i', 'NN')]), ('t', 'VBP'), Tree('NP', [('e', 'NN')]), (' ', 'NNP'), ('X', 'NNP'), (' ', 'NNP'), Tree('NP', [('n', 'JJ'), ('o', 'NN')]), Tree('NP', [('t', 'NN')]), Tree('NP', [(' ', 'NN')]), ('b', 'IN'), Tree('NP', [('e', 'NN')]), Tree('NP', [('i', 'NN')]), ('n', 'VBP'), Tree('NP', [('g', 'NN')]), Tree('NP', [(' ', 'NN')]), Tree('NP', [('f', 'NN')]), Tree('NP', [('r', 'NN')]), ('o', 'IN'), Tree('NP', [('m', 'NN')]), (' ', 'VBP'), Tree('NP', [('a', 'DT'), (' ', 'JJ'), ('c', 'NN')]), Tree('NP', [('o', 'NN')]), Tree('NP', [('m', 'NN')]), Tree('NP', [('p', 'NN')]), Tree('NP', [('u', 'JJ'), ('t', 'NN')]), Tree('NP', [('e', 'NN')]), Tree('NP', [('r', 'NN')]), (' ', 'NNP'), ('s', 'VBZ'), Tree('NP', [('c', 'NN')]), Tree('NP', [('i', 'NN')]), ('e', 'VBP'), Tree('NP', [('n', 'JJ'), ('c', 'NN')]), Tree('NP', [('e', 'NN')]), (' ', 'NNP'), ('b', 'VBZ'), Tree('NP', [('a', 'DT'), ('c', 'NN')]), Tree('NP', [('k', 'NN')]), Tree('NP', [('g', 'NN')]), Tree('NP', [('r', 'NN')]), Tree('NP', [('o', 'NN')]), Tree('NP', [('u', 'JJ'), ('n', 'JJ'), ('d', 'NN')]), (',', ','), Tree('NP', [(' ', 'JJ'), ('h', 'NN')]), Tree('NP', [('i', 'NN')]), ('s', 'VBP'), Tree('NP', [(' ', 'NN')]), Tree('NP', [('p', 'NN')]), Tree('NP', [('r', 'NN')]), ('o', 'IN'), Tree('NP', [('j', 'NN')]), Tree('NP', [('e', 'NN')]), ('c', 'VBP'), Tree('NP', [('t', 'NN')]), (' ', 'NNP'), Tree('NP', [('d', 'NN')]), Tree('NP', [('i', 'NN')]), ('d', 'VBP'), Tree('NP', [(' ', 'JJ'), ('n', 'JJ'), ('o', 'NN')]), Tree('NP', [('t', 'NN')]), (' ', 'NNP'), ('l', 'VBZ'), Tree('NP', [('a', 'DT'), ('n', 'JJ'), ('g', 'NN')]), Tree('NP', [('u', 'NN')]), Tree('NP', [('i', 'NN')]), ('s', 'VBP'), Tree('NP', [('h', 'NN')]), ('.', '.'), (' ', 'CC'), ('H', 'NNP'), ('e', 'VBP'), (' ', 'NNP'), Tree('NP', [('w', 'NN')]), Tree('NP', [('e', 'NN')]), Tree('NP', [('n', 'JJ'), ('t', 'NN')]), (' ', 'VBD'), Tree('NP', [('a', 'DT'), ('b', 'NN')]), Tree('NP', [('o', 'NN')]), Tree('NP', [('v', 'NN')]), Tree('NP', [('e', 'NN')]), (' ', 'VBZ'), Tree('NP', [('a', 'DT'), ('n', 'JJ'), ('d', 'NN')]), Tree('NP', [(' ', 'NN')]), Tree('NP', [('b', 'NN')]), Tree('NP', [('e', 'NN')]), Tree('NP', [('y', 'NN')]), Tree('NP', [('o', 'NN')]), Tree('NP', [('n', 'JJ'), ('d', 'NN')]), (' ', 'NNP'), Tree('NP', [('t', 'NN')]), Tree('NP', [('o', 'NN')]), (' ', 'NNP'), ('m', 'VBZ'), Tree('NP', [('a', 'DT'), ('k', 'NN')]), Tree('NP', [('e', 'NN')]), (' ', 'VBZ'), Tree('NP', [('a', 'DT'), (' ', 'NN')]), Tree('NP', [('p', 'NN')]), Tree('NP', [('r', 'NN')]), Tree('NP', [('o', 'NN')]), Tree('NP', [('f', 'NN')]), Tree('NP', [('e', 'NN')]), ('s', 'VBD'), Tree('NP', [('s', 'JJ'), ('i', 'NN')]), ('o', 'VBP'), ('n', 'IN'), Tree('NP', [('a', 'DT'), ('l', 'NN')]), (' ', 'NNP'), ('d', 'VBZ'), Tree('NP', [('a', 'DT'), ('t', 'NN')]), Tree('NP', [('a', 'DT'), ('b', 'NN')]), Tree('NP', [('a', 'DT'), ('s', 'NN')]), Tree('NP', [('e', 'NN')]), (' ', 'NNP'), Tree('NP', [('d', 'NN')]), Tree('NP', [('e', 'NN')]), Tree('NP', [('s', 'NN')]), Tree('NP', [('i', 'NN')]), ('g', 'VBP'), Tree('NP', [('n', 'NN')]), (',', ','), (' ', 'NNP'), ('w', 'VBP'), Tree('NP', [('h', 'NN')]), ('i', 'JJ'), ('c', 'VBP'), Tree('NP', [('h', 'JJ'), (' ', 'NN')]), Tree('NP', [('i', 'NN')]), ('n', 'VBP'), Tree('NP', [('c', 'NN')]), Tree('NP', [('l', 'NN')]), Tree('NP', [('u', 'JJ'), ('d', 'NN')]), Tree('NP', [('e', 'NN')]), Tree('NP', [('d', 'NN')]), (' ', 'VBZ'), Tree('NP', [('a', 'DT'), ('n', 'JJ'), (' ', 'NN')]), ('‘', 'VBD'), ('A', 'NNP'), Tree('NP', [('u', 'JJ'), ('t', 'NN')]), ('o', 'IN'), ('-', ':'), ('I', 'PRP'), ('n', 'VBP'), Tree('NP', [('c', 'JJ'), ('r', 'NN')]), Tree('NP', [('e', 'NN')]), Tree('NP', [('m', 'NN')]), Tree('NP', [('e', 'NN')]), Tree('NP', [('n', 'JJ'), ('t', 'NN')]), ('’', 'NNP'), (' ', 'NNP'), ('f', 'VBZ'), ('e', 'VB'), Tree('NP', [('a', 'DT'), ('t', 'NN')]), Tree('NP', [('u', 'JJ'), ('r', 'NN')]), Tree('NP', [('e', 'NN')]), (' ', 'NNP'), Tree('NP', [('u', 'JJ'), ('s', 'NN')]), Tree('NP', [('i', 'NN')]), ('n', 'VBP'), Tree('NP', [('g', 'NN')]), (' ', 'VBP'), ('a', 'DT'), (' ', 'JJ'), ('P', 'NNP'), ('L', 'NNP'), ('/', 'NNP'), ('S', 'NNP'), ('Q', 'NNP'), ('L', 'NNP'), (' ', 'NNP'), ('s', 'VBD'), Tree('NP', [('e', 'JJ'), ('q', 'NN')]), Tree('NP', [('u', 'JJ'), ('e', 'NN')]), Tree('NP', [('n', 'JJ'), ('c', 'NN')]), Tree('NP', [('e', 'NN')]), (' ', 'NNP'), Tree('NP', [('w', 'NN')]), Tree('NP', [('r', 'NN')]), Tree('NP', [('i', 'NN')]), ('t', 'VBP'), Tree('NP', [('t', 'NN')]), Tree('NP', [('e', 'NN')]), Tree('NP', [('n', 'JJ'), (' ', 'NN')]), Tree('NP', [('b', 'NN')]), Tree('NP', [('y', 'NN')]), (' ', 'NNP'), Tree('NP', [('h', 'NN')]), Tree('NP', [('i', 'NN')]), Tree('NP', [('m', 'NN')]), (',', ','), (' ', 'NNP'), Tree('NP', [('b', 'NN')]), Tree('NP', [('u', 'NN')]), Tree('NP', [('l', 'NN')]), Tree('NP', [('k', 'NN')]), (' ', 'NNP'), Tree('NP', [('i', 'NN')]), ('n', 'VBP'), Tree('NP', [('s', 'NN')]), Tree('NP', [('e', 'NN')]), Tree('NP', [('r', 'NN')]), Tree('NP', [('t', 'NN')]), Tree('NP', [('i', 'NN')]), ('o', 'VBP'), ('n', 'IN'), Tree('NP', [(' ', 'NN')]), Tree('NP', [('i', 'NN')]), ('n', 'VBP'), Tree('NP', [('t', 'NN')]), Tree('NP', [('o', 'NN')]), (' ', 'NNP'), Tree('NP', [('t', 'NN')]), Tree('NP', [('h', 'NN')]), Tree('NP', [('e', 'NN')]), (' ', 'NNP'), ('t', 'VBZ'), Tree('NP', [('a', 'DT'), ('b', 'NN')]), Tree('NP', [('l', 'NN')]), Tree('NP', [('e', 'NN')]), (' ', 'VBZ'), Tree('NP', [('a', 'DT'), ('n', 'JJ'), ('d', 'NN')]), (' ', 'NNP'), ('o', 'VBZ'), Tree('NP', [('t', 'JJ'), ('h', 'NN')]), Tree('NP', [('e', 'NN')]), Tree('NP', [('r', 'NN')]), (' ', 'NNP'), ('f', 'VBZ'), ('e', 'VB'), Tree('NP', [('a', 'DT'), ('t', 'NN')]), Tree('NP', [('u', 'JJ'), ('r', 'NN')]), Tree('NP', [('e', 'NN')]), Tree('NP', [('s', 'NN')]), ('.', '.'), Tree('NP', [('\\n', 'JJ'), ('\\n', 'NN')]), ('I', 'PRP'), (' ', 'VBP'), ('w', 'WRB'), Tree('NP', [('a', 'DT'), ('s', 'NN')]), (' ', 'NNP'), Tree('NP', [('p', 'NN')]), Tree('NP', [('l', 'NN')]), ('e', 'VBZ'), Tree('NP', [('a', 'DT'), ('s', 'JJ'), ('e', 'NN')]), Tree('NP', [('d', 'NN')]), (' ', 'NNP'), Tree('NP', [('t', 'NN')]), Tree('NP', [('o', 'NN')]), (' ', 'NNP'), Tree('NP', [('k', 'NN')]), ('n', 'NNP'), ('o', 'VBZ'), ('w', 'JJ'), (' ', 'NNP'), Tree('NP', [('t', 'NN')]), ('h', 'VBD'), Tree('NP', [('a', 'DT'), ('t', 'NN')]), Tree('NP', [(' ', 'NN')]), Tree('NP', [('h', 'NN')]), Tree('NP', [('e', 'NN')]), (' ', 'VBZ'), Tree('NP', [('a', 'DT'), ('p', 'NN')]), Tree('NP', [('p', 'NN')]), Tree('NP', [('l', 'NN')]), Tree('NP', [('i', 'NN')]), ('e', 'VBP'), Tree('NP', [('d', 'NN')]), (' ', 'NNP'), Tree('NP', [('t', 'NN')]), Tree('NP', [('h', 'NN')]), Tree('NP', [('e', 'NN')]), (' ', 'NNP'), ('c', 'VBZ'), Tree('NP', [('o', 'JJ'), ('n', 'JJ'), ('c', 'NN')]), Tree('NP', [('e', 'NN')]), Tree('NP', [('p', 'NN')]), Tree('NP', [('t', 'NN')]), Tree('NP', [('s', 'NN')]), Tree('NP', [(' ', 'NN')]), Tree('NP', [('i', 'NN')]), ('n', 'VBP'), (' ', 'IN'), Tree('NP', [('h', 'NN')]), Tree('NP', [('i', 'NN')]), ('s', 'VBP'), Tree('NP', [(' ', 'NN')]), Tree('NP', [('i', 'NN')]), ('n', 'VBP'), Tree('NP', [('t', 'NN')]), Tree('NP', [('e', 'NN')]), Tree('NP', [('r', 'NN')]), Tree('NP', [('n', 'JJ'), ('s', 'NN')]), Tree('NP', [('h', 'NN')]), ('i', 'JJ'), ('p', 'VBP'), Tree('NP', [(' ', 'JJ'), ('e', 'NN')]), ('x', 'NNP'), Tree('NP', [('t', 'NN')]), Tree('NP', [('e', 'NN')]), ('n', 'IN'), Tree('NP', [('s', 'NN')]), Tree('NP', [('i', 'NN')]), ('v', 'VBP'), Tree('NP', [('e', 'NN')]), Tree('NP', [('l', 'NN')]), Tree('NP', [('y', 'NN')]), (' ', 'NNP'), Tree('NP', [('t', 'NN')]), Tree('NP', [('o', 'NN')]), Tree('NP', [(' ', 'NN')]), ('b', 'IN'), Tree('NP', [('u', 'JJ'), ('i', 'NN')]), ('l', 'VBP'), Tree('NP', [('d', 'NN')]), (' ', 'VBP'), Tree('NP', [('a', 'DT'), (' ', 'NN')]), Tree('NP', [('p', 'NN')]), Tree('NP', [('r', 'NN')]), Tree('NP', [('o', 'NN')]), Tree('NP', [('f', 'NN')]), Tree('NP', [('e', 'NN')]), ('s', 'VBD'), Tree('NP', [('s', 'JJ'), ('i', 'NN')]), ('o', 'VBP'), ('n', 'IN'), Tree('NP', [('a', 'DT'), ('l', 'NN')]), (' ', 'NNP'), Tree('NP', [('t', 'NN')]), Tree('NP', [('o', 'NN')]), Tree('NP', [('o', 'NN')]), Tree('NP', [('l', 'NN')]), (' ', 'NNP'), Tree('NP', [('f', 'NN')]), Tree('NP', [('o', 'NN')]), Tree('NP', [('r', 'NN')]), Tree('NP', [(' ', 'NN')]), ('I', 'PRP'), ('n', 'VBP'), Tree('NP', [('t', 'JJ'), ('e', 'NN')]), Tree('NP', [('l', 'NN')]), Tree('NP', [('l', 'NN')]), Tree('NP', [('e', 'NN')]), ('c', 'VBP'), Tree('NP', [('t', 'NN')]), (' ', 'NNP'), ('D', 'NNP'), ('e', 'VBP'), Tree('NP', [('s', 'NN')]), Tree('NP', [('i', 'NN')]), ('g', 'VBP'), ('n', 'RB'), (' ', 'VBP'), ('A', 'NNP'), Tree('NP', [('r', 'NN')]), Tree('NP', [('e', 'NN')]), ('n', 'IN'), ('a', 'DT'), ('.', '.'), Tree('NP', [(' ', 'NN')]), ('H', 'NNP'), Tree('NP', [('e', 'NN')]), (' ', 'NNP'), Tree('NP', [('d', 'NN')]), Tree('NP', [('e', 'NN')]), Tree('NP', [('s', 'NN')]), Tree('NP', [('i', 'NN')]), ('g', 'VBP'), Tree('NP', [('n', 'JJ'), ('e', 'NN')]), Tree('NP', [('d', 'NN')]), (' ', 'NNP'), Tree('NP', [('t', 'NN')]), Tree('NP', [('h', 'NN')]), ('i', 'JJ'), ('s', 'VBP'), Tree('NP', [(' ', 'JJ'), ('t', 'NN')]), Tree('NP', [('o', 'NN')]), Tree('NP', [('o', 'NN')]), Tree('NP', [('l', 'NN')]), (' ', 'NNP'), Tree('NP', [('t', 'NN')]), Tree('NP', [('o', 'NN')]), (' ', 'NNP'), ('m', 'VBZ'), Tree('NP', [('a', 'DT'), ('k', 'NN')]), Tree('NP', [('e', 'NN')]), (' ', 'NNP'), Tree('NP', [('t', 'NN')]), Tree('NP', [('h', 'NN')]), Tree('NP', [('e', 'NN')]), (' ', 'NNP'), Tree('NP', [('p', 'NN')]), Tree('NP', [('r', 'NN')]), ('o', 'IN'), Tree('NP', [('c', 'JJ'), ('e', 'NN')]), Tree('NP', [('s', 'NN')]), Tree('NP', [('s', 'NN')]), (' ', 'NNP'), ('o', 'VBZ'), ('f', 'JJ'), (' ', 'NNP'), Tree('NP', [('c', 'NN')]), Tree('NP', [('o', 'NN')]), ('n', 'IN'), Tree('NP', [('f', 'NN')]), Tree('NP', [('i', 'NN')]), ('g', 'VBP'), Tree('NP', [('u', 'JJ'), ('r', 'NN')]), Tree('NP', [('i', 'NN')]), ('n', 'VBP'), Tree('NP', [('g', 'NN')]), (' ', 'VBP'), ('a', 'DT'), (' ', 'JJ'), ('L', 'NNP'), Tree('NP', [('o', 'NN')]), Tree('NP', [('g', 'NN')]), Tree('NP', [('i', 'NN')]), ('c', 'VBP'), Tree('NP', [('a', 'DT'), ('l', 'NN')]), (' ', 'NNP'), ('D', 'NNP'), Tree('NP', [('a', 'DT'), ('t', 'NN')]), ('a', 'DT'), (' ', 'JJ'), ('M', 'NNP'), Tree('NP', [('o', 'NN')]), Tree('NP', [('d', 'NN')]), Tree('NP', [('e', 'NN')]), Tree('NP', [('l', 'NN')]), (' ', 'NNP'), ('e', 'VBZ'), Tree('NP', [('a', 'DT'), ('s', 'NN')]), Tree('NP', [('i', 'NN')]), ('e', 'VBP'), Tree('NP', [('r', 'NN')]), (' ', 'VBP'), Tree('NP', [('a', 'DT'), ('n', 'JJ'), ('d', 'NN')]), (' ', 'NNP'), Tree('NP', [('m', 'NN')]), Tree('NP', [('u', 'JJ'), ('c', 'NN')]), Tree('NP', [('h', 'NN')]), (' ', 'NNP'), ('f', 'VBZ'), Tree('NP', [('a', 'DT'), ('s', 'JJ'), ('t', 'NN')]), Tree('NP', [('e', 'NN')]), Tree('NP', [('r', 'NN')]), ('.', '.'), Tree('NP', [(' ', 'NN')]), ('I', 'PRP'), ('t', 'VBP'), Tree('NP', [(' ', 'JJ'), ('c', 'NN')]), Tree('NP', [('o', 'NN')]), ('n', 'IN'), Tree('NP', [('s', 'NN')]), Tree('NP', [('i', 'NN')]), ('s', 'VBP'), Tree('NP', [('t', 'NN')]), Tree('NP', [('e', 'NN')]), Tree('NP', [('d', 'NN')]), (' ', 'NNP'), ('o', 'VBZ'), ('f', 'JJ'), (' ', 'IN'), ('a', 'DT'), (' ', 'JJ'), ('U', 'NNP'), Tree('NP', [('s', 'NN')]), Tree('NP', [('e', 'NN')]), Tree('NP', [('r', 'NN')]), Tree('NP', [(' ', 'NN')]), ('I', 'PRP'), ('n', 'VBP'), Tree('NP', [('t', 'JJ'), ('e', 'NN')]), Tree('NP', [('r', 'NN')]), ('f', 'VBD'), Tree('NP', [('a', 'DT'), ('c', 'JJ'), ('e', 'NN')]), (' ', 'NNP'), ('(', '('), ('U', 'NNP'), ('I', 'PRP'), (')', ')'), (' ', 'VBP'), Tree('NP', [('t', 'JJ'), ('h', 'NN')]), Tree('NP', [('a', 'DT'), ('t', 'NN')]), (' ', 'NNP'), ('c', 'VBZ'), Tree('NP', [('a', 'DT'), ('n', 'JJ'), (' ', 'NN')]), Tree('NP', [('r', 'NN')]), Tree('NP', [('e', 'NN')]), ('p', 'IN'), Tree('NP', [('l', 'NN')]), Tree('NP', [('i', 'NN')]), ('c', 'VBP'), Tree('NP', [('a', 'DT'), ('t', 'NN')]), Tree('NP', [('e', 'NN')]), (' ', 'NNP'), ('b', 'VBZ'), Tree('NP', [('a', 'DT'), ('c', 'NN')]), ('k', 'SYM'), ('-', ':'), Tree('NP', [('e', 'NN')]), Tree('NP', [('n', 'JJ'), ('d', 'NN')]), (' ', 'NNP'), ('t', 'VBZ'), Tree('NP', [('a', 'DT'), ('s', 'JJ'), ('k', 'NN')]), ('s', 'VBD'), (' ', 'NNP'), Tree('NP', [('s', 'NN')]), Tree('NP', [('u', 'JJ'), ('c', 'NN')]), Tree('NP', [('h', 'NN')]), (' ', 'VBZ'), Tree('NP', [('a', 'DT'), ('s', 'JJ'), (' ', 'NN')]), Tree('NP', [('i', 'NN')]), ('n', 'VBP'), Tree('NP', [('s', 'NN')]), Tree('NP', [('e', 'NN')]), Tree('NP', [('r', 'NN')]), Tree('NP', [('t', 'NN')]), Tree('NP', [('i', 'NN')]), ('n', 'VBP'), Tree('NP', [('g', 'NN')]), (' ', 'NNP'), ('d', 'VBZ'), Tree('NP', [('a', 'DT'), ('t', 'NN')]), Tree('NP', [('a', 'DT'), (' ', 'NN')]), Tree('NP', [('i', 'NN')]), ('n', 'VBP'), (' ', 'PDT'), ('a', 'DT'), (' ', 'NNP'), Tree('NP', [('d', 'NN')]), Tree('NP', [('a', 'DT'), ('t', 'NN')]), Tree('NP', [('a', 'DT'), ('b', 'NN')]), Tree('NP', [('a', 'DT'), ('s', 'NN')]), Tree('NP', [('e', 'NN')]), (' ', 'VBZ'), Tree('NP', [('a', 'DT'), ('t', 'NN')]), (' ', 'NNP'), Tree('NP', [('t', 'NN')]), Tree('NP', [('h', 'NN')]), Tree('NP', [('e', 'NN')]), (' ', 'NNP'), ('c', 'VBZ'), Tree('NP', [('l', 'NN')]), ('i', 'JJ'), ('c', 'VBP'), Tree('NP', [('k', 'NN')]), (' ', 'NNP'), ('o', 'VBZ'), ('f', 'JJ'), (' ', 'IN'), Tree('NP', [('a', 'DT'), (' ', 'NN')]), Tree('NP', [('b', 'NN')]), Tree('NP', [('u', 'JJ'), ('t', 'NN')]), Tree('NP', [('t', 'NN')]), Tree('NP', [('o', 'NN')]), Tree('NP', [('n', 'NN')]), ('.', '.'), (' ', 'JJ'), ('H', 'NNP'), Tree('NP', [('i', 'NN')]), ('s', 'VBP'), (' ', 'NNP'), ('t', 'VBP'), Tree('NP', [('a', 'DT'), ('s', 'NN')]), Tree('NP', [('k', 'NN')]), (' ', 'NNP'), ('w', 'VBZ'), ('a', 'DT'), ('s', 'JJ'), (' ', 'NNP'), Tree('NP', [('c', 'NN')]), Tree('NP', [('u', 'JJ'), ('t', 'NN')]), (' ', 'NNP'), ('o', 'VBZ'), Tree('NP', [('u', 'JJ'), ('t', 'NN')]), (' ', 'NNP'), Tree('NP', [('f', 'NN')]), Tree('NP', [('o', 'NN')]), Tree('NP', [('r', 'NN')]), (' ', 'NNP'), Tree('NP', [('h', 'NN')]), Tree('NP', [('i', 'NN')]), ('m', 'VBP'), (' ', 'PDT'), Tree('NP', [('a', 'DT'), ('s', 'JJ'), (' ', 'NN')]), Tree('NP', [('t', 'NN')]), Tree('NP', [('h', 'NN')]), Tree('NP', [('e', 'NN')]), (' ', 'NNP'), Tree('NP', [('t', 'NN')]), Tree('NP', [('o', 'NN')]), Tree('NP', [('o', 'NN')]), Tree('NP', [('l', 'NN')]), (' ', 'NNP'), ('w', 'VBZ'), Tree('NP', [('a', 'DT'), ('s', 'NN')]), Tree('NP', [(' ', 'NN')]), ('b', 'IN'), Tree('NP', [('e', 'NN')]), Tree('NP', [('i', 'NN')]), ('n', 'VBP'), Tree('NP', [('g', 'NN')]), Tree('NP', [(' ', 'NN')]), ('b', 'IN'), Tree('NP', [('u', 'JJ'), ('i', 'NN')]), ('l', 'VBP'), Tree('NP', [('t', 'NN')]), (' ', 'NNP'), Tree('NP', [('f', 'NN')]), Tree('NP', [('o', 'NN')]), Tree('NP', [('r', 'NN')]), (' ', 'NNP'), ('J', 'NNP'), ('.', '.'), ('P', 'NNP'), ('.', '.'), (' ', 'NNP'), ('M', 'NNP'), ('o', 'MD'), ('r', 'VB'), ('g', 'VB'), ('a', 'DT'), ('n', 'JJ'), (' ', 'NNP'), ('C', 'NNP'), ('h', 'VBD'), Tree('NP', [('a', 'DT'), ('s', 'JJ'), ('e', 'NN')]), (' ', 'VBD'), Tree('NP', [('a', 'DT'), ('s', 'NN')]), (' ', 'VBZ'), Tree('NP', [('a', 'DT'), (' ', 'JJ'), ('c', 'NN')]), Tree('NP', [('l', 'NN')]), Tree('NP', [('i', 'NN')]), ('e', 'VBP'), Tree('NP', [('n', 'JJ'), ('t', 'NN')]), (' ', 'VBD'), Tree('NP', [('a', 'DT'), ('n', 'JJ'), ('d', 'NN')]), (' ', 'NNP'), Tree('NP', [('h', 'NN')]), Tree('NP', [('e', 'NN')]), Tree('NP', [('n', 'JJ'), ('c', 'NN')]), Tree('NP', [('e', 'NN')]), (' ', 'NNP'), Tree('NP', [('t', 'NN')]), Tree('NP', [('h', 'NN')]), Tree('NP', [('e', 'NN')]), Tree('NP', [('r', 'NN')]), Tree('NP', [('e', 'NN')]), (' ', 'NNP'), ('w', 'VBZ'), Tree('NP', [('a', 'DT'), ('s', 'JJ'), (' ', 'NN')]), Tree('NP', [('n', 'JJ'), ('o', 'NN')]), (' ', 'NNP'), Tree('NP', [('r', 'NN')]), Tree('NP', [('o', 'NN')]), ('o', 'IN'), Tree('NP', [('m', 'NN')]), (' ', 'NNP'), Tree('NP', [('f', 'NN')]), Tree('NP', [('o', 'NN')]), Tree('NP', [('r', 'NN')]), (' ', 'NNP'), Tree('NP', [('e', 'NN')]), Tree('NP', [('r', 'NN')]), Tree('NP', [('r', 'NN')]), Tree('NP', [('o', 'NN')]), Tree('NP', [('r', 'NN')]), ('.', '.'), Tree('NP', [(' ', 'NN')]), ('I', 'PRP'), (' ', 'VBP'), Tree('NP', [('a', 'DT'), ('m', 'NN')]), Tree('NP', [(' ', 'NN')]), Tree('NP', [('p', 'NN')]), Tree('NP', [('r', 'NN')]), Tree('NP', [('o', 'NN')]), Tree('NP', [('u', 'JJ'), ('d', 'NN')]), (' ', 'NNP'), Tree('NP', [('t', 'NN')]), Tree('NP', [('o', 'NN')]), (' ', 'NNP'), ('s', 'VBZ'), Tree('NP', [('a', 'DT'), ('y', 'NN')]), (' ', 'NNP'), Tree('NP', [('t', 'NN')]), ('h', 'VBD'), Tree('NP', [('a', 'DT'), ('t', 'NN')]), (' ', 'NNP'), Tree('NP', [('t', 'NN')]), Tree('NP', [('h', 'NN')]), Tree('NP', [('e', 'NN')]), (' ', 'NNP'), Tree('NP', [('t', 'NN')]), Tree('NP', [('o', 'NN')]), Tree('NP', [('o', 'NN')]), Tree('NP', [('l', 'NN')]), (',', ','), (' ', 'NNP'), ('w', 'VBP'), Tree('NP', [('h', 'NN')]), ('i', 'JJ'), ('c', 'VBP'), ('h', 'JJ'), (' ', 'NNP'), Tree('NP', [('h', 'NN')]), Tree('NP', [('e', 'NN')]), (' ', 'NNP'), Tree('NP', [('b', 'NN')]), Tree('NP', [('u', 'NN')]), Tree('NP', [('i', 'NN')]), ('l', 'VBP'), Tree('NP', [('t', 'NN')]), (' ', 'NNP'), ('o', 'VBZ'), ('v', 'FW'), ('e', 'FW'), Tree('NP', [('r', 'NN')]), (' ', 'VBZ'), Tree('NP', [('a', 'DT'), (' ', 'JJ'), ('c', 'NN')]), Tree('NP', [('o', 'NN')]), Tree('NP', [('u', 'JJ'), ('r', 'NN')]), Tree('NP', [('s', 'NN')]), Tree('NP', [('e', 'NN')]), (' ', 'NNP'), ('o', 'VBZ'), ('f', 'JJ'), (' ', 'NNP'), Tree('NP', [('t', 'NN')]), Tree('NP', [('w', 'NN')]), Tree('NP', [('o', 'NN')]), (' ', 'NNP'), Tree('NP', [('m', 'NN')]), Tree('NP', [('o', 'NN')]), Tree('NP', [('n', 'JJ'), ('t', 'NN')]), Tree('NP', [('h', 'NN')]), Tree('NP', [('s', 'NN')]), (',', ','), (' ', 'NNP'), ('w', 'VBZ'), Tree('NP', [('a', 'DT'), ('s', 'JJ'), (' ', 'NN')]), Tree('NP', [('p', 'NN')]), Tree('NP', [('u', 'JJ'), ('s', 'NN')]), Tree('NP', [('h', 'NN')]), Tree('NP', [('e', 'NN')]), Tree('NP', [('d', 'NN')]), (' ', 'NNP'), Tree('NP', [('t', 'NN')]), Tree('NP', [('o', 'NN')]), (' ', 'NNP'), Tree('NP', [('p', 'NN')]), Tree('NP', [('r', 'NN')]), Tree('NP', [('o', 'NN')]), Tree('NP', [('d', 'NN')]), Tree('NP', [('u', 'JJ'), ('c', 'NN')]), Tree('NP', [('t', 'NN')]), Tree('NP', [('i', 'NN')]), ('o', 'VBP'), ('n', 'RB'), (' ', 'VBP'), Tree('NP', [('a', 'DT'), ('t', 'NN')]), (' ', 'NNP'), Tree('NP', [('t', 'NN')]), Tree('NP', [('h', 'NN')]), Tree('NP', [('e', 'NN')]), (' ', 'NNP'), Tree('NP', [('e', 'NN')]), ('n', 'RB'), ('d', 'JJ'), (' ', 'NNP'), Tree('NP', [('o', 'NN')]), Tree('NP', [('f', 'NN')]), (' ', 'NNP'), Tree('NP', [('h', 'NN')]), Tree('NP', [('i', 'NN')]), ('s', 'VBP'), Tree('NP', [(' ', 'NN')]), Tree('NP', [('i', 'NN')]), ('n', 'VBP'), Tree('NP', [('t', 'NN')]), Tree('NP', [('e', 'NN')]), Tree('NP', [('r', 'NN')]), Tree('NP', [('n', 'JJ'), ('s', 'NN')]), Tree('NP', [('h', 'NN')]), Tree('NP', [('i', 'JJ'), ('p', 'NN')]), ('.', '.'), ('\\n', 'CC'), ('\\n', 'JJ'), ('X', 'NNP'), (' ', 'NNP'), ('m', 'VBZ'), Tree('NP', [('a', 'DT'), ('k', 'NN')]), Tree('NP', [('e', 'NN')]), Tree('NP', [('s', 'NN')]), (' ', 'VBZ'), Tree('NP', [('a', 'DT'), (' ', 'JJ'), ('s', 'NN')]), Tree('NP', [('t', 'NN')]), Tree('NP', [('r', 'NN')]), Tree('NP', [('o', 'NN')]), Tree('NP', [('n', 'JJ'), ('g', 'NN')]), (' ', 'NNP'), ('c', 'VBZ'), Tree('NP', [('a', 'DT'), ('n', 'JJ'), ('d', 'NN')]), Tree('NP', [('i', 'NN')]), ('d', 'VBP'), Tree('NP', [('a', 'DT'), ('t', 'NN')]), Tree('NP', [('e', 'NN')]), (' ', 'NNP'), Tree('NP', [('f', 'NN')]), Tree('NP', [('o', 'NN')]), Tree('NP', [('r', 'NN')]), (' ', 'NNP'), ('y', 'NNP'), ('o', 'MD'), ('u', 'VB'), Tree('NP', [('r', 'NN')]), (' ', 'NNP'), ('M', 'NNP'), Tree('NP', [('a', 'DT'), ('s', 'JJ'), ('t', 'NN')]), Tree('NP', [('e', 'NN')]), Tree('NP', [('r', 'NN')]), (\"'\", \"''\"), ('s', 'JJ'), (' ', 'NNP'), Tree('NP', [('p', 'NN')]), Tree('NP', [('r', 'NN')]), Tree('NP', [('o', 'NN')]), Tree('NP', [('g', 'NN')]), ('r', 'VBZ'), Tree('NP', [('a', 'DT'), ('m', 'NN')]), (' ', 'NNP'), ('m', 'VBZ'), Tree('NP', [('a', 'DT'), ('j', 'NN')]), ('o', 'IN'), Tree('NP', [('r', 'NN')]), Tree('NP', [('i', 'NN')]), ('n', 'VBP'), Tree('NP', [('g', 'NN')]), Tree('NP', [(' ', 'NN')]), Tree('NP', [('i', 'NN')]), ('n', 'VBP'), (' ', 'NNP'), ('C', 'NNP'), ('o', 'MD'), ('m', 'VB'), Tree('NP', [('p', 'JJ'), ('u', 'JJ'), ('t', 'NN')]), Tree('NP', [('e', 'NN')]), Tree('NP', [('r', 'NN')]), (' ', 'NNP'), ('S', 'NNP'), Tree('NP', [('c', 'NN')]), Tree('NP', [('i', 'NN')]), ('e', 'VBP'), Tree('NP', [('n', 'JJ'), ('c', 'NN')]), Tree('NP', [('e', 'NN')]), ('.', '.'), (' ', 'JJ'), ('H', 'NNP'), Tree('NP', [('i', 'NN')]), ('s', 'VBP'), Tree('NP', [(' ', 'NN')]), Tree('NP', [('p', 'NN')]), Tree('NP', [('r', 'NN')]), Tree('NP', [('o', 'NN')]), Tree('NP', [('p', 'NN')]), Tree('NP', [('o', 'NN')]), Tree('NP', [('s', 'NN')]), Tree('NP', [('e', 'NN')]), Tree('NP', [('d', 'NN')]), (' ', 'NNP'), ('c', 'VBZ'), Tree('NP', [('a', 'DT'), ('n', 'JJ'), ('d', 'NN')]), Tree('NP', [('i', 'NN')]), ('d', 'VBP'), Tree('NP', [('a', 'DT'), ('t', 'NN')]), Tree('NP', [('u', 'JJ'), ('r', 'NN')]), Tree('NP', [('e', 'NN')]), (' ', 'NNP'), ('h', 'VBZ'), ('a', 'DT'), ('s', 'JJ'), (' ', 'NNP'), Tree('NP', [('m', 'NN')]), Tree('NP', [('y', 'NN')]), (' ', 'NNP'), Tree('NP', [('e', 'NN')]), ('n', 'RB'), Tree('NP', [('d', 'JJ'), ('o', 'NN')]), Tree('NP', [('r', 'NN')]), Tree('NP', [('s', 'NN')]), Tree('NP', [('e', 'NN')]), Tree('NP', [('m', 'NN')]), Tree('NP', [('e', 'NN')]), Tree('NP', [('n', 'JJ'), ('t', 'NN')]), (' ', 'NNP'), Tree('NP', [('w', 'NN')]), Tree('NP', [('i', 'NN')]), ('t', 'VBP'), Tree('NP', [('h', 'NN')]), Tree('NP', [('o', 'NN')]), Tree('NP', [('u', 'JJ'), ('t', 'NN')]), (' ', 'VBD'), Tree('NP', [('a', 'DT'), ('n', 'JJ'), ('y', 'NN')]), (' ', 'NNP'), Tree('NP', [('r', 'NN')]), Tree('NP', [('e', 'NN')]), Tree('NP', [('s', 'NN')]), Tree('NP', [('e', 'NN')]), Tree('NP', [('r', 'NN')]), ('v', 'IN'), Tree('NP', [('a', 'DT'), ('t', 'NN')]), Tree('NP', [('i', 'NN')]), ('o', 'VBP'), Tree('NP', [('n', 'JJ'), ('s', 'NN')]), (' ', 'NNP'), Tree('NP', [('w', 'NN')]), ('h', 'VBD'), Tree('NP', [('a', 'DT'), ('t', 'NN')]), Tree('NP', [('s', 'NN')]), Tree('NP', [('o', 'NN')]), Tree('NP', [('e', 'NN')]), Tree('NP', [('v', 'NN')]), Tree('NP', [('e', 'NN')]), Tree('NP', [('r', 'NN')]), ('.', '.')])"
      ]
     },
     "execution_count": 43,
     "metadata": {},
     "output_type": "execute_result"
    }
   ],
   "source": [
    "result_lor1"
   ]
  },
  {
   "cell_type": "code",
   "execution_count": null,
   "metadata": {
    "ExecuteTime": {
     "start_time": "2020-06-25T07:39:05.463Z"
    }
   },
   "outputs": [],
   "source": [
    "result_lor1.draw()"
   ]
  },
  {
   "cell_type": "code",
   "execution_count": 7,
   "metadata": {
    "ExecuteTime": {
     "end_time": "2020-06-25T07:49:41.574980Z",
     "start_time": "2020-06-25T07:49:39.880421Z"
    }
   },
   "outputs": [],
   "source": [
    "lor1_chunk = nltk.ne_chunk(nltk.pos_tag(text))"
   ]
  },
  {
   "cell_type": "code",
   "execution_count": 8,
   "metadata": {
    "ExecuteTime": {
     "end_time": "2020-06-25T07:52:41.688787Z",
     "start_time": "2020-06-25T07:49:41.581977Z"
    }
   },
   "outputs": [
    {
     "name": "stderr",
     "output_type": "stream",
     "text": [
      "The Ghostscript executable isn't found.\n",
      "See http://web.mit.edu/ghostscript/www/Install.htm\n",
      "If you're using a Mac, you can try installing\n",
      "https://docs.brew.sh/Installation then `brew install ghostscript`\n"
     ]
    },
    {
     "ename": "LookupError",
     "evalue": "",
     "output_type": "error",
     "traceback": [
      "\u001b[1;31m---------------------------------------------------------------------------\u001b[0m",
      "\u001b[1;31mLookupError\u001b[0m                               Traceback (most recent call last)",
      "\u001b[1;32m~\\AppData\\Local\\Continuum\\anaconda3\\lib\\site-packages\\nltk\\tree.py\u001b[0m in \u001b[0;36m_repr_png_\u001b[1;34m(self)\u001b[0m\n\u001b[0;32m    805\u001b[0m                             \u001b[0menv_vars\u001b[0m\u001b[1;33m=\u001b[0m\u001b[1;33m[\u001b[0m\u001b[1;34m'PATH'\u001b[0m\u001b[1;33m]\u001b[0m\u001b[1;33m,\u001b[0m\u001b[1;33m\u001b[0m\u001b[1;33m\u001b[0m\u001b[0m\n\u001b[1;32m--> 806\u001b[1;33m                             \u001b[0mverbose\u001b[0m\u001b[1;33m=\u001b[0m\u001b[1;32mFalse\u001b[0m\u001b[1;33m,\u001b[0m\u001b[1;33m\u001b[0m\u001b[1;33m\u001b[0m\u001b[0m\n\u001b[0m\u001b[0;32m    807\u001b[0m                         )\n",
      "\u001b[1;32m~\\AppData\\Local\\Continuum\\anaconda3\\lib\\site-packages\\nltk\\internals.py\u001b[0m in \u001b[0;36mfind_binary\u001b[1;34m(name, path_to_bin, env_vars, searchpath, binary_names, url, verbose)\u001b[0m\n\u001b[0;32m    696\u001b[0m         find_binary_iter(\n\u001b[1;32m--> 697\u001b[1;33m             \u001b[0mname\u001b[0m\u001b[1;33m,\u001b[0m \u001b[0mpath_to_bin\u001b[0m\u001b[1;33m,\u001b[0m \u001b[0menv_vars\u001b[0m\u001b[1;33m,\u001b[0m \u001b[0msearchpath\u001b[0m\u001b[1;33m,\u001b[0m \u001b[0mbinary_names\u001b[0m\u001b[1;33m,\u001b[0m \u001b[0murl\u001b[0m\u001b[1;33m,\u001b[0m \u001b[0mverbose\u001b[0m\u001b[1;33m\u001b[0m\u001b[1;33m\u001b[0m\u001b[0m\n\u001b[0m\u001b[0;32m    698\u001b[0m         )\n",
      "\u001b[1;32m~\\AppData\\Local\\Continuum\\anaconda3\\lib\\site-packages\\nltk\\internals.py\u001b[0m in \u001b[0;36mfind_binary_iter\u001b[1;34m(name, path_to_bin, env_vars, searchpath, binary_names, url, verbose)\u001b[0m\n\u001b[0;32m    680\u001b[0m     for file in find_file_iter(\n\u001b[1;32m--> 681\u001b[1;33m         \u001b[0mpath_to_bin\u001b[0m \u001b[1;32mor\u001b[0m \u001b[0mname\u001b[0m\u001b[1;33m,\u001b[0m \u001b[0menv_vars\u001b[0m\u001b[1;33m,\u001b[0m \u001b[0msearchpath\u001b[0m\u001b[1;33m,\u001b[0m \u001b[0mbinary_names\u001b[0m\u001b[1;33m,\u001b[0m \u001b[0murl\u001b[0m\u001b[1;33m,\u001b[0m \u001b[0mverbose\u001b[0m\u001b[1;33m\u001b[0m\u001b[1;33m\u001b[0m\u001b[0m\n\u001b[0m\u001b[0;32m    682\u001b[0m     ):\n",
      "\u001b[1;32m~\\AppData\\Local\\Continuum\\anaconda3\\lib\\site-packages\\nltk\\internals.py\u001b[0m in \u001b[0;36mfind_file_iter\u001b[1;34m(filename, env_vars, searchpath, file_names, url, verbose, finding_dir)\u001b[0m\n\u001b[0;32m    638\u001b[0m         \u001b[0mdiv\u001b[0m \u001b[1;33m=\u001b[0m \u001b[1;34m'='\u001b[0m \u001b[1;33m*\u001b[0m \u001b[1;36m75\u001b[0m\u001b[1;33m\u001b[0m\u001b[1;33m\u001b[0m\u001b[0m\n\u001b[1;32m--> 639\u001b[1;33m         \u001b[1;32mraise\u001b[0m \u001b[0mLookupError\u001b[0m\u001b[1;33m(\u001b[0m\u001b[1;34m'\\n\\n%s\\n%s\\n%s'\u001b[0m \u001b[1;33m%\u001b[0m \u001b[1;33m(\u001b[0m\u001b[0mdiv\u001b[0m\u001b[1;33m,\u001b[0m \u001b[0mmsg\u001b[0m\u001b[1;33m,\u001b[0m \u001b[0mdiv\u001b[0m\u001b[1;33m)\u001b[0m\u001b[1;33m)\u001b[0m\u001b[1;33m\u001b[0m\u001b[1;33m\u001b[0m\u001b[0m\n\u001b[0m\u001b[0;32m    640\u001b[0m \u001b[1;33m\u001b[0m\u001b[0m\n",
      "\u001b[1;31mLookupError\u001b[0m: \n\n===========================================================================\nNLTK was unable to find the gs file!\nUse software specific configuration paramaters or set the PATH environment variable.\n===========================================================================",
      "\nDuring handling of the above exception, another exception occurred:\n",
      "\u001b[1;31mLookupError\u001b[0m                               Traceback (most recent call last)",
      "\u001b[1;32m~\\AppData\\Local\\Continuum\\anaconda3\\lib\\site-packages\\IPython\\core\\formatters.py\u001b[0m in \u001b[0;36m__call__\u001b[1;34m(self, obj)\u001b[0m\n\u001b[0;32m    343\u001b[0m             \u001b[0mmethod\u001b[0m \u001b[1;33m=\u001b[0m \u001b[0mget_real_method\u001b[0m\u001b[1;33m(\u001b[0m\u001b[0mobj\u001b[0m\u001b[1;33m,\u001b[0m \u001b[0mself\u001b[0m\u001b[1;33m.\u001b[0m\u001b[0mprint_method\u001b[0m\u001b[1;33m)\u001b[0m\u001b[1;33m\u001b[0m\u001b[1;33m\u001b[0m\u001b[0m\n\u001b[0;32m    344\u001b[0m             \u001b[1;32mif\u001b[0m \u001b[0mmethod\u001b[0m \u001b[1;32mis\u001b[0m \u001b[1;32mnot\u001b[0m \u001b[1;32mNone\u001b[0m\u001b[1;33m:\u001b[0m\u001b[1;33m\u001b[0m\u001b[1;33m\u001b[0m\u001b[0m\n\u001b[1;32m--> 345\u001b[1;33m                 \u001b[1;32mreturn\u001b[0m \u001b[0mmethod\u001b[0m\u001b[1;33m(\u001b[0m\u001b[1;33m)\u001b[0m\u001b[1;33m\u001b[0m\u001b[1;33m\u001b[0m\u001b[0m\n\u001b[0m\u001b[0;32m    346\u001b[0m             \u001b[1;32mreturn\u001b[0m \u001b[1;32mNone\u001b[0m\u001b[1;33m\u001b[0m\u001b[1;33m\u001b[0m\u001b[0m\n\u001b[0;32m    347\u001b[0m         \u001b[1;32melse\u001b[0m\u001b[1;33m:\u001b[0m\u001b[1;33m\u001b[0m\u001b[1;33m\u001b[0m\u001b[0m\n",
      "\u001b[1;32m~\\AppData\\Local\\Continuum\\anaconda3\\lib\\site-packages\\nltk\\tree.py\u001b[0m in \u001b[0;36m_repr_png_\u001b[1;34m(self)\u001b[0m\n\u001b[0;32m    817\u001b[0m                                         \"https://docs.brew.sh/Installation then `brew install ghostscript`\")                \n\u001b[0;32m    818\u001b[0m                 \u001b[0mprint\u001b[0m\u001b[1;33m(\u001b[0m\u001b[0mpre_error_message\u001b[0m\u001b[1;33m,\u001b[0m \u001b[0mfile\u001b[0m\u001b[1;33m=\u001b[0m\u001b[0msys\u001b[0m\u001b[1;33m.\u001b[0m\u001b[0mstderr\u001b[0m\u001b[1;33m)\u001b[0m\u001b[1;33m\u001b[0m\u001b[1;33m\u001b[0m\u001b[0m\n\u001b[1;32m--> 819\u001b[1;33m                 \u001b[1;32mraise\u001b[0m \u001b[0mLookupError\u001b[0m\u001b[1;33m\u001b[0m\u001b[1;33m\u001b[0m\u001b[0m\n\u001b[0m\u001b[0;32m    820\u001b[0m \u001b[1;33m\u001b[0m\u001b[0m\n\u001b[0;32m    821\u001b[0m             \u001b[1;32mwith\u001b[0m \u001b[0mopen\u001b[0m\u001b[1;33m(\u001b[0m\u001b[0mout_path\u001b[0m\u001b[1;33m,\u001b[0m \u001b[1;34m'rb'\u001b[0m\u001b[1;33m)\u001b[0m \u001b[1;32mas\u001b[0m \u001b[0msr\u001b[0m\u001b[1;33m:\u001b[0m\u001b[1;33m\u001b[0m\u001b[1;33m\u001b[0m\u001b[0m\n",
      "\u001b[1;31mLookupError\u001b[0m: "
     ]
    },
    {
     "data": {
      "text/plain": [
       "Tree('S', [('T', 'NNP'), ('O', 'NNP'), (' ', 'NNP'), ('W', 'NNP'), ('H', 'NNP'), ('O', 'NNP'), ('M', 'NNP'), ('S', 'NNP'), ('O', 'NNP'), ('E', 'NNP'), ('V', 'NNP'), ('E', 'NNP'), ('R', 'NNP'), (' ', 'NNP'), ('I', 'PRP'), ('T', 'NNP'), (' ', 'NNP'), ('M', 'NNP'), ('A', 'NNP'), ('Y', 'NNP'), (' ', 'NNP'), ('C', 'NNP'), ('O', 'NNP'), ('N', 'NNP'), ('C', 'NNP'), ('E', 'NNP'), ('R', 'NNP'), ('N', 'NNP'), ('\\n', 'NNP'), ('\\n', 'NNP'), ('\\n', 'NNP'), ('\\n', 'NNP'), ('I', 'PRP'), (' ', 'VBP'), ('a', 'DT'), ('m', 'NN'), (' ', 'NNP'), ('p', 'NN'), ('l', 'NN'), ('e', 'VBZ'), ('a', 'DT'), ('s', 'JJ'), ('e', 'NN'), ('d', 'NN'), (' ', 'NNP'), ('t', 'NN'), ('o', 'NN'), (' ', 'NNP'), ('r', 'NN'), ('e', 'NN'), ('c', 'VBP'), ('o', 'JJ'), ('m', 'NN'), ('m', 'NN'), ('e', 'NN'), ('n', 'JJ'), ('d', 'NN'), (' ', 'NNP'), ('M', 'NNP'), ('r', 'NN'), ('X', 'NNP'), ('X', 'NNP'), (' ', 'NNP'), ('f', 'VBD'), ('o', 'JJ'), ('r', 'NN'), (' ', 'VBD'), ('a', 'DT'), ('n', 'JJ'), (' ', 'NNP'), ('M', 'NNP'), ('S', 'NNP'), (' ', 'NNP'), ('i', 'NN'), ('n', 'VBP'), (' ', 'NNP'), ('C', 'NNP'), ('o', 'MD'), ('m', 'VB'), ('p', 'JJ'), ('u', 'JJ'), ('t', 'NN'), ('e', 'NN'), ('r', 'NN'), (' ', 'NNP'), ('S', 'NNP'), ('c', 'NN'), ('i', 'NN'), ('e', 'VBP'), ('n', 'JJ'), ('c', 'NN'), ('e', 'NN'), (' ', 'VBZ'), ('a', 'DT'), ('t', 'NN'), (' ', 'NNP'), ('y', 'NNP'), ('o', 'MD'), ('u', 'VB'), ('r', 'NN'), (' ', 'NNP'), ('e', 'NN'), ('s', 'NN'), ('t', 'NN'), ('e', 'NN'), ('e', 'VBP'), ('m', 'NN'), ('e', 'NN'), ('d', 'NN'), (' ', 'NNP'), ('u', 'JJ'), ('n', 'NN'), ('i', 'NN'), ('v', 'VBP'), ('e', 'NN'), ('r', 'NN'), ('s', 'NN'), ('i', 'NN'), ('t', 'VBP'), ('y', 'NN'), ('.', '.'), (' ', 'NN'), ('I', 'PRP'), (' ', 'VBP'), ('h', 'PDT'), ('a', 'DT'), ('v', 'NN'), ('e', 'NN'), (' ', 'NNP'), ('k', 'NN'), ('n', 'NNP'), ('o', 'VBZ'), ('w', 'JJ'), ('n', 'JJ'), (' ', 'NN'), ('h', 'NN'), ('i', 'JJ'), ('m', 'VBP'), (' ', 'JJ'), ('s', 'NN'), ('i', 'NN'), ('n', 'VBP'), ('c', 'NN'), ('e', 'NN'), (' ', 'NNP'), ('h', 'NN'), ('i', 'NN'), ('s', 'VBP'), (' ', 'JJ'), ('s', 'NN'), ('e', 'NN'), ('c', 'VBP'), ('o', 'JJ'), ('n', 'JJ'), ('d', 'NN'), (' ', 'NNP'), ('y', 'NNP'), ('e', 'VBZ'), ('a', 'DT'), ('r', 'NN'), ('.', '.'), (' ', 'CC'), ('H', 'NNP'), ('e', 'VBP'), (' ', 'NNP'), ('w', 'VBP'), ('a', 'DT'), ('s', 'NN'), (' ', 'NNP'), ('m', 'NN'), ('y', 'NN'), (' ', 'NNP'), ('s', 'NN'), ('t', 'NN'), ('u', 'JJ'), ('d', 'NN'), ('e', 'NN'), ('n', 'JJ'), ('t', 'NN'), (' ', 'NN'), ('i', 'NN'), ('n', 'VBP'), (' ', 'JJ'), ('t', 'NN'), ('h', 'NN'), ('e', 'NN'), (' ', 'VBD'), ('3', 'CD'), ('r', 'NN'), ('d', 'NN'), (' ', 'NNP'), ('s', 'NN'), ('e', 'NN'), ('m', 'NN'), ('e', 'NN'), ('s', 'NN'), ('t', 'NN'), ('e', 'NN'), ('r', 'NN'), (' ', 'NNP'), ('(', '('), ('2', 'CD'), ('n', 'RB'), ('d', 'JJ'), (' ', 'NNP'), ('y', 'NN'), ('e', 'VBZ'), ('a', 'DT'), ('r', 'NN'), (')', ')'), (',', ','), (' ', 'JJ'), ('w', 'NN'), ('h', 'NN'), ('e', 'NN'), ('r', 'NN'), ('e', 'NN'), (' ', 'NN'), ('I', 'PRP'), (' ', 'VBP'), ('t', 'VB'), ('a', 'DT'), ('u', 'JJ'), ('g', 'NN'), ('h', 'NN'), ('t', 'NN'), (' ', 'NNP'), ('h', 'NN'), ('i', 'NN'), ('m', 'VBP'), (' ', 'JJ'), ('t', 'NN'), ('h', 'NN'), ('e', 'NN'), (' ', 'NNP'), ('c', 'VBZ'), ('o', 'JJ'), ('u', 'JJ'), ('r', 'NN'), ('s', 'NN'), ('e', 'NN'), (' ', 'NNP'), ('o', 'VBZ'), ('f', 'JJ'), (' ', 'NNP'), ('D', 'NNP'), ('a', 'DT'), ('t', 'NN'), ('a', 'DT'), ('b', 'NN'), ('a', 'DT'), ('s', 'NN'), ('e', 'NN'), (' ', 'NNP'), ('M', 'NNP'), ('a', 'DT'), ('n', 'NN'), ('a', 'DT'), ('g', 'NN'), ('e', 'NN'), ('m', 'NN'), ('e', 'NN'), ('n', 'JJ'), ('t', 'NN'), (' ', 'NNP'), ('S', 'NNP'), ('y', 'NNP'), ('s', 'VBD'), ('t', 'JJ'), ('e', 'NN'), ('m', 'NN'), ('s', 'NN'), ('.', '.'), (' ', 'CC'), ('\\n', 'JJ'), ('\\n', 'NN'), ('I', 'PRP'), (' ', 'VBP'), ('f', 'JJ'), ('i', 'NN'), ('r', 'VBP'), ('s', 'NN'), ('t', 'NN'), (' ', 'NNP'), ('g', 'NN'), ('o', 'NN'), ('t', 'NN'), (' ', 'NNP'), ('t', 'NN'), ('o', 'NN'), (' ', 'NNP'), ('k', 'NN'), ('n', 'NNP'), ('o', 'VBZ'), ('w', 'JJ'), (' ', 'NNP'), ('X', 'NNP'), (' ', 'NNP'), ('i', 'JJ'), ('n', 'VBP'), (' ', 'JJ'), ('t', 'NN'), ('h', 'NN'), ('e', 'NN'), (' ', 'NNP'), ('c', 'VBZ'), ('o', 'JJ'), ('u', 'JJ'), ('r', 'NN'), ('s', 'NN'), ('e', 'NN'), (' ', 'NNP'), ('o', 'VBZ'), ('f', 'JJ'), (' ', 'NNP'), ('D', 'NNP'), ('a', 'DT'), ('t', 'NN'), ('a', 'DT'), ('b', 'NN'), ('a', 'DT'), ('s', 'NN'), ('e', 'NN'), (' ', 'NNP'), ('M', 'NNP'), ('a', 'DT'), ('n', 'NN'), ('a', 'DT'), ('g', 'NN'), ('e', 'NN'), ('m', 'NN'), ('e', 'NN'), ('n', 'JJ'), ('t', 'NN'), (' ', 'NNP'), ('S', 'NNP'), ('y', 'NNP'), ('s', 'VBD'), ('t', 'JJ'), ('e', 'NN'), ('m', 'NN'), ('s', 'NN'), (',', ','), (' ', 'NNP'), ('C', 'NNP'), ('S', 'NNP'), ('E', 'NNP'), ('-', ':'), ('2', 'CD'), ('0', 'CD'), ('0', 'CD'), ('4', 'CD'), ('.', '.'), (' ', 'NN'), ('I', 'PRP'), ('n', 'VBP'), (' ', 'JJ'), ('t', 'NN'), ('h', 'NN'), ('e', 'NN'), (' ', 'NNP'), ('f', 'NN'), ('i', 'NN'), ('r', 'VBP'), ('s', 'NN'), ('t', 'NN'), (' ', 'NNP'), ('w', 'NN'), ('e', 'NN'), ('e', 'NN'), ('k', 'NN'), (' ', 'NNP'), ('o', 'VBZ'), ('f', 'JJ'), (' ', 'NNP'), ('t', 'NN'), ('h', 'NN'), ('e', 'NN'), (' ', 'NNP'), ('c', 'VBZ'), ('o', 'JJ'), ('u', 'JJ'), ('r', 'NN'), ('s', 'NN'), ('e', 'NN'), (',', ','), (' ', 'VBP'), ('I', 'PRP'), (' ', 'VBP'), ('w', 'WRB'), ('a', 'DT'), ('s', 'NN'), (' ', 'NNP'), ('s', 'NN'), ('u', 'JJ'), ('r', 'NN'), ('p', 'NN'), ('r', 'NN'), ('i', 'NN'), ('s', 'VBP'), ('e', 'NN'), ('d', 'NN'), (' ', 'NNP'), ('t', 'NN'), ('o', 'NN'), (' ', 'NNP'), ('k', 'NN'), ('n', 'NNP'), ('o', 'VBZ'), ('w', 'JJ'), (' ', 'NNP'), ('t', 'NN'), ('h', 'VBD'), ('a', 'DT'), ('t', 'NN'), (' ', 'NN'), ('X', 'NNP'), (',', ','), (' ', 'VBZ'), ('a', 'DT'), ('n', 'JJ'), (' ', 'NN'), ('E', 'NNP'), ('l', 'NN'), ('e', 'NN'), ('c', 'NN'), ('t', 'NN'), ('r', 'NN'), ('o', 'IN'), ('n', 'JJ'), ('i', 'JJ'), ('c', 'VBP'), ('s', 'JJ'), (' ', 'FW'), ('a', 'DT'), ('n', 'JJ'), ('d', 'NN'), (' ', 'NN'), ('I', 'PRP'), ('n', 'VBP'), ('s', 'JJ'), ('t', 'NN'), ('r', 'NN'), ('u', 'JJ'), ('m', 'NN'), ('e', 'NN'), ('n', 'JJ'), ('t', 'VBZ'), ('a', 'DT'), ('t', 'NN'), ('i', 'NN'), ('o', 'VBP'), ('n', 'JJ'), (' ', 'NNP'), ('s', 'NN'), ('t', 'NN'), ('u', 'JJ'), ('d', 'NN'), ('e', 'NN'), ('n', 'JJ'), ('t', 'NN'), (',', ','), (' ', 'NNP'), ('h', 'VBZ'), ('a', 'DT'), ('d', 'NN'), (' ', 'NNP'), ('t', 'VBZ'), ('a', 'DT'), ('k', 'NN'), ('e', 'NN'), ('n', 'JJ'), (' ', 'NNP'), ('u', 'NN'), ('p', 'NN'), (' ', 'VBZ'), ('a', 'DT'), (' ', 'JJ'), ('c', 'NN'), ('o', 'NN'), ('m', 'NN'), ('p', 'NN'), ('u', 'JJ'), ('t', 'NN'), ('e', 'NN'), ('r', 'NN'), (' ', 'NNP'), ('s', 'VBZ'), ('c', 'NN'), ('i', 'NN'), ('e', 'VBP'), ('n', 'JJ'), ('c', 'NN'), ('e', 'NN'), (' ', 'NNP'), ('c', 'NN'), ('o', 'NN'), ('r', 'NN'), ('e', 'NN'), (' ', 'NNP'), ('c', 'VBZ'), ('o', 'JJ'), ('u', 'JJ'), ('r', 'NN'), ('s', 'NN'), ('e', 'NN'), ('.', '.'), (' ', 'NN'), ('I', 'PRP'), ('n', 'VBP'), ('i', 'JJ'), ('t', 'VBP'), ('i', 'VBP'), ('a', 'DT'), ('l', 'NN'), ('l', 'NN'), ('y', 'NN'), (' ', 'NN'), ('I', 'PRP'), (' ', 'VBP'), ('w', 'WRB'), ('a', 'DT'), ('s', 'NN'), (' ', 'NNP'), ('d', 'NN'), ('o', 'NN'), ('u', 'JJ'), ('b', 'NN'), ('t', 'NN'), ('f', 'NN'), ('u', 'JJ'), ('l', 'NN'), (' ', 'VBD'), ('a', 'DT'), ('b', 'NN'), ('o', 'NN'), ('u', 'JJ'), ('t', 'NN'), (' ', 'VBD'), ('a', 'DT'), (' ', 'JJ'), ('n', 'NN'), ('o', 'NN'), ('n', 'SYM'), ('-', ':'), ('C', 'NNP'), ('S', 'NNP'), (' ', 'NNP'), ('s', 'VBD'), ('t', 'JJ'), ('u', 'JJ'), ('d', 'NN'), ('e', 'NN'), ('n', 'JJ'), ('t', 'NN'), ('’', 'NNP'), ('s', 'VBZ'), (' ', 'VB'), ('a', 'DT'), ('p', 'NN'), ('p', 'NN'), ('r', 'NN'), ('o', 'IN'), ('a', 'DT'), ('c', 'NN'), ('h', 'NN'), (' ', 'VBZ'), ('a', 'DT'), ('n', 'JJ'), ('d', 'NN'), (' ', 'NNP'), ('g', 'NN'), ('r', 'NN'), ('a', 'DT'), ('s', 'JJ'), ('p', 'NN'), (' ', 'NNP'), ('o', 'VBZ'), ('f', 'JJ'), (' ', 'NNP'), ('t', 'NN'), ('h', 'NN'), ('e', 'NN'), (' ', 'NNP'), ('s', 'NN'), ('u', 'NN'), ('b', 'NN'), ('j', 'NN'), ('e', 'NN'), ('c', 'NN'), ('t', 'NN'), (',', ','), (' ', 'NNP'), ('b', 'NN'), ('u', 'NN'), ('t', 'NN'), (' ', 'NNP'), ('h', 'NN'), ('e', 'NN'), (' ', 'VBZ'), ('a', 'DT'), ('d', 'NN'), ('a', 'DT'), ('p', 'NN'), ('t', 'NN'), ('e', 'NN'), ('d', 'NN'), (' ', 'NNP'), ('t', 'NN'), ('o', 'NN'), (' ', 'NN'), ('i', 'NN'), ('t', 'VBP'), (' ', 'PDT'), ('a', 'DT'), ('s', 'JJ'), (' ', 'NN'), ('n', 'IN'), ('a', 'DT'), ('t', 'NN'), ('u', 'JJ'), ('r', 'NN'), ('a', 'DT'), ('l', 'NN'), ('l', 'NN'), ('y', 'NN'), (' ', 'VBZ'), ('a', 'DT'), ('s', 'JJ'), (' ', 'NN'), ('a', 'DT'), (' ', 'JJ'), ('f', 'NN'), ('i', 'NN'), ('s', 'VBP'), ('h', 'NN'), (' ', 'NNP'), ('t', 'NN'), ('o', 'NN'), (' ', 'NNP'), ('w', 'VBZ'), ('a', 'DT'), ('t', 'NN'), ('e', 'NN'), ('r', 'NN'), ('.', '.'), (' ', 'NN'), ('B', 'NNP'), ('y', 'NN'), (' ', 'NNP'), ('t', 'NN'), ('h', 'NN'), ('e', 'NN'), (' ', 'NNP'), ('t', 'NN'), ('i', 'NN'), ('m', 'VBP'), ('e', 'NN'), (' ', 'NNP'), ('t', 'NN'), ('h', 'NN'), ('e', 'NN'), (' ', 'NNP'), ('c', 'VBZ'), ('o', 'JJ'), ('u', 'JJ'), ('r', 'NN'), ('s', 'NN'), ('e', 'NN'), (' ', 'NNP'), ('c', 'VBZ'), ('a', 'DT'), ('m', 'JJ'), ('e', 'NN'), (' ', 'NNP'), ('t', 'NN'), ('o', 'NN'), (' ', 'VBZ'), ('a', 'DT'), ('n', 'JJ'), (' ', 'NN'), ('e', 'NN'), ('n', 'JJ'), ('d', 'NN'), (',', ','), (' ', 'NNP'), ('h', 'VBZ'), ('e', 'JJ'), (' ', 'NNP'), ('h', 'NN'), ('a', 'DT'), ('d', 'NN'), (' ', 'NN'), ('p', 'NN'), ('r', 'NN'), ('o', 'NN'), ('v', 'NN'), ('e', 'NN'), ('d', 'NN'), (' ', 'NNP'), ('h', 'NN'), ('i', 'NN'), ('s', 'VBP'), (' ', 'NNP'), ('m', 'NN'), ('e', 'NN'), ('t', 'NN'), ('t', 'NN'), ('l', 'NN'), ('e', 'NN'), ('.', '.'), (' ', 'CC'), ('\\n', 'JJ'), ('\\n', 'NN'), ('I', 'PRP'), (' ', 'VBP'), ('o', 'JJ'), ('b', 'NN'), ('s', 'NN'), ('e', 'NN'), ('r', 'NN'), ('v', 'NN'), ('e', 'NN'), ('d', 'NN'), (' ', 'NNP'), ('t', 'NN'), ('h', 'VBD'), ('a', 'DT'), ('t', 'NN'), (' ', 'NNP'), ('X', 'NNP'), (' ', 'NNP'), ('h', 'VBD'), ('a', 'DT'), ('d', 'NN'), (' ', 'VBZ'), ('a', 'DT'), (' ', 'JJ'), ('k', 'NN'), ('e', 'NN'), ('e', 'NN'), ('n', 'IN'), (' ', 'NN'), ('i', 'NN'), ('n', 'VBP'), ('t', 'NN'), ('e', 'NN'), ('r', 'NN'), ('e', 'NN'), ('s', 'NN'), ('t', 'NN'), (' ', 'VBZ'), ('a', 'DT'), ('n', 'JJ'), ('d', 'NN'), (' ', 'NNP'), ('w', 'VBZ'), ('a', 'DT'), ('s', 'JJ'), (' ', 'NN'), ('f', 'NN'), ('u', 'JJ'), ('l', 'NN'), ('l', 'NN'), ('y', 'NN'), (' ', 'NN'), ('i', 'NN'), ('n', 'VBP'), ('v', 'NN'), ('o', 'NN'), ('l', 'NN'), ('v', 'NN'), ('e', 'NN'), ('d', 'NN'), (' ', 'NN'), ('i', 'NN'), ('n', 'VBP'), (' ', 'JJ'), ('t', 'NN'), ('h', 'NN'), ('e', 'NN'), (' ', 'NNP'), ('c', 'VBZ'), ('o', 'JJ'), ('u', 'JJ'), ('r', 'NN'), ('s', 'NN'), ('e', 'NN'), (' ', 'NNP'), ('w', 'NN'), ('h', 'NN'), ('e', 'NN'), ('n', 'IN'), (' ', 'NN'), ('I', 'PRP'), (' ', 'VBP'), ('s', 'PDT'), ('a', 'DT'), ('w', 'NN'), (' ', 'NN'), ('h', 'NN'), ('i', 'JJ'), ('s', 'VBP'), (' ', 'JJ'), ('p', 'NN'), ('e', 'NN'), ('r', 'NN'), ('f', 'NN'), ('o', 'NN'), ('r', 'NN'), ('m', 'VBD'), ('a', 'DT'), ('n', 'JJ'), ('c', 'NN'), ('e', 'NN'), ('s', 'JJ'), (' ', 'NNP'), ('d', 'NN'), ('u', 'JJ'), ('r', 'NN'), ('i', 'NN'), ('n', 'VBP'), ('g', 'NN'), (' ', 'NNP'), ('t', 'NN'), ('h', 'NN'), ('e', 'NN'), (' ', 'NNP'), ('L', 'NNP'), ('a', 'DT'), ('b', 'NN'), (' ', 'NN'), ('s', 'NN'), ('e', 'NN'), ('s', 'VBD'), ('s', 'JJ'), ('i', 'NN'), ('o', 'VBP'), ('n', 'JJ'), ('s', 'NN'), (',', ','), (' ', 'NNP'), ('w', 'VBZ'), ('h', 'NN'), ('e', 'NN'), ('r', 'NN'), ('e', 'NN'), (' ', 'NNP'), ('h', 'NN'), ('e', 'NN'), (' ', 'NNP'), ('w', 'NN'), ('o', 'NN'), ('u', 'JJ'), ('l', 'NN'), ('d', 'NN'), (' ', 'NN'), ('b', 'NN'), ('e', 'NN'), (' ', 'VBZ'), ('a', 'DT'), ('b', 'NN'), ('l', 'NN'), ('e', 'NN'), (' ', 'NNP'), ('t', 'NN'), ('o', 'NN'), (' ', 'NNP'), ('g', 'NN'), ('r', 'NN'), ('a', 'DT'), ('s', 'JJ'), ('p', 'NN'), (' ', 'NNP'), ('n', 'CC'), ('e', 'JJ'), ('w', 'NN'), (' ', 'NNP'), ('c', 'VBZ'), ('o', 'JJ'), ('n', 'JJ'), ('c', 'NN'), ('e', 'NN'), ('p', 'NN'), ('t', 'NN'), ('s', 'NN'), (' ', 'NNP'), ('s', 'NN'), ('u', 'JJ'), ('c', 'NN'), ('h', 'NN'), (' ', 'VBZ'), ('a', 'DT'), ('s', 'JJ'), (' ', 'NN'), ('q', 'NN'), ('u', 'JJ'), ('e', 'NN'), ('r', 'NN'), ('y', 'NN'), (' ', 'NNP'), ('f', 'NN'), ('o', 'NN'), ('r', 'NN'), ('m', 'VBD'), ('a', 'DT'), ('t', 'NN'), ('i', 'NN'), ('o', 'VBP'), ('n', 'RB'), (' ', 'VBP'), ('a', 'DT'), ('n', 'JJ'), ('d', 'NN'), (' ', 'NNP'), ('j', 'NN'), ('o', 'NN'), ('i', 'NN'), ('n', 'VBP'), ('s', 'NN'), ('.', '.'), (' ', 'CC'), ('H', 'NNP'), ('e', 'VBP'), (' ', 'NNP'), ('h', 'VBD'), ('a', 'DT'), ('s', 'NN'), (' ', 'NN'), ('b', 'NN'), ('e', 'NN'), ('e', 'NN'), ('n', 'JJ'), (' ', 'NNP'), ('h', 'NN'), ('i', 'NN'), ('g', 'VBP'), ('h', 'NN'), ('l', 'NN'), ('y', 'NN'), (' ', 'VBZ'), ('a', 'DT'), ('c', 'JJ'), ('t', 'NN'), ('i', 'NN'), ('v', 'VBP'), ('e', 'NN'), (' ', 'NN'), ('i', 'NN'), ('n', 'VBP'), (' ', 'JJ'), ('t', 'NN'), ('h', 'NN'), ('e', 'NN'), (' ', 'NNP'), ('t', 'NN'), ('e', 'NN'), ('c', 'NN'), ('h', 'NN'), ('n', 'NN'), ('i', 'NN'), ('c', 'VBP'), ('a', 'DT'), ('l', 'NN'), (' ', 'NNP'), ('s', 'VBZ'), ('c', 'JJ'), ('e', 'NN'), ('n', 'JJ'), ('e', 'NN'), (' ', 'NNP'), ('o', 'VBZ'), ('f', 'JJ'), (' ', 'NNP'), ('o', 'NN'), ('u', 'JJ'), ('r', 'NN'), (' ', 'NNP'), ('c', 'VBZ'), ('o', 'JJ'), ('l', 'NN'), ('l', 'NN'), ('e', 'NN'), ('g', 'NN'), ('e', 'NN'), (' ', 'NNP'), ('t', 'NN'), ('o', 'NN'), ('o', 'NN'), (' ', 'NNP'), ('w', 'NN'), ('i', 'NN'), ('t', 'VBP'), ('h', 'NN'), (' ', 'NN'), ('h', 'NN'), ('i', 'JJ'), ('m', 'VBP'), (' ', 'JJ'), ('o', 'NN'), ('r', 'NN'), ('g', 'VBD'), ('a', 'DT'), ('n', 'NN'), ('i', 'NN'), ('z', 'VBP'), ('i', 'NN'), ('n', 'VBP'), ('g', 'NN'), (' ', 'NNP'), ('m', 'VBZ'), ('a', 'DT'), ('n', 'JJ'), ('y', 'NN'), (' ', 'NNP'), ('e', 'NN'), ('v', 'NN'), ('e', 'NN'), ('n', 'JJ'), ('t', 'NN'), ('s', 'NN'), ('.', '.'), ('\\n', 'VB'), ('\\n', 'IN'), ('A', 'DT'), ('s', 'JJ'), (' ', 'NN'), ('a', 'DT'), (' ', 'JJ'), ('p', 'NN'), ('a', 'DT'), ('r', 'NN'), ('t', 'NN'), (' ', 'NNP'), ('o', 'VBZ'), ('f', 'JJ'), (' ', 'NNP'), ('t', 'NN'), ('h', 'NN'), ('e', 'NN'), (' ', 'NNP'), ('c', 'VBZ'), ('o', 'JJ'), ('u', 'JJ'), ('r', 'NN'), ('s', 'NN'), ('e', 'NN'), (',', ','), (' ', 'NNP'), ('s', 'VBD'), ('t', 'JJ'), ('u', 'JJ'), ('d', 'NN'), ('e', 'NN'), ('n', 'JJ'), ('t', 'NN'), ('s', 'NN'), (' ', 'VBZ'), ('a', 'DT'), ('r', 'NN'), ('e', 'NN'), (' ', 'NNP'), ('r', 'NN'), ('e', 'NN'), ('q', 'IN'), ('u', 'JJ'), ('i', 'NN'), ('r', 'VBP'), ('e', 'NN'), ('d', 'NN'), (' ', 'NNP'), ('t', 'NN'), ('o', 'NN'), (' ', 'NNP'), ('d', 'NN'), ('e', 'NN'), ('v', 'NN'), ('e', 'NN'), ('l', 'NN'), ('o', 'NN'), ('p', 'NN'), (' ', 'VBZ'), ('a', 'DT'), (' ', 'NN'), ('p', 'NN'), ('r', 'NN'), ('o', 'IN'), ('j', 'NN'), ('e', 'NN'), ('c', 'NN'), ('t', 'NN'), (',', ','), (' ', 'NNP'), ('w', 'NN'), ('i', 'NN'), ('t', 'VBP'), ('h', 'NN'), (' ', 'VBP'), ('a', 'DT'), (' ', 'JJ'), ('f', 'NN'), ('u', 'JJ'), ('l', 'NN'), ('l', 'NN'), ('y', 'NN'), (' ', 'NNP'), ('f', 'NN'), ('u', 'JJ'), ('n', 'JJ'), ('c', 'NN'), ('t', 'NN'), ('i', 'NN'), ('o', 'VBP'), ('n', 'IN'), ('a', 'DT'), ('l', 'NN'), (' ', 'NNP'), ('D', 'NNP'), ('a', 'DT'), ('t', 'NN'), ('a', 'DT'), ('b', 'NN'), ('a', 'DT'), ('s', 'NN'), ('e', 'NN'), (' ', 'NNP'), ('S', 'NNP'), ('y', 'NNP'), ('s', 'VBD'), ('t', 'JJ'), ('e', 'NN'), ('m', 'NN'), (' ', 'NNP'), ('c', 'VBZ'), ('o', 'JJ'), ('n', 'IN'), ('s', 'NN'), ('i', 'NN'), ('s', 'VBP'), ('t', 'NN'), ('i', 'NN'), ('n', 'VBP'), ('g', 'NN'), (' ', 'NNP'), ('o', 'VBZ'), ('f', 'JJ'), (' ', 'NNP'), ('t', 'NN'), ('h', 'NN'), ('e', 'NN'), (' ', 'NNP'), ('c', 'VBZ'), ('o', 'JJ'), ('n', 'JJ'), ('c', 'NN'), ('e', 'NN'), ('p', 'NN'), ('t', 'NN'), ('s', 'NN'), (' ', 'NNP'), ('l', 'NN'), ('e', 'VBZ'), ('a', 'DT'), ('r', 'NN'), ('n', 'JJ'), ('t', 'NN'), (' ', 'NNP'), ('t', 'NN'), ('h', 'NN'), ('r', 'NN'), ('o', 'NN'), ('u', 'JJ'), ('g', 'NN'), ('h', 'NN'), ('o', 'JJ'), ('u', 'JJ'), ('t', 'NN'), (' ', 'NNP'), ('t', 'NN'), ('h', 'NN'), ('e', 'NN'), (' ', 'NNP'), ('s', 'NN'), ('e', 'NN'), ('m', 'NN'), ('e', 'NN'), ('s', 'NN'), ('t', 'NN'), ('e', 'NN'), ('r', 'NN'), ('.', '.'), (' ', 'CC'), ('D', 'NNP'), ('e', 'VBP'), ('s', 'JJ'), ('p', 'NN'), ('i', 'NN'), ('t', 'VBP'), ('e', 'NN'), (' ', 'NNP'), ('X', 'NNP'), (' ', 'NNP'), ('n', 'JJ'), ('o', 'NN'), ('t', 'NN'), (' ', 'NN'), ('b', 'IN'), ('e', 'NN'), ('i', 'NN'), ('n', 'VBP'), ('g', 'NN'), (' ', 'NN'), ('f', 'NN'), ('r', 'NN'), ('o', 'IN'), ('m', 'NN'), (' ', 'VBP'), ('a', 'DT'), (' ', 'JJ'), ('c', 'NN'), ('o', 'NN'), ('m', 'NN'), ('p', 'NN'), ('u', 'JJ'), ('t', 'NN'), ('e', 'NN'), ('r', 'NN'), (' ', 'NNP'), ('s', 'VBZ'), ('c', 'NN'), ('i', 'NN'), ('e', 'VBP'), ('n', 'JJ'), ('c', 'NN'), ('e', 'NN'), (' ', 'NNP'), ('b', 'VBZ'), ('a', 'DT'), ('c', 'NN'), ('k', 'NN'), ('g', 'NN'), ('r', 'NN'), ('o', 'NN'), ('u', 'JJ'), ('n', 'JJ'), ('d', 'NN'), (',', ','), (' ', 'JJ'), ('h', 'NN'), ('i', 'NN'), ('s', 'VBP'), (' ', 'NN'), ('p', 'NN'), ('r', 'NN'), ('o', 'IN'), ('j', 'NN'), ('e', 'NN'), ('c', 'VBP'), ('t', 'NN'), (' ', 'NNP'), ('d', 'NN'), ('i', 'NN'), ('d', 'VBP'), (' ', 'JJ'), ('n', 'JJ'), ('o', 'NN'), ('t', 'NN'), (' ', 'NNP'), ('l', 'VBZ'), ('a', 'DT'), ('n', 'JJ'), ('g', 'NN'), ('u', 'NN'), ('i', 'NN'), ('s', 'VBP'), ('h', 'NN'), ('.', '.'), (' ', 'CC'), ('H', 'NNP'), ('e', 'VBP'), (' ', 'NNP'), ('w', 'NN'), ('e', 'NN'), ('n', 'JJ'), ('t', 'NN'), (' ', 'VBD'), ('a', 'DT'), ('b', 'NN'), ('o', 'NN'), ('v', 'NN'), ('e', 'NN'), (' ', 'VBZ'), ('a', 'DT'), ('n', 'JJ'), ('d', 'NN'), (' ', 'NN'), ('b', 'NN'), ('e', 'NN'), ('y', 'NN'), ('o', 'NN'), ('n', 'JJ'), ('d', 'NN'), (' ', 'NNP'), ('t', 'NN'), ('o', 'NN'), (' ', 'NNP'), ('m', 'VBZ'), ('a', 'DT'), ('k', 'NN'), ('e', 'NN'), (' ', 'VBZ'), ('a', 'DT'), (' ', 'NN'), ('p', 'NN'), ('r', 'NN'), ('o', 'NN'), ('f', 'NN'), ('e', 'NN'), ('s', 'VBD'), ('s', 'JJ'), ('i', 'NN'), ('o', 'VBP'), ('n', 'IN'), ('a', 'DT'), ('l', 'NN'), (' ', 'NNP'), ('d', 'VBZ'), ('a', 'DT'), ('t', 'NN'), ('a', 'DT'), ('b', 'NN'), ('a', 'DT'), ('s', 'NN'), ('e', 'NN'), (' ', 'NNP'), ('d', 'NN'), ('e', 'NN'), ('s', 'NN'), ('i', 'NN'), ('g', 'VBP'), ('n', 'NN'), (',', ','), (' ', 'NNP'), ('w', 'VBP'), ('h', 'NN'), ('i', 'JJ'), ('c', 'VBP'), ('h', 'JJ'), (' ', 'NN'), ('i', 'NN'), ('n', 'VBP'), ('c', 'NN'), ('l', 'NN'), ('u', 'JJ'), ('d', 'NN'), ('e', 'NN'), ('d', 'NN'), (' ', 'VBZ'), ('a', 'DT'), ('n', 'JJ'), (' ', 'NN'), ('‘', 'VBD'), ('A', 'NNP'), ('u', 'JJ'), ('t', 'NN'), ('o', 'IN'), ('-', ':'), ('I', 'PRP'), ('n', 'VBP'), ('c', 'JJ'), ('r', 'NN'), ('e', 'NN'), ('m', 'NN'), ('e', 'NN'), ('n', 'JJ'), ('t', 'NN'), ('’', 'NNP'), (' ', 'NNP'), ('f', 'VBZ'), ('e', 'VB'), ('a', 'DT'), ('t', 'NN'), ('u', 'JJ'), ('r', 'NN'), ('e', 'NN'), (' ', 'NNP'), ('u', 'JJ'), ('s', 'NN'), ('i', 'NN'), ('n', 'VBP'), ('g', 'NN'), (' ', 'VBP'), ('a', 'DT'), (' ', 'JJ'), ('P', 'NNP'), ('L', 'NNP'), ('/', 'NNP'), ('S', 'NNP'), ('Q', 'NNP'), ('L', 'NNP'), (' ', 'NNP'), ('s', 'VBD'), ('e', 'JJ'), ('q', 'NN'), ('u', 'JJ'), ('e', 'NN'), ('n', 'JJ'), ('c', 'NN'), ('e', 'NN'), (' ', 'NNP'), ('w', 'NN'), ('r', 'NN'), ('i', 'NN'), ('t', 'VBP'), ('t', 'NN'), ('e', 'NN'), ('n', 'JJ'), (' ', 'NN'), ('b', 'NN'), ('y', 'NN'), (' ', 'NNP'), ('h', 'NN'), ('i', 'NN'), ('m', 'NN'), (',', ','), (' ', 'NNP'), ('b', 'NN'), ('u', 'NN'), ('l', 'NN'), ('k', 'NN'), (' ', 'NNP'), ('i', 'NN'), ('n', 'VBP'), ('s', 'NN'), ('e', 'NN'), ('r', 'NN'), ('t', 'NN'), ('i', 'NN'), ('o', 'VBP'), ('n', 'IN'), (' ', 'NN'), ('i', 'NN'), ('n', 'VBP'), ('t', 'NN'), ('o', 'NN'), (' ', 'NNP'), ('t', 'NN'), ('h', 'NN'), ('e', 'NN'), (' ', 'NNP'), ('t', 'VBZ'), ('a', 'DT'), ('b', 'NN'), ('l', 'NN'), ('e', 'NN'), (' ', 'VBZ'), ('a', 'DT'), ('n', 'JJ'), ('d', 'NN'), (' ', 'NNP'), ('o', 'VBZ'), ('t', 'JJ'), ('h', 'NN'), ('e', 'NN'), ('r', 'NN'), (' ', 'NNP'), ('f', 'VBZ'), ('e', 'VB'), ('a', 'DT'), ('t', 'NN'), ('u', 'JJ'), ('r', 'NN'), ('e', 'NN'), ('s', 'NN'), ('.', '.'), ('\\n', 'JJ'), ('\\n', 'NN'), ('I', 'PRP'), (' ', 'VBP'), ('w', 'WRB'), ('a', 'DT'), ('s', 'NN'), (' ', 'NNP'), ('p', 'NN'), ('l', 'NN'), ('e', 'VBZ'), ('a', 'DT'), ('s', 'JJ'), ('e', 'NN'), ('d', 'NN'), (' ', 'NNP'), ('t', 'NN'), ('o', 'NN'), (' ', 'NNP'), ('k', 'NN'), ('n', 'NNP'), ('o', 'VBZ'), ('w', 'JJ'), (' ', 'NNP'), ('t', 'NN'), ('h', 'VBD'), ('a', 'DT'), ('t', 'NN'), (' ', 'NN'), ('h', 'NN'), ('e', 'NN'), (' ', 'VBZ'), ('a', 'DT'), ('p', 'NN'), ('p', 'NN'), ('l', 'NN'), ('i', 'NN'), ('e', 'VBP'), ('d', 'NN'), (' ', 'NNP'), ('t', 'NN'), ('h', 'NN'), ('e', 'NN'), (' ', 'NNP'), ('c', 'VBZ'), ('o', 'JJ'), ('n', 'JJ'), ('c', 'NN'), ('e', 'NN'), ('p', 'NN'), ('t', 'NN'), ('s', 'NN'), (' ', 'NN'), ('i', 'NN'), ('n', 'VBP'), (' ', 'IN'), ('h', 'NN'), ('i', 'NN'), ('s', 'VBP'), (' ', 'NN'), ('i', 'NN'), ('n', 'VBP'), ('t', 'NN'), ('e', 'NN'), ('r', 'NN'), ('n', 'JJ'), ('s', 'NN'), ('h', 'NN'), ('i', 'JJ'), ('p', 'VBP'), (' ', 'JJ'), ('e', 'NN'), ('x', 'NNP'), ('t', 'NN'), ('e', 'NN'), ('n', 'IN'), ('s', 'NN'), ('i', 'NN'), ('v', 'VBP'), ('e', 'NN'), ('l', 'NN'), ('y', 'NN'), (' ', 'NNP'), ('t', 'NN'), ('o', 'NN'), (' ', 'NN'), ('b', 'IN'), ('u', 'JJ'), ('i', 'NN'), ('l', 'VBP'), ('d', 'NN'), (' ', 'VBP'), ('a', 'DT'), (' ', 'NN'), ('p', 'NN'), ('r', 'NN'), ('o', 'NN'), ('f', 'NN'), ('e', 'NN'), ('s', 'VBD'), ('s', 'JJ'), ('i', 'NN'), ('o', 'VBP'), ('n', 'IN'), ('a', 'DT'), ('l', 'NN'), (' ', 'NNP'), ('t', 'NN'), ('o', 'NN'), ('o', 'NN'), ('l', 'NN'), (' ', 'NNP'), ('f', 'NN'), ('o', 'NN'), ('r', 'NN'), (' ', 'NN'), ('I', 'PRP'), ('n', 'VBP'), ('t', 'JJ'), ('e', 'NN'), ('l', 'NN'), ('l', 'NN'), ('e', 'NN'), ('c', 'VBP'), ('t', 'NN'), (' ', 'NNP'), ('D', 'NNP'), ('e', 'VBP'), ('s', 'NN'), ('i', 'NN'), ('g', 'VBP'), ('n', 'RB'), (' ', 'VBP'), ('A', 'NNP'), ('r', 'NN'), ('e', 'NN'), ('n', 'IN'), ('a', 'DT'), ('.', '.'), (' ', 'NN'), ('H', 'NNP'), ('e', 'NN'), (' ', 'NNP'), ('d', 'NN'), ('e', 'NN'), ('s', 'NN'), ('i', 'NN'), ('g', 'VBP'), ('n', 'JJ'), ('e', 'NN'), ('d', 'NN'), (' ', 'NNP'), ('t', 'NN'), ('h', 'NN'), ('i', 'JJ'), ('s', 'VBP'), (' ', 'JJ'), ('t', 'NN'), ('o', 'NN'), ('o', 'NN'), ('l', 'NN'), (' ', 'NNP'), ('t', 'NN'), ('o', 'NN'), (' ', 'NNP'), ('m', 'VBZ'), ('a', 'DT'), ('k', 'NN'), ('e', 'NN'), (' ', 'NNP'), ('t', 'NN'), ('h', 'NN'), ('e', 'NN'), (' ', 'NNP'), ('p', 'NN'), ('r', 'NN'), ('o', 'IN'), ('c', 'JJ'), ('e', 'NN'), ('s', 'NN'), ('s', 'NN'), (' ', 'NNP'), ('o', 'VBZ'), ('f', 'JJ'), (' ', 'NNP'), ('c', 'NN'), ('o', 'NN'), ('n', 'IN'), ('f', 'NN'), ('i', 'NN'), ('g', 'VBP'), ('u', 'JJ'), ('r', 'NN'), ('i', 'NN'), ('n', 'VBP'), ('g', 'NN'), (' ', 'VBP'), ('a', 'DT'), (' ', 'JJ'), ('L', 'NNP'), ('o', 'NN'), ('g', 'NN'), ('i', 'NN'), ('c', 'VBP'), ('a', 'DT'), ('l', 'NN'), (' ', 'NNP'), ('D', 'NNP'), ('a', 'DT'), ('t', 'NN'), ('a', 'DT'), (' ', 'JJ'), ('M', 'NNP'), ('o', 'NN'), ('d', 'NN'), ('e', 'NN'), ('l', 'NN'), (' ', 'NNP'), ('e', 'VBZ'), ('a', 'DT'), ('s', 'NN'), ('i', 'NN'), ('e', 'VBP'), ('r', 'NN'), (' ', 'VBP'), ('a', 'DT'), ('n', 'JJ'), ('d', 'NN'), (' ', 'NNP'), ('m', 'NN'), ('u', 'JJ'), ('c', 'NN'), ('h', 'NN'), (' ', 'NNP'), ('f', 'VBZ'), ('a', 'DT'), ('s', 'JJ'), ('t', 'NN'), ('e', 'NN'), ('r', 'NN'), ('.', '.'), (' ', 'NN'), ('I', 'PRP'), ('t', 'VBP'), (' ', 'JJ'), ('c', 'NN'), ('o', 'NN'), ('n', 'IN'), ('s', 'NN'), ('i', 'NN'), ('s', 'VBP'), ('t', 'NN'), ('e', 'NN'), ('d', 'NN'), (' ', 'NNP'), ('o', 'VBZ'), ('f', 'JJ'), (' ', 'IN'), ('a', 'DT'), (' ', 'JJ'), ('U', 'NNP'), ('s', 'NN'), ('e', 'NN'), ('r', 'NN'), (' ', 'NN'), ('I', 'PRP'), ('n', 'VBP'), ('t', 'JJ'), ('e', 'NN'), ('r', 'NN'), ('f', 'VBD'), ('a', 'DT'), ('c', 'JJ'), ('e', 'NN'), (' ', 'NNP'), ('(', '('), ('U', 'NNP'), ('I', 'PRP'), (')', ')'), (' ', 'VBP'), ('t', 'JJ'), ('h', 'NN'), ('a', 'DT'), ('t', 'NN'), (' ', 'NNP'), ('c', 'VBZ'), ('a', 'DT'), ('n', 'JJ'), (' ', 'NN'), ('r', 'NN'), ('e', 'NN'), ('p', 'IN'), ('l', 'NN'), ('i', 'NN'), ('c', 'VBP'), ('a', 'DT'), ('t', 'NN'), ('e', 'NN'), (' ', 'NNP'), ('b', 'VBZ'), ('a', 'DT'), ('c', 'NN'), ('k', 'SYM'), ('-', ':'), ('e', 'NN'), ('n', 'JJ'), ('d', 'NN'), (' ', 'NNP'), ('t', 'VBZ'), ('a', 'DT'), ('s', 'JJ'), ('k', 'NN'), ('s', 'VBD'), (' ', 'NNP'), ('s', 'NN'), ('u', 'JJ'), ('c', 'NN'), ('h', 'NN'), (' ', 'VBZ'), ('a', 'DT'), ('s', 'JJ'), (' ', 'NN'), ('i', 'NN'), ('n', 'VBP'), ('s', 'NN'), ('e', 'NN'), ('r', 'NN'), ('t', 'NN'), ('i', 'NN'), ('n', 'VBP'), ('g', 'NN'), (' ', 'NNP'), ('d', 'VBZ'), ('a', 'DT'), ('t', 'NN'), ('a', 'DT'), (' ', 'NN'), ('i', 'NN'), ('n', 'VBP'), (' ', 'PDT'), ('a', 'DT'), (' ', 'NNP'), ('d', 'NN'), ('a', 'DT'), ('t', 'NN'), ('a', 'DT'), ('b', 'NN'), ('a', 'DT'), ('s', 'NN'), ('e', 'NN'), (' ', 'VBZ'), ('a', 'DT'), ('t', 'NN'), (' ', 'NNP'), ('t', 'NN'), ('h', 'NN'), ('e', 'NN'), (' ', 'NNP'), ('c', 'VBZ'), ('l', 'NN'), ('i', 'JJ'), ('c', 'VBP'), ('k', 'NN'), (' ', 'NNP'), ('o', 'VBZ'), ('f', 'JJ'), (' ', 'IN'), ('a', 'DT'), (' ', 'NN'), ('b', 'NN'), ('u', 'JJ'), ('t', 'NN'), ('t', 'NN'), ('o', 'NN'), ('n', 'NN'), ('.', '.'), (' ', 'JJ'), ('H', 'NNP'), ('i', 'NN'), ('s', 'VBP'), (' ', 'NNP'), ('t', 'VBP'), ('a', 'DT'), ('s', 'NN'), ('k', 'NN'), (' ', 'NNP'), ('w', 'VBZ'), ('a', 'DT'), ('s', 'JJ'), (' ', 'NNP'), ('c', 'NN'), ('u', 'JJ'), ('t', 'NN'), (' ', 'NNP'), ('o', 'VBZ'), ('u', 'JJ'), ('t', 'NN'), (' ', 'NNP'), ('f', 'NN'), ('o', 'NN'), ('r', 'NN'), (' ', 'NNP'), ('h', 'NN'), ('i', 'NN'), ('m', 'VBP'), (' ', 'PDT'), ('a', 'DT'), ('s', 'JJ'), (' ', 'NN'), ('t', 'NN'), ('h', 'NN'), ('e', 'NN'), (' ', 'NNP'), ('t', 'NN'), ('o', 'NN'), ('o', 'NN'), ('l', 'NN'), (' ', 'NNP'), ('w', 'VBZ'), ('a', 'DT'), ('s', 'NN'), (' ', 'NN'), ('b', 'IN'), ('e', 'NN'), ('i', 'NN'), ('n', 'VBP'), ('g', 'NN'), (' ', 'NN'), ('b', 'IN'), ('u', 'JJ'), ('i', 'NN'), ('l', 'VBP'), ('t', 'NN'), (' ', 'NNP'), ('f', 'NN'), ('o', 'NN'), ('r', 'NN'), (' ', 'NNP'), ('J', 'NNP'), ('.', '.'), ('P', 'NNP'), ('.', '.'), (' ', 'NNP'), ('M', 'NNP'), ('o', 'MD'), ('r', 'VB'), ('g', 'VB'), ('a', 'DT'), ('n', 'JJ'), (' ', 'NNP'), ('C', 'NNP'), ('h', 'VBD'), ('a', 'DT'), ('s', 'JJ'), ('e', 'NN'), (' ', 'VBD'), ('a', 'DT'), ('s', 'NN'), (' ', 'VBZ'), ('a', 'DT'), (' ', 'JJ'), ('c', 'NN'), ('l', 'NN'), ('i', 'NN'), ('e', 'VBP'), ('n', 'JJ'), ('t', 'NN'), (' ', 'VBD'), ('a', 'DT'), ('n', 'JJ'), ('d', 'NN'), (' ', 'NNP'), ('h', 'NN'), ('e', 'NN'), ('n', 'JJ'), ('c', 'NN'), ('e', 'NN'), (' ', 'NNP'), ('t', 'NN'), ('h', 'NN'), ('e', 'NN'), ('r', 'NN'), ('e', 'NN'), (' ', 'NNP'), ('w', 'VBZ'), ('a', 'DT'), ('s', 'JJ'), (' ', 'NN'), ('n', 'JJ'), ('o', 'NN'), (' ', 'NNP'), ('r', 'NN'), ('o', 'NN'), ('o', 'IN'), ('m', 'NN'), (' ', 'NNP'), ('f', 'NN'), ('o', 'NN'), ('r', 'NN'), (' ', 'NNP'), ('e', 'NN'), ('r', 'NN'), ('r', 'NN'), ('o', 'NN'), ('r', 'NN'), ('.', '.'), (' ', 'NN'), ('I', 'PRP'), (' ', 'VBP'), ('a', 'DT'), ('m', 'NN'), (' ', 'NN'), ('p', 'NN'), ('r', 'NN'), ('o', 'NN'), ('u', 'JJ'), ('d', 'NN'), (' ', 'NNP'), ('t', 'NN'), ('o', 'NN'), (' ', 'NNP'), ('s', 'VBZ'), ('a', 'DT'), ('y', 'NN'), (' ', 'NNP'), ('t', 'NN'), ('h', 'VBD'), ('a', 'DT'), ('t', 'NN'), (' ', 'NNP'), ('t', 'NN'), ('h', 'NN'), ('e', 'NN'), (' ', 'NNP'), ('t', 'NN'), ('o', 'NN'), ('o', 'NN'), ('l', 'NN'), (',', ','), (' ', 'NNP'), ('w', 'VBP'), ('h', 'NN'), ('i', 'JJ'), ('c', 'VBP'), ('h', 'JJ'), (' ', 'NNP'), ('h', 'NN'), ('e', 'NN'), (' ', 'NNP'), ('b', 'NN'), ('u', 'NN'), ('i', 'NN'), ('l', 'VBP'), ('t', 'NN'), (' ', 'NNP'), ('o', 'VBZ'), ('v', 'FW'), ('e', 'FW'), ('r', 'NN'), (' ', 'VBZ'), ('a', 'DT'), (' ', 'JJ'), ('c', 'NN'), ('o', 'NN'), ('u', 'JJ'), ('r', 'NN'), ('s', 'NN'), ('e', 'NN'), (' ', 'NNP'), ('o', 'VBZ'), ('f', 'JJ'), (' ', 'NNP'), ('t', 'NN'), ('w', 'NN'), ('o', 'NN'), (' ', 'NNP'), ('m', 'NN'), ('o', 'NN'), ('n', 'JJ'), ('t', 'NN'), ('h', 'NN'), ('s', 'NN'), (',', ','), (' ', 'NNP'), ('w', 'VBZ'), ('a', 'DT'), ('s', 'JJ'), (' ', 'NN'), ('p', 'NN'), ('u', 'JJ'), ('s', 'NN'), ('h', 'NN'), ('e', 'NN'), ('d', 'NN'), (' ', 'NNP'), ('t', 'NN'), ('o', 'NN'), (' ', 'NNP'), ('p', 'NN'), ('r', 'NN'), ('o', 'NN'), ('d', 'NN'), ('u', 'JJ'), ('c', 'NN'), ('t', 'NN'), ('i', 'NN'), ('o', 'VBP'), ('n', 'RB'), (' ', 'VBP'), ('a', 'DT'), ('t', 'NN'), (' ', 'NNP'), ('t', 'NN'), ('h', 'NN'), ('e', 'NN'), (' ', 'NNP'), ('e', 'NN'), ('n', 'RB'), ('d', 'JJ'), (' ', 'NNP'), ('o', 'NN'), ('f', 'NN'), (' ', 'NNP'), ('h', 'NN'), ('i', 'NN'), ('s', 'VBP'), (' ', 'NN'), ('i', 'NN'), ('n', 'VBP'), ('t', 'NN'), ('e', 'NN'), ('r', 'NN'), ('n', 'JJ'), ('s', 'NN'), ('h', 'NN'), ('i', 'JJ'), ('p', 'NN'), ('.', '.'), ('\\n', 'CC'), ('\\n', 'JJ'), ('X', 'NNP'), (' ', 'NNP'), ('m', 'VBZ'), ('a', 'DT'), ('k', 'NN'), ('e', 'NN'), ('s', 'NN'), (' ', 'VBZ'), ('a', 'DT'), (' ', 'JJ'), ('s', 'NN'), ('t', 'NN'), ('r', 'NN'), ('o', 'NN'), ('n', 'JJ'), ('g', 'NN'), (' ', 'NNP'), ('c', 'VBZ'), ('a', 'DT'), ('n', 'JJ'), ('d', 'NN'), ('i', 'NN'), ('d', 'VBP'), ('a', 'DT'), ('t', 'NN'), ('e', 'NN'), (' ', 'NNP'), ('f', 'NN'), ('o', 'NN'), ('r', 'NN'), (' ', 'NNP'), ('y', 'NNP'), ('o', 'MD'), ('u', 'VB'), ('r', 'NN'), (' ', 'NNP'), ('M', 'NNP'), ('a', 'DT'), ('s', 'JJ'), ('t', 'NN'), ('e', 'NN'), ('r', 'NN'), (\"'\", \"''\"), ('s', 'JJ'), (' ', 'NNP'), ('p', 'NN'), ('r', 'NN'), ('o', 'NN'), ('g', 'NN'), ('r', 'VBZ'), ('a', 'DT'), ('m', 'NN'), (' ', 'NNP'), ('m', 'VBZ'), ('a', 'DT'), ('j', 'NN'), ('o', 'IN'), ('r', 'NN'), ('i', 'NN'), ('n', 'VBP'), ('g', 'NN'), (' ', 'NN'), ('i', 'NN'), ('n', 'VBP'), (' ', 'NNP'), ('C', 'NNP'), ('o', 'MD'), ('m', 'VB'), ('p', 'JJ'), ('u', 'JJ'), ('t', 'NN'), ('e', 'NN'), ('r', 'NN'), (' ', 'NNP'), ('S', 'NNP'), ('c', 'NN'), ('i', 'NN'), ('e', 'VBP'), ('n', 'JJ'), ('c', 'NN'), ('e', 'NN'), ('.', '.'), (' ', 'JJ'), ('H', 'NNP'), ('i', 'NN'), ('s', 'VBP'), (' ', 'NN'), ('p', 'NN'), ('r', 'NN'), ('o', 'NN'), ('p', 'NN'), ('o', 'NN'), ('s', 'NN'), ('e', 'NN'), ('d', 'NN'), (' ', 'NNP'), ('c', 'VBZ'), ('a', 'DT'), ('n', 'JJ'), ('d', 'NN'), ('i', 'NN'), ('d', 'VBP'), ('a', 'DT'), ('t', 'NN'), ('u', 'JJ'), ('r', 'NN'), ('e', 'NN'), (' ', 'NNP'), ('h', 'VBZ'), ('a', 'DT'), ('s', 'JJ'), (' ', 'NNP'), ('m', 'NN'), ('y', 'NN'), (' ', 'NNP'), ('e', 'NN'), ('n', 'RB'), ('d', 'JJ'), ('o', 'NN'), ('r', 'NN'), ('s', 'NN'), ('e', 'NN'), ('m', 'NN'), ('e', 'NN'), ('n', 'JJ'), ('t', 'NN'), (' ', 'NNP'), ('w', 'NN'), ('i', 'NN'), ('t', 'VBP'), ('h', 'NN'), ('o', 'NN'), ('u', 'JJ'), ('t', 'NN'), (' ', 'VBD'), ('a', 'DT'), ('n', 'JJ'), ('y', 'NN'), (' ', 'NNP'), ('r', 'NN'), ('e', 'NN'), ('s', 'NN'), ('e', 'NN'), ('r', 'NN'), ('v', 'IN'), ('a', 'DT'), ('t', 'NN'), ('i', 'NN'), ('o', 'VBP'), ('n', 'JJ'), ('s', 'NN'), (' ', 'NNP'), ('w', 'NN'), ('h', 'VBD'), ('a', 'DT'), ('t', 'NN'), ('s', 'NN'), ('o', 'NN'), ('e', 'NN'), ('v', 'NN'), ('e', 'NN'), ('r', 'NN'), ('.', '.')])"
      ]
     },
     "execution_count": 8,
     "metadata": {},
     "output_type": "execute_result"
    }
   ],
   "source": [
    "lor1_chunk"
   ]
  },
  {
   "cell_type": "markdown",
   "metadata": {},
   "source": [
    "## LoR Sample 2.docx chunking"
   ]
  },
  {
   "cell_type": "code",
   "execution_count": 10,
   "metadata": {
    "ExecuteTime": {
     "end_time": "2020-06-25T07:56:38.283595Z",
     "start_time": "2020-06-25T07:56:38.258608Z"
    }
   },
   "outputs": [],
   "source": [
    "import textract\n",
    "\n",
    "text1 = textract.process('LoR Sample 2.docx')\n",
    "text1 = text1.decode(\"utf-8\") "
   ]
  },
  {
   "cell_type": "code",
   "execution_count": 12,
   "metadata": {
    "ExecuteTime": {
     "end_time": "2020-06-25T07:56:46.072627Z",
     "start_time": "2020-06-25T07:56:46.055640Z"
    }
   },
   "outputs": [
    {
     "name": "stdout",
     "output_type": "stream",
     "text": [
      "LETTER OF RECOMMENDATION\n",
      "\n",
      "I am happy to write this letter of recommendation for AAA who intends to pursue a Master's degree at your prestigious university. I have known him only for the past year and it was easy to observe that he is a quick learner and hardworking. I handled the course Natural Language Processing for him during his sixth semester.  \n",
      "\n",
      "He has also displayed his dedication and willingness to learn on numerous occasions. On top of this, he is also very efficient in completing any task that is given to him, never one to complain irrespective of any circumstances. I remember him submitting NLP weekly tasks well ahead of the specified time period. Among the several tasks that were given from time to time, including stop word removal, stemming, synsets, tweet tokenizer, working with porter stemmer, snowball stemmer and lancaster stemmer, word lemmatizer, count vectorizer and cosine similarity, a few of them were quite challenging. One, in particular, training and testing gender-based feature sets which he had a lot of trouble understanding. However, along with my help and a few of his friends, he ultimately got the job done. Another quality that caught my attention during my several interactions with him is that he is very percipient. He tends to relate everything that is taught in class to real-time situations. There was this one instance when the topic of n-gram linguistic models came up, he was very quick to point out that this forms the basis for numerous real-world applications such as spell check and autocomplete. He is also a keen observer often pointing out the mistakes even in his work.\n",
      "\n",
      "During the time that I have known him, he had encountered various challenges which he had addressed through his well-directed efforts. I also learnt that he is capable of thinking out of the box as was the case when he started putting forth his ideas for his project. After quite a few briefings, he decided to choose the topic \"Understanding word to vectors\". He had initially considered the TF-IDF scores concerning different input documents or statements, after which he took the time to produce the word embeddings for each document CBOW models. \n",
      "\n",
      "Apart from his technical skills, his talent for writing and documentation were also quite evident when I had a look at his project report. The diversity in his repertoire is what struck me the most. Hence, I believe that AAA has the necessary set of skills and the perfect attitude to perform well in his master’s programme. I am confident that he will become an important asset to your university. I have no qualms or reservations in recommending him for admission at your esteemed university. You may feel free to get in touch with me regarding any queries with respect to his recommendation.\n"
     ]
    }
   ],
   "source": [
    "print(text1)"
   ]
  },
  {
   "cell_type": "code",
   "execution_count": null,
   "metadata": {
    "ExecuteTime": {
     "start_time": "2020-06-25T07:57:01.336Z"
    }
   },
   "outputs": [],
   "source": [
    "result_lor2 = cp1.parse(nltk.pos_tag(text1))\n",
    "result_lor2"
   ]
  },
  {
   "cell_type": "code",
   "execution_count": null,
   "metadata": {},
   "outputs": [],
   "source": [
    "result.draw()"
   ]
  },
  {
   "cell_type": "code",
   "execution_count": null,
   "metadata": {
    "ExecuteTime": {
     "start_time": "2020-06-25T07:57:04.855Z"
    }
   },
   "outputs": [],
   "source": [
    "lor2_chunk = nltk.ne_chunk(nltk.pos_tag(text1))\n",
    "lor2_chunk"
   ]
  },
  {
   "cell_type": "code",
   "execution_count": null,
   "metadata": {},
   "outputs": [],
   "source": []
  }
 ],
 "metadata": {
  "kernelspec": {
   "display_name": "Python 3",
   "language": "python",
   "name": "python3"
  },
  "toc": {
   "base_numbering": 1,
   "nav_menu": {},
   "number_sections": true,
   "sideBar": true,
   "skip_h1_title": false,
   "title_cell": "Table of Contents",
   "title_sidebar": "Contents",
   "toc_cell": false,
   "toc_position": {},
   "toc_section_display": true,
   "toc_window_display": false
  }
 },
 "nbformat": 4,
 "nbformat_minor": 4
}
